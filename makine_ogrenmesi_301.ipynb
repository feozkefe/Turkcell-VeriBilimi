{
 "cells": [
  {
   "cell_type": "markdown",
   "metadata": {},
   "source": [
    "# Makine Öğrenmesi / 301: Doğrusal Olmayan Regresyon Modelleri"
   ]
  },
  {
   "cell_type": "markdown",
   "metadata": {},
   "source": [
    "## K En Yakın Komşu"
   ]
  },
  {
   "cell_type": "markdown",
   "metadata": {},
   "source": [
    "### K En Yakın Komşu Model ve Tahmini\n"
   ]
  },
  {
   "cell_type": "code",
   "execution_count": 8,
   "metadata": {},
   "outputs": [],
   "source": [
    "import numpy as np\n",
    "import pandas as pd \n",
    "from sklearn.metrics import mean_squared_error,r2_score\n",
    "from sklearn.model_selection import train_test_split,GridSearchCV\n",
    "from sklearn import model_selection\n",
    "import matplotlib.pyplot as plt\n",
    "from sklearn.linear_model import RidgeCV,LassoCV,ElasticNetCV\n",
    "from sklearn.preprocessing import scale\n",
    "from sklearn.preprocessing import StandardScaler\n",
    "from sklearn.linear_model import LinearRegression\n",
    "from sklearn.tree import DecisionTreeRegressor\n",
    "from sklearn.neighbors import KNeighborsRegressor\n",
    "from sklearn.neural_network import MLPRegressor\n",
    "from sklearn.ensemble import RandomForestRegressor\n",
    "from sklearn.ensemble import GradientBoostingRegressor\n",
    "from sklearn import neighbors\n",
    "from sklearn.svm import SVR\n",
    "\n",
    "from warnings import filterwarnings\n",
    "filterwarnings(\"ignore\")"
   ]
  },
  {
   "cell_type": "code",
   "execution_count": 9,
   "metadata": {},
   "outputs": [],
   "source": [
    "#Veri Seti\n",
    "df=pd.read_csv(\"reading_data/Hitters.csv\")\n",
    "df=df.dropna()\n",
    "dms=pd.get_dummies(df[[\"League\",\"Division\",\"NewLeague\"]])\n",
    "y=df[\"Salary\"]\n",
    "X_=df.drop([\"Salary\",\"League\",\"Division\",\"NewLeague\"],axis=1).astype(\"float64\")\n",
    "X=pd.concat([X_,dms[[\"League_N\",\"Division_W\",\"NewLeague_N\"]]],axis=1)\n",
    "X_train,X_test,y_train,y_test=train_test_split(X,y,test_size=0.25,random_state=42)"
   ]
  },
  {
   "cell_type": "code",
   "execution_count": 19,
   "metadata": {},
   "outputs": [],
   "source": [
    "#Model \n",
    "knn_model = KNeighborsRegressor().fit(X_train,y_train)"
   ]
  },
  {
   "cell_type": "code",
   "execution_count": 20,
   "metadata": {},
   "outputs": [
    {
     "data": {
      "text/plain": [
       "KNeighborsRegressor(algorithm='auto', leaf_size=30, metric='minkowski',\n",
       "                    metric_params=None, n_jobs=None, n_neighbors=5, p=2,\n",
       "                    weights='uniform')"
      ]
     },
     "execution_count": 20,
     "metadata": {},
     "output_type": "execute_result"
    }
   ],
   "source": [
    "knn_model"
   ]
  },
  {
   "cell_type": "code",
   "execution_count": 21,
   "metadata": {},
   "outputs": [
    {
     "data": {
      "text/plain": [
       "array([ 510.3334,  808.3334,  772.5   ,  125.5   , 1005.    ])"
      ]
     },
     "execution_count": 21,
     "metadata": {},
     "output_type": "execute_result"
    }
   ],
   "source": [
    "#Tahmin\n",
    "knn_model.predict(X_test)[0:5]"
   ]
  },
  {
   "cell_type": "code",
   "execution_count": 13,
   "metadata": {},
   "outputs": [],
   "source": [
    "y_pred= knn_model.predict(X_test)"
   ]
  },
  {
   "cell_type": "code",
   "execution_count": 22,
   "metadata": {},
   "outputs": [
    {
     "data": {
      "text/plain": [
       "421.6252180741266"
      ]
     },
     "execution_count": 22,
     "metadata": {},
     "output_type": "execute_result"
    }
   ],
   "source": [
    "np.sqrt(mean_squared_error(y_test,y_pred))"
   ]
  },
  {
   "cell_type": "markdown",
   "metadata": {},
   "source": [
    "### K En Yakın Komşu Model Tuning"
   ]
  },
  {
   "cell_type": "code",
   "execution_count": 23,
   "metadata": {},
   "outputs": [
    {
     "name": "stdout",
     "output_type": "stream",
     "text": [
      "k= 1 için RMSE değeri:  455.03925390751965\n",
      "k= 2 için RMSE değeri:  415.99629571490965\n",
      "k= 3 için RMSE değeri:  420.6765370082348\n",
      "k= 4 için RMSE değeri:  428.8564674588792\n",
      "k= 5 için RMSE değeri:  426.6570764525201\n",
      "k= 6 için RMSE değeri:  423.5071669008732\n",
      "k= 7 için RMSE değeri:  414.9361222421057\n",
      "k= 8 için RMSE değeri:  413.7094731463598\n",
      "k= 9 için RMSE değeri:  417.84419990871265\n",
      "k= 10 için RMSE değeri:  421.6252180741266\n"
     ]
    }
   ],
   "source": [
    "RMSE = []\n",
    "\n",
    "for k in range(10):\n",
    "    k=k+1\n",
    "    knn_model = KNeighborsRegressor(n_neighbors=k).fit(X_train,y_train)\n",
    "    y_pred=knn_model.predict(X_test)\n",
    "    rmse=np.sqrt(mean_squared_error(y_test,y_pred))\n",
    "    RMSE.append(rmse)\n",
    "    print(\"k=\",k,\"için RMSE değeri: \" ,rmse)"
   ]
  },
  {
   "cell_type": "code",
   "execution_count": 24,
   "metadata": {},
   "outputs": [],
   "source": [
    "#GridSearchCV\n",
    "knn_params = {\"n_neighbors\": np.arange(1,30,1)}"
   ]
  },
  {
   "cell_type": "code",
   "execution_count": 25,
   "metadata": {},
   "outputs": [],
   "source": [
    "knn = KNeighborsRegressor()"
   ]
  },
  {
   "cell_type": "code",
   "execution_count": 26,
   "metadata": {},
   "outputs": [],
   "source": [
    "knn_cv_model = GridSearchCV(knn,knn_params,cv=10).fit(X_train,y_train)"
   ]
  },
  {
   "cell_type": "code",
   "execution_count": 28,
   "metadata": {},
   "outputs": [
    {
     "data": {
      "text/plain": [
       "{'n_neighbors': 8}"
      ]
     },
     "execution_count": 28,
     "metadata": {},
     "output_type": "execute_result"
    }
   ],
   "source": [
    "knn_cv_model.best_params_"
   ]
  },
  {
   "cell_type": "code",
   "execution_count": 29,
   "metadata": {},
   "outputs": [],
   "source": [
    "#final model\n",
    "knn_tuned = KNeighborsRegressor(n_neighbors=knn_cv_model.best_params_[\"n_neighbors\"]).fit(X_train,y_train)"
   ]
  },
  {
   "cell_type": "code",
   "execution_count": 31,
   "metadata": {},
   "outputs": [
    {
     "data": {
      "text/plain": [
       "413.7094731463598"
      ]
     },
     "execution_count": 31,
     "metadata": {},
     "output_type": "execute_result"
    }
   ],
   "source": [
    "y_pred= knn_tuned.predict(X_test)\n",
    "np.sqrt(mean_squared_error(y_test,y_pred))"
   ]
  },
  {
   "cell_type": "markdown",
   "metadata": {},
   "source": [
    "## Destek Vektör Regresyonu (Support Vector Regression)"
   ]
  },
  {
   "cell_type": "markdown",
   "metadata": {},
   "source": [
    "### Destek Vektör Regresyonu Model ve Tahmin"
   ]
  },
  {
   "cell_type": "code",
   "execution_count": 34,
   "metadata": {},
   "outputs": [],
   "source": [
    "#model\n",
    "svr_model = SVR(\"linear\").fit(X_train,y_train)"
   ]
  },
  {
   "cell_type": "code",
   "execution_count": 36,
   "metadata": {},
   "outputs": [
    {
     "data": {
      "text/plain": [
       "SVR(C=1.0, cache_size=200, coef0=0.0, degree=3, epsilon=0.1, gamma='scale',\n",
       "    kernel='linear', max_iter=-1, shrinking=True, tol=0.001, verbose=False)"
      ]
     },
     "execution_count": 36,
     "metadata": {},
     "output_type": "execute_result"
    }
   ],
   "source": [
    "svr_model"
   ]
  },
  {
   "cell_type": "code",
   "execution_count": 38,
   "metadata": {},
   "outputs": [
    {
     "data": {
      "text/plain": [
       "array([219.32622169, 702.4303869 , 623.2055964 , 153.77538476,\n",
       "       463.15190834])"
      ]
     },
     "execution_count": 38,
     "metadata": {},
     "output_type": "execute_result"
    }
   ],
   "source": [
    "svr_model.predict(X_train)[0:5]"
   ]
  },
  {
   "cell_type": "code",
   "execution_count": 39,
   "metadata": {},
   "outputs": [
    {
     "data": {
      "text/plain": [
       "array([679.14754685, 633.72883069, 925.68640849, 270.28463621,\n",
       "       530.26659184])"
      ]
     },
     "execution_count": 39,
     "metadata": {},
     "output_type": "execute_result"
    }
   ],
   "source": [
    "svr_model.predict(X_test)[0:5]"
   ]
  },
  {
   "cell_type": "code",
   "execution_count": 40,
   "metadata": {},
   "outputs": [
    {
     "data": {
      "text/plain": [
       "370.04084185624924"
      ]
     },
     "execution_count": 40,
     "metadata": {},
     "output_type": "execute_result"
    }
   ],
   "source": [
    "#test\n",
    "y_pred = svr_model.predict(X_test)\n",
    "np.sqrt(mean_squared_error(y_test,y_pred))"
   ]
  },
  {
   "cell_type": "markdown",
   "metadata": {},
   "source": [
    "### Destek Vektör Regresyonu Model Tuning\n"
   ]
  },
  {
   "cell_type": "code",
   "execution_count": 42,
   "metadata": {},
   "outputs": [],
   "source": [
    "svr_params={\"C\":[0.1,0.5,1,3]}"
   ]
  },
  {
   "cell_type": "code",
   "execution_count": 46,
   "metadata": {},
   "outputs": [],
   "source": [
    "svr_cv_model = GridSearchCV(svr_model,svr_params,cv=5).fit(X_train,y_train)"
   ]
  },
  {
   "cell_type": "code",
   "execution_count": 47,
   "metadata": {},
   "outputs": [
    {
     "data": {
      "text/plain": [
       "{'C': 0.5}"
      ]
     },
     "execution_count": 47,
     "metadata": {},
     "output_type": "execute_result"
    }
   ],
   "source": [
    "svr_cv_model.best_params_"
   ]
  },
  {
   "cell_type": "code",
   "execution_count": 49,
   "metadata": {},
   "outputs": [],
   "source": [
    "svr_tunes = SVR(\"linear\",C=0.5).fit(X_train,y_train)"
   ]
  },
  {
   "cell_type": "code",
   "execution_count": 50,
   "metadata": {},
   "outputs": [],
   "source": [
    "y_pred = svr_tunes.predict(X_test)"
   ]
  },
  {
   "cell_type": "code",
   "execution_count": 51,
   "metadata": {},
   "outputs": [
    {
     "data": {
      "text/plain": [
       "367.9874739022889"
      ]
     },
     "execution_count": 51,
     "metadata": {},
     "output_type": "execute_result"
    }
   ],
   "source": [
    "np.sqrt(mean_squared_error(y_test,y_pred))"
   ]
  },
  {
   "cell_type": "markdown",
   "metadata": {},
   "source": [
    "## Yapay Sinir Ağları\n"
   ]
  },
  {
   "cell_type": "markdown",
   "metadata": {},
   "source": [
    "### Yapay Sinir Ağları Model ve Tahmin\n"
   ]
  },
  {
   "cell_type": "code",
   "execution_count": 52,
   "metadata": {},
   "outputs": [],
   "source": [
    "#standartlaştırma işlemleri \n",
    "scaler = StandardScaler()"
   ]
  },
  {
   "cell_type": "code",
   "execution_count": 54,
   "metadata": {},
   "outputs": [],
   "source": [
    "scaler.fit(X_train)\n",
    "X_train_scaled=scaler.transform(X_train)"
   ]
  },
  {
   "cell_type": "code",
   "execution_count": 55,
   "metadata": {},
   "outputs": [],
   "source": [
    "X_test_scaled=scaler.transform(X_test)"
   ]
  },
  {
   "cell_type": "code",
   "execution_count": 56,
   "metadata": {},
   "outputs": [],
   "source": [
    "mlp_model = MLPRegressor().fit(X_train_scaled,y_train)"
   ]
  },
  {
   "cell_type": "code",
   "execution_count": 57,
   "metadata": {},
   "outputs": [
    {
     "data": {
      "text/plain": [
       "MLPRegressor(activation='relu', alpha=0.0001, batch_size='auto', beta_1=0.9,\n",
       "             beta_2=0.999, early_stopping=False, epsilon=1e-08,\n",
       "             hidden_layer_sizes=(100,), learning_rate='constant',\n",
       "             learning_rate_init=0.001, max_fun=15000, max_iter=200,\n",
       "             momentum=0.9, n_iter_no_change=10, nesterovs_momentum=True,\n",
       "             power_t=0.5, random_state=None, shuffle=True, solver='adam',\n",
       "             tol=0.0001, validation_fraction=0.1, verbose=False,\n",
       "             warm_start=False)"
      ]
     },
     "execution_count": 57,
     "metadata": {},
     "output_type": "execute_result"
    }
   ],
   "source": [
    "mlp_model"
   ]
  },
  {
   "cell_type": "code",
   "execution_count": 58,
   "metadata": {},
   "outputs": [
    {
     "data": {
      "text/plain": [
       "array([25.72373583, 43.06692272, 78.7157444 , 11.4446077 , 27.74667477])"
      ]
     },
     "execution_count": 58,
     "metadata": {},
     "output_type": "execute_result"
    }
   ],
   "source": [
    "mlp_model.predict(X_test_scaled)[0:5]"
   ]
  },
  {
   "cell_type": "code",
   "execution_count": 59,
   "metadata": {},
   "outputs": [],
   "source": [
    "y_pred = mlp_model.predict(X_test_scaled)"
   ]
  },
  {
   "cell_type": "code",
   "execution_count": 60,
   "metadata": {},
   "outputs": [
    {
     "data": {
      "text/plain": [
       "654.852595503642"
      ]
     },
     "execution_count": 60,
     "metadata": {},
     "output_type": "execute_result"
    }
   ],
   "source": [
    "np.sqrt(mean_squared_error(y_test,y_pred))"
   ]
  },
  {
   "cell_type": "markdown",
   "metadata": {},
   "source": [
    "### Yapay Sinir Ağları Model Tuning\n"
   ]
  },
  {
   "cell_type": "code",
   "execution_count": 64,
   "metadata": {},
   "outputs": [],
   "source": [
    "mlp_params = {\"alpha\":[0.1,0.01,0.02,0.001,0.0001],\"hidden_layer_sizes\":[(10,20),(5,5),(100,100)]}"
   ]
  },
  {
   "cell_type": "code",
   "execution_count": 74,
   "metadata": {},
   "outputs": [
    {
     "name": "stderr",
     "output_type": "stream",
     "text": [
      "[Parallel(n_jobs=-1)]: Using backend LokyBackend with 4 concurrent workers.\n"
     ]
    },
    {
     "name": "stdout",
     "output_type": "stream",
     "text": [
      "Fitting 10 folds for each of 15 candidates, totalling 150 fits\n"
     ]
    },
    {
     "name": "stderr",
     "output_type": "stream",
     "text": [
      "[Parallel(n_jobs=-1)]: Done  33 tasks      | elapsed:    3.8s\n",
      "[Parallel(n_jobs=-1)]: Done 150 out of 150 | elapsed:   19.2s finished\n"
     ]
    }
   ],
   "source": [
    "mlp_cv_model =GridSearchCV(mlp_model,mlp_params,cv=10,verbose=2,n_jobs=-1).fit(X_train_scaled,y_train)"
   ]
  },
  {
   "cell_type": "code",
   "execution_count": 75,
   "metadata": {},
   "outputs": [
    {
     "data": {
      "text/plain": [
       "{'alpha': 0.001, 'hidden_layer_sizes': (100, 100)}"
      ]
     },
     "execution_count": 75,
     "metadata": {},
     "output_type": "execute_result"
    }
   ],
   "source": [
    "mlp_cv_model.best_params_"
   ]
  },
  {
   "cell_type": "code",
   "execution_count": 76,
   "metadata": {},
   "outputs": [],
   "source": [
    "#final model\n",
    "mlp_tuned = MLPRegressor(alpha=0.001,hidden_layer_sizes=(100,100)).fit(X_train_scaled,y_train)"
   ]
  },
  {
   "cell_type": "code",
   "execution_count": 77,
   "metadata": {},
   "outputs": [
    {
     "data": {
      "text/plain": [
       "array([311.01422484, 674.38978071, 970.89579673, 345.18917291,\n",
       "       261.27384276])"
      ]
     },
     "execution_count": 77,
     "metadata": {},
     "output_type": "execute_result"
    }
   ],
   "source": [
    "mlp_tuned.predict(X_test_scaled)[0:5]"
   ]
  },
  {
   "cell_type": "code",
   "execution_count": 78,
   "metadata": {},
   "outputs": [],
   "source": [
    "y_pred = mlp_tuned.predict(X_test_scaled)"
   ]
  },
  {
   "cell_type": "code",
   "execution_count": 79,
   "metadata": {},
   "outputs": [
    {
     "data": {
      "text/plain": [
       "355.408093778243"
      ]
     },
     "execution_count": 79,
     "metadata": {},
     "output_type": "execute_result"
    }
   ],
   "source": [
    "np.sqrt(mean_squared_error(y_test,y_pred))"
   ]
  },
  {
   "cell_type": "markdown",
   "metadata": {},
   "source": [
    "## CART (Classification and Regression Tree)"
   ]
  },
  {
   "cell_type": "code",
   "execution_count": 99,
   "metadata": {},
   "outputs": [],
   "source": [
    "X_train = pd.DataFrame(X_train[\"Hits\"])\n",
    "X_test = pd.DataFrame(X_test[\"Hits\"])"
   ]
  },
  {
   "cell_type": "code",
   "execution_count": 100,
   "metadata": {},
   "outputs": [],
   "source": [
    "cart_model = DecisionTreeRegressor()"
   ]
  },
  {
   "cell_type": "code",
   "execution_count": 101,
   "metadata": {},
   "outputs": [
    {
     "data": {
      "text/plain": [
       "DecisionTreeRegressor(ccp_alpha=0.0, criterion='mse', max_depth=None,\n",
       "                      max_features=None, max_leaf_nodes=None,\n",
       "                      min_impurity_decrease=0.0, min_impurity_split=None,\n",
       "                      min_samples_leaf=1, min_samples_split=2,\n",
       "                      min_weight_fraction_leaf=0.0, presort='deprecated',\n",
       "                      random_state=None, splitter='best')"
      ]
     },
     "execution_count": 101,
     "metadata": {},
     "output_type": "execute_result"
    }
   ],
   "source": [
    "cart_model.fit(X_train,y_train)"
   ]
  },
  {
   "cell_type": "code",
   "execution_count": 102,
   "metadata": {},
   "outputs": [
    {
     "data": {
      "image/png": "[encoded data removed]",
      "text/plain": [
       "<Figure size 432x288 with 1 Axes>"
      ]
     },
     "metadata": {
      "needs_background": "light"
     },
     "output_type": "display_data"
    }
   ],
   "source": [
    "X_grid = np.arange(min(np.array(X_train)),max(np.array(X_train)),0.01)\n",
    "X_grid = X_grid.reshape((len(X_grid),1))\n",
    "\n",
    "plt.scatter(X_train,y_train,color=\"red\")\n",
    "\n",
    "plt.plot(X_grid,cart_model.predict(X_grid),color=\"blue\")\n",
    "plt.title(\"CART REGRESYON AGACI\")\n",
    "plt.xlabel(\"Atış Sayısı(Hits)\")\n",
    "plt.ylabel(\"Maaş(Salary)\");"
   ]
  },
  {
   "cell_type": "code",
   "execution_count": 103,
   "metadata": {},
   "outputs": [],
   "source": [
    "#tek değişkenli tahmin"
   ]
  },
  {
   "cell_type": "code",
   "execution_count": 104,
   "metadata": {},
   "outputs": [
    {
     "data": {
      "text/plain": [
       "array([ 725.    , 1230.    ,  725.    ,  504.1665,   67.5   ])"
      ]
     },
     "execution_count": 104,
     "metadata": {},
     "output_type": "execute_result"
    }
   ],
   "source": [
    "cart_model.predict(X_test)[0:5]"
   ]
  },
  {
   "cell_type": "code",
   "execution_count": 105,
   "metadata": {},
   "outputs": [
    {
     "data": {
      "text/plain": [
       "468.49579052913884"
      ]
     },
     "execution_count": 105,
     "metadata": {},
     "output_type": "execute_result"
    }
   ],
   "source": [
    "y_pred = cart_model.predict(X_test)\n",
    "np.sqrt(mean_squared_error(y_pred,y_test))"
   ]
  },
  {
   "cell_type": "code",
   "execution_count": 106,
   "metadata": {},
   "outputs": [],
   "source": [
    "#tüm değişkenler "
   ]
  },
  {
   "cell_type": "code",
   "execution_count": 107,
   "metadata": {},
   "outputs": [],
   "source": [
    "df=pd.read_csv(\"reading_data/Hitters.csv\")\n",
    "df=df.dropna()\n",
    "dms=pd.get_dummies(df[[\"League\",\"Division\",\"NewLeague\"]])\n",
    "y=df[\"Salary\"]\n",
    "X_=df.drop([\"Salary\",\"League\",\"Division\",\"NewLeague\"],axis=1).astype(\"float64\")\n",
    "X=pd.concat([X_,dms[[\"League_N\",\"Division_W\",\"NewLeague_N\"]]],axis=1)\n",
    "X_train,X_test,y_train,y_test=train_test_split(X,y,test_size=0.25,random_state=42)"
   ]
  },
  {
   "cell_type": "code",
   "execution_count": 108,
   "metadata": {},
   "outputs": [],
   "source": [
    "cart_model = DecisionTreeRegressor().fit(X_train,y_train)"
   ]
  },
  {
   "cell_type": "code",
   "execution_count": 109,
   "metadata": {},
   "outputs": [
    {
     "data": {
      "text/plain": [
       "438.2465869145388"
      ]
     },
     "execution_count": 109,
     "metadata": {},
     "output_type": "execute_result"
    }
   ],
   "source": [
    "y_pred = cart_model.predict(X_test)\n",
    "np.sqrt(mean_squared_error(y_pred,y_test))"
   ]
  },
  {
   "cell_type": "markdown",
   "metadata": {},
   "source": [
    "### CART Model Tuning\n"
   ]
  },
  {
   "cell_type": "code",
   "execution_count": 110,
   "metadata": {},
   "outputs": [
    {
     "data": {
      "text/plain": [
       "DecisionTreeRegressor(ccp_alpha=0.0, criterion='mse', max_depth=None,\n",
       "                      max_features=None, max_leaf_nodes=None,\n",
       "                      min_impurity_decrease=0.0, min_impurity_split=None,\n",
       "                      min_samples_leaf=1, min_samples_split=2,\n",
       "                      min_weight_fraction_leaf=0.0, presort='deprecated',\n",
       "                      random_state=None, splitter='best')"
      ]
     },
     "execution_count": 110,
     "metadata": {},
     "output_type": "execute_result"
    }
   ],
   "source": [
    "cart_model"
   ]
  },
  {
   "cell_type": "code",
   "execution_count": 120,
   "metadata": {},
   "outputs": [
    {
     "data": {
      "text/plain": [
       "429.396873204643"
      ]
     },
     "execution_count": 120,
     "metadata": {},
     "output_type": "execute_result"
    }
   ],
   "source": [
    "cart_model = DecisionTreeRegressor().fit(X_train,y_train)\n",
    "y_pred = cart_model.predict(X_test)\n",
    "np.sqrt(mean_squared_error(y_pred,y_test))"
   ]
  },
  {
   "cell_type": "code",
   "execution_count": 121,
   "metadata": {},
   "outputs": [],
   "source": [
    "cart_params = {\"max_depth\": [2,3,4,5,10,20],\"min_samples_split\":[2,10,5,50,100]}"
   ]
  },
  {
   "cell_type": "code",
   "execution_count": 122,
   "metadata": {},
   "outputs": [],
   "source": [
    "cart_cv_model = GridSearchCV(cart_model,cart_params,cv=10).fit(X_train,y_train)"
   ]
  },
  {
   "cell_type": "code",
   "execution_count": 123,
   "metadata": {},
   "outputs": [
    {
     "data": {
      "text/plain": [
       "{'max_depth': 4, 'min_samples_split': 50}"
      ]
     },
     "execution_count": 123,
     "metadata": {},
     "output_type": "execute_result"
    }
   ],
   "source": [
    "cart_cv_model.best_params_"
   ]
  },
  {
   "cell_type": "code",
   "execution_count": 124,
   "metadata": {},
   "outputs": [],
   "source": [
    "#final model\n",
    "cart_model_tuned = DecisionTreeRegressor(max_depth=4,min_samples_split=50).fit(X_train,y_train)"
   ]
  },
  {
   "cell_type": "code",
   "execution_count": 125,
   "metadata": {},
   "outputs": [
    {
     "data": {
      "text/plain": [
       "361.0876906511434"
      ]
     },
     "execution_count": 125,
     "metadata": {},
     "output_type": "execute_result"
    }
   ],
   "source": [
    "y_pred = cart_model_tuned.predict(X_test)\n",
    "np.sqrt(mean_squared_error(y_pred,y_test))"
   ]
  },
  {
   "cell_type": "markdown",
   "metadata": {},
   "source": [
    "## Random Forests\n"
   ]
  },
  {
   "cell_type": "markdown",
   "metadata": {},
   "source": [
    "### Random Forests Model ve Tahmin\n"
   ]
  },
  {
   "cell_type": "code",
   "execution_count": 135,
   "metadata": {},
   "outputs": [],
   "source": [
    "rf_model = RandomForestRegressor(random_state=42).fit(X_train,y_train)"
   ]
  },
  {
   "cell_type": "code",
   "execution_count": 136,
   "metadata": {},
   "outputs": [
    {
     "data": {
      "text/plain": [
       "RandomForestRegressor(bootstrap=True, ccp_alpha=0.0, criterion='mse',\n",
       "                      max_depth=None, max_features='auto', max_leaf_nodes=None,\n",
       "                      max_samples=None, min_impurity_decrease=0.0,\n",
       "                      min_impurity_split=None, min_samples_leaf=1,\n",
       "                      min_samples_split=2, min_weight_fraction_leaf=0.0,\n",
       "                      n_estimators=100, n_jobs=None, oob_score=False,\n",
       "                      random_state=42, verbose=0, warm_start=False)"
      ]
     },
     "execution_count": 136,
     "metadata": {},
     "output_type": "execute_result"
    }
   ],
   "source": [
    "rf_model"
   ]
  },
  {
   "cell_type": "code",
   "execution_count": 137,
   "metadata": {},
   "outputs": [
    {
     "data": {
      "text/plain": [
       "344.73852779396566"
      ]
     },
     "execution_count": 137,
     "metadata": {},
     "output_type": "execute_result"
    }
   ],
   "source": [
    "y_pred = rf_model.predict(X_test)\n",
    "np.sqrt(mean_squared_error(y_pred,y_test))"
   ]
  },
  {
   "cell_type": "markdown",
   "metadata": {},
   "source": [
    "### Random Forests Model Tuning\n"
   ]
  },
  {
   "cell_type": "code",
   "execution_count": 138,
   "metadata": {},
   "outputs": [],
   "source": [
    "rf_params = {\"max_depth\":[5,8,10],\n",
    "             \"max_features\":[2,5,10],\n",
    "             \"n_estimators\":[200,500,1000,2000],\n",
    "             \"min_samples_split\":[2,10,80,100]}"
   ]
  },
  {
   "cell_type": "code",
   "execution_count": 139,
   "metadata": {},
   "outputs": [
    {
     "name": "stdout",
     "output_type": "stream",
     "text": [
      "Fitting 10 folds for each of 144 candidates, totalling 1440 fits\n"
     ]
    },
    {
     "name": "stderr",
     "output_type": "stream",
     "text": [
      "[Parallel(n_jobs=-1)]: Using backend LokyBackend with 4 concurrent workers.\n",
      "[Parallel(n_jobs=-1)]: Done  33 tasks      | elapsed:   25.0s\n",
      "[Parallel(n_jobs=-1)]: Done 154 tasks      | elapsed:  1.9min\n",
      "[Parallel(n_jobs=-1)]: Done 357 tasks      | elapsed:  4.4min\n",
      "[Parallel(n_jobs=-1)]: Done 640 tasks      | elapsed:  8.2min\n",
      "[Parallel(n_jobs=-1)]: Done 1005 tasks      | elapsed: 13.1min\n",
      "[Parallel(n_jobs=-1)]: Done 1440 out of 1440 | elapsed: 18.6min finished\n"
     ]
    }
   ],
   "source": [
    "rf_cv_model = GridSearchCV(rf_model,rf_params,cv=10,n_jobs=-1,verbose=2).fit(X_train,y_train)"
   ]
  },
  {
   "cell_type": "code",
   "execution_count": 140,
   "metadata": {},
   "outputs": [
    {
     "data": {
      "text/plain": [
       "{'max_depth': 8,\n",
       " 'max_features': 2,\n",
       " 'min_samples_split': 2,\n",
       " 'n_estimators': 200}"
      ]
     },
     "execution_count": 140,
     "metadata": {},
     "output_type": "execute_result"
    }
   ],
   "source": [
    "rf_cv_model.best_params_"
   ]
  },
  {
   "cell_type": "code",
   "execution_count": 141,
   "metadata": {},
   "outputs": [],
   "source": [
    "rf_model_tuned = RandomForestRegressor(random_state=42,max_depth=8,max_features=2,min_samples_split=2,n_estimators=200).fit(X_train,y_train)"
   ]
  },
  {
   "cell_type": "code",
   "execution_count": 142,
   "metadata": {},
   "outputs": [
    {
     "data": {
      "text/plain": [
       "348.2372919119422"
      ]
     },
     "execution_count": 142,
     "metadata": {},
     "output_type": "execute_result"
    }
   ],
   "source": [
    "y_pred = rf_model_tuned.predict(X_test)\n",
    "np.sqrt(mean_squared_error(y_pred,y_test))"
   ]
  },
  {
   "cell_type": "markdown",
   "metadata": {},
   "source": [
    "### Değişken önem düzeyi"
   ]
  },
  {
   "cell_type": "code",
   "execution_count": 144,
   "metadata": {},
   "outputs": [
    {
     "data": {
      "image/png": "[encoded data removed]",
      "text/plain": [
       "<Figure size 432x288 with 1 Axes>"
      ]
     },
     "metadata": {
      "needs_background": "light"
     },
     "output_type": "display_data"
    }
   ],
   "source": [
    "Importance = pd.DataFrame({\"Importance\":rf_model_tuned.feature_importances_*100},index=X_train.columns)\n",
    "\n",
    "Importance.sort_values(by=\"Importance\",axis=0,ascending=True).plot(kind=\"barh\",color=\"r\");\n",
    "\n",
    "plt.xlabel(\"Variable importance\")\n",
    "plt.gca().legend_=None"
   ]
  },
  {
   "cell_type": "markdown",
   "metadata": {},
   "source": [
    "## Gradient Boosting Machines (GBM)\n"
   ]
  },
  {
   "cell_type": "markdown",
   "metadata": {},
   "source": [
    "### Gradient Boosting Machines Model ve Tahmin\n"
   ]
  },
  {
   "cell_type": "code",
   "execution_count": 145,
   "metadata": {},
   "outputs": [],
   "source": [
    "gbm_model = GradientBoostingRegressor().fit(X_train,y_train)"
   ]
  },
  {
   "cell_type": "code",
   "execution_count": 146,
   "metadata": {},
   "outputs": [
    {
     "data": {
      "text/plain": [
       "GradientBoostingRegressor(alpha=0.9, ccp_alpha=0.0, criterion='friedman_mse',\n",
       "                          init=None, learning_rate=0.1, loss='ls', max_depth=3,\n",
       "                          max_features=None, max_leaf_nodes=None,\n",
       "                          min_impurity_decrease=0.0, min_impurity_split=None,\n",
       "                          min_samples_leaf=1, min_samples_split=2,\n",
       "                          min_weight_fraction_leaf=0.0, n_estimators=100,\n",
       "                          n_iter_no_change=None, presort='deprecated',\n",
       "                          random_state=None, subsample=1.0, tol=0.0001,\n",
       "                          validation_fraction=0.1, verbose=0, warm_start=False)"
      ]
     },
     "execution_count": 146,
     "metadata": {},
     "output_type": "execute_result"
    }
   ],
   "source": [
    "gbm_model"
   ]
  },
  {
   "cell_type": "code",
   "execution_count": 147,
   "metadata": {},
   "outputs": [],
   "source": [
    "y_pred = gbm_model.predict(X_test)"
   ]
  },
  {
   "cell_type": "code",
   "execution_count": 148,
   "metadata": {},
   "outputs": [
    {
     "data": {
      "text/plain": [
       "344.39637279289747"
      ]
     },
     "execution_count": 148,
     "metadata": {},
     "output_type": "execute_result"
    }
   ],
   "source": [
    "np.sqrt(mean_squared_error(y_pred,y_test))"
   ]
  },
  {
   "cell_type": "markdown",
   "metadata": {},
   "source": [
    "### Gradient Boosting Machines Model Tuning\n"
   ]
  },
  {
   "cell_type": "code",
   "execution_count": 149,
   "metadata": {},
   "outputs": [],
   "source": [
    "gbm_params = {\"learning_rate\":[0.001,0.1,0.01],\n",
    "              \"max_depth\":[3,5,8,],\n",
    "              \"n_estimators\":[100,200,500],\n",
    "              \"subsample\":[1,0.5,0.8],\n",
    "             \"loss\":[\"ls\",\"lad\",\"quantile\"]}"
   ]
  },
  {
   "cell_type": "code",
   "execution_count": 150,
   "metadata": {},
   "outputs": [],
   "source": [
    "gbm_model = GradientBoostingRegressor().fit(X_train,y_train)"
   ]
  },
  {
   "cell_type": "code",
   "execution_count": 151,
   "metadata": {},
   "outputs": [
    {
     "name": "stdout",
     "output_type": "stream",
     "text": [
      "Fitting 10 folds for each of 243 candidates, totalling 2430 fits\n"
     ]
    },
    {
     "name": "stderr",
     "output_type": "stream",
     "text": [
      "[Parallel(n_jobs=-1)]: Using backend LokyBackend with 4 concurrent workers.\n",
      "[Parallel(n_jobs=-1)]: Done  33 tasks      | elapsed:   21.2s\n",
      "[Parallel(n_jobs=-1)]: Done 154 tasks      | elapsed:   35.3s\n",
      "[Parallel(n_jobs=-1)]: Done 357 tasks      | elapsed:  1.3min\n",
      "[Parallel(n_jobs=-1)]: Done 640 tasks      | elapsed:  3.1min\n",
      "[Parallel(n_jobs=-1)]: Done 1005 tasks      | elapsed:  4.4min\n",
      "[Parallel(n_jobs=-1)]: Done 1450 tasks      | elapsed:  6.8min\n",
      "[Parallel(n_jobs=-1)]: Done 1977 tasks      | elapsed:  8.9min\n",
      "[Parallel(n_jobs=-1)]: Done 2430 out of 2430 | elapsed: 11.6min finished\n"
     ]
    }
   ],
   "source": [
    "gbm_cv_model = GridSearchCV(gbm_model,gbm_params,cv=10,n_jobs=-1,verbose=2).fit(X_train,y_train)"
   ]
  },
  {
   "cell_type": "code",
   "execution_count": 152,
   "metadata": {},
   "outputs": [
    {
     "data": {
      "text/plain": [
       "{'learning_rate': 0.01,\n",
       " 'loss': 'lad',\n",
       " 'max_depth': 3,\n",
       " 'n_estimators': 500,\n",
       " 'subsample': 0.5}"
      ]
     },
     "execution_count": 152,
     "metadata": {},
     "output_type": "execute_result"
    }
   ],
   "source": [
    "gbm_cv_model.best_params_"
   ]
  },
  {
   "cell_type": "code",
   "execution_count": 153,
   "metadata": {},
   "outputs": [],
   "source": [
    "gbm_tuned = GradientBoostingRegressor(learning_rate=0.1,loss=\"lad\",max_depth=3,n_estimators=200,subsample=1).fit(X_train,y_train)"
   ]
  },
  {
   "cell_type": "code",
   "execution_count": 154,
   "metadata": {},
   "outputs": [
    {
     "data": {
      "text/plain": [
       "334.2126372921722"
      ]
     },
     "execution_count": 154,
     "metadata": {},
     "output_type": "execute_result"
    }
   ],
   "source": [
    "y_pred = gbm_tuned.predict(X_test)\n",
    "np.sqrt(mean_squared_error(y_pred,y_test))"
   ]
  },
  {
   "cell_type": "code",
   "execution_count": 155,
   "metadata": {},
   "outputs": [
    {
     "data": {
      "image/png": "[encoded data removed]",
      "text/plain": [
       "<Figure size 432x288 with 1 Axes>"
      ]
     },
     "metadata": {
      "needs_background": "light"
     },
     "output_type": "display_data"
    }
   ],
   "source": [
    "#değişken önem düzeyleri \n",
    "\n",
    "Importance = pd.DataFrame({\"Importance\":gbm_tuned.feature_importances_*100},index=X_train.columns)\n",
    "\n",
    "Importance.sort_values(by=\"Importance\",axis=0,ascending=True).plot(kind=\"barh\",color=\"r\");\n",
    "\n",
    "plt.xlabel(\"Variable importance\")\n",
    "plt.gca().legend_=None"
   ]
  },
  {
   "cell_type": "markdown",
   "metadata": {},
   "source": [
    "## XGBoost"
   ]
  },
  {
   "cell_type": "markdown",
   "metadata": {},
   "source": [
    "### XGBoost Model ve Tahmin\n"
   ]
  },
  {
   "cell_type": "code",
   "execution_count": 163,
   "metadata": {},
   "outputs": [
    {
     "name": "stdout",
     "output_type": "stream",
     "text": [
      "Requirement already satisfied: xgboost in c:\\users\\feyza\\anaconda3\\lib\\site-packages (1.2.1)\n",
      "Requirement already satisfied: numpy in c:\\users\\feyza\\anaconda3\\lib\\site-packages (from xgboost) (1.18.1)\n",
      "Requirement already satisfied: scipy in c:\\users\\feyza\\anaconda3\\lib\\site-packages (from xgboost) (1.4.1)\n"
     ]
    }
   ],
   "source": [
    "!pip install xgboost"
   ]
  },
  {
   "cell_type": "code",
   "execution_count": 158,
   "metadata": {},
   "outputs": [],
   "source": [
    "import xgboost "
   ]
  },
  {
   "cell_type": "code",
   "execution_count": 159,
   "metadata": {},
   "outputs": [],
   "source": [
    "from xgboost import XGBRegressor"
   ]
  },
  {
   "cell_type": "code",
   "execution_count": 160,
   "metadata": {},
   "outputs": [],
   "source": [
    "xgb = XGBRegressor().fit(X_train,y_train)"
   ]
  },
  {
   "cell_type": "code",
   "execution_count": 161,
   "metadata": {},
   "outputs": [
    {
     "data": {
      "text/plain": [
       "XGBRegressor(base_score=0.5, booster='gbtree', colsample_bylevel=1,\n",
       "             colsample_bynode=1, colsample_bytree=1, gamma=0, gpu_id=-1,\n",
       "             importance_type='gain', interaction_constraints='',\n",
       "             learning_rate=0.300000012, max_delta_step=0, max_depth=6,\n",
       "             min_child_weight=1, missing=nan, monotone_constraints='()',\n",
       "             n_estimators=100, n_jobs=0, num_parallel_tree=1,\n",
       "             objective='reg:squarederror', random_state=0, reg_alpha=0,\n",
       "             reg_lambda=1, scale_pos_weight=1, subsample=1, tree_method='exact',\n",
       "             validate_parameters=1, verbosity=None)"
      ]
     },
     "execution_count": 161,
     "metadata": {},
     "output_type": "execute_result"
    }
   ],
   "source": [
    "xgb"
   ]
  },
  {
   "cell_type": "code",
   "execution_count": 162,
   "metadata": {},
   "outputs": [
    {
     "data": {
      "text/plain": [
       "355.4651481224188"
      ]
     },
     "execution_count": 162,
     "metadata": {},
     "output_type": "execute_result"
    }
   ],
   "source": [
    "y_pred = xgb.predict(X_test)\n",
    "np.sqrt(mean_squared_error(y_pred,y_test))"
   ]
  },
  {
   "cell_type": "markdown",
   "metadata": {},
   "source": [
    "### XGBoost Model Tuning\n"
   ]
  },
  {
   "cell_type": "code",
   "execution_count": 164,
   "metadata": {},
   "outputs": [],
   "source": [
    "xgb_params = {\"learning_rate\":[0.1,0.01,0.5],\n",
    "             \"max_depth\":[3,5,8],\n",
    "             \"n_estimators\":[100,200,500],\n",
    "             \"colsample_bytree\":[0.4,0.7,1]}"
   ]
  },
  {
   "cell_type": "code",
   "execution_count": 165,
   "metadata": {},
   "outputs": [
    {
     "name": "stdout",
     "output_type": "stream",
     "text": [
      "Fitting 10 folds for each of 81 candidates, totalling 810 fits\n"
     ]
    },
    {
     "name": "stderr",
     "output_type": "stream",
     "text": [
      "[Parallel(n_jobs=-1)]: Using backend LokyBackend with 4 concurrent workers.\n",
      "[Parallel(n_jobs=-1)]: Done  33 tasks      | elapsed:    6.3s\n",
      "[Parallel(n_jobs=-1)]: Done 154 tasks      | elapsed:   12.1s\n",
      "[Parallel(n_jobs=-1)]: Done 486 tasks      | elapsed:   29.2s\n",
      "[Parallel(n_jobs=-1)]: Done 810 out of 810 | elapsed:   50.2s finished\n"
     ]
    }
   ],
   "source": [
    "xgb_cv_model = GridSearchCV(xgb,xgb_params,cv=10,verbose=2,n_jobs=-1).fit(X_train,y_train)"
   ]
  },
  {
   "cell_type": "code",
   "execution_count": 166,
   "metadata": {},
   "outputs": [
    {
     "data": {
      "text/plain": [
       "{'colsample_bytree': 0.4,\n",
       " 'learning_rate': 0.01,\n",
       " 'max_depth': 8,\n",
       " 'n_estimators': 500}"
      ]
     },
     "execution_count": 166,
     "metadata": {},
     "output_type": "execute_result"
    }
   ],
   "source": [
    "xgb_cv_model.best_params_"
   ]
  },
  {
   "cell_type": "code",
   "execution_count": 167,
   "metadata": {},
   "outputs": [],
   "source": [
    "xgb_tuned = XGBRegressor(colsample_bytree=0.4,learning_rate=0.01,max_depth=8,n_estimators=500).fit(X_train,y_train)"
   ]
  },
  {
   "cell_type": "code",
   "execution_count": 168,
   "metadata": {},
   "outputs": [
    {
     "data": {
      "text/plain": [
       "347.57894128085445"
      ]
     },
     "execution_count": 168,
     "metadata": {},
     "output_type": "execute_result"
    }
   ],
   "source": [
    "y_pred = xgb_tuned.predict(X_test)\n",
    "np.sqrt(mean_squared_error(y_pred,y_test))"
   ]
  },
  {
   "cell_type": "markdown",
   "metadata": {},
   "source": [
    "## Light GBM\n"
   ]
  },
  {
   "cell_type": "markdown",
   "metadata": {},
   "source": [
    "### Light GBM Model ve Tahmin\n"
   ]
  },
  {
   "cell_type": "code",
   "execution_count": 169,
   "metadata": {},
   "outputs": [
    {
     "name": "stdout",
     "output_type": "stream",
     "text": [
      "Collecting lightgbm\n",
      "  Downloading lightgbm-3.1.0-py2.py3-none-win_amd64.whl (751 kB)\n",
      "Requirement already satisfied: scikit-learn!=0.22.0 in c:\\users\\feyza\\anaconda3\\lib\\site-packages (from lightgbm) (0.22.1)\n",
      "Requirement already satisfied: numpy in c:\\users\\feyza\\anaconda3\\lib\\site-packages (from lightgbm) (1.18.1)\n",
      "Requirement already satisfied: scipy in c:\\users\\feyza\\anaconda3\\lib\\site-packages (from lightgbm) (1.4.1)\n",
      "Requirement already satisfied: joblib>=0.11 in c:\\users\\feyza\\anaconda3\\lib\\site-packages (from scikit-learn!=0.22.0->lightgbm) (0.14.1)\n",
      "Installing collected packages: lightgbm\n",
      "Successfully installed lightgbm-3.1.0\n"
     ]
    }
   ],
   "source": [
    "!pip install lightgbm"
   ]
  },
  {
   "cell_type": "code",
   "execution_count": 171,
   "metadata": {},
   "outputs": [],
   "source": [
    "from lightgbm import LGBMRegressor"
   ]
  },
  {
   "cell_type": "code",
   "execution_count": 172,
   "metadata": {},
   "outputs": [],
   "source": [
    "lgb = LGBMRegressor().fit(X_train,y_train)"
   ]
  },
  {
   "cell_type": "code",
   "execution_count": 173,
   "metadata": {},
   "outputs": [
    {
     "data": {
      "text/plain": [
       "LGBMRegressor(boosting_type='gbdt', class_weight=None, colsample_bytree=1.0,\n",
       "              importance_type='split', learning_rate=0.1, max_depth=-1,\n",
       "              min_child_samples=20, min_child_weight=0.001, min_split_gain=0.0,\n",
       "              n_estimators=100, n_jobs=-1, num_leaves=31, objective=None,\n",
       "              random_state=None, reg_alpha=0.0, reg_lambda=0.0, silent=True,\n",
       "              subsample=1.0, subsample_for_bin=200000, subsample_freq=0)"
      ]
     },
     "execution_count": 173,
     "metadata": {},
     "output_type": "execute_result"
    }
   ],
   "source": [
    "lgb"
   ]
  },
  {
   "cell_type": "code",
   "execution_count": 174,
   "metadata": {},
   "outputs": [
    {
     "data": {
      "text/plain": [
       "363.8712087611089"
      ]
     },
     "execution_count": 174,
     "metadata": {},
     "output_type": "execute_result"
    }
   ],
   "source": [
    "y_pred = lgb.predict(X_test)\n",
    "np.sqrt(mean_squared_error(y_pred,y_test))"
   ]
  },
  {
   "cell_type": "markdown",
   "metadata": {},
   "source": [
    "### Light GBM Model Tuning\n"
   ]
  },
  {
   "cell_type": "code",
   "execution_count": 175,
   "metadata": {},
   "outputs": [],
   "source": [
    "lgb_params = {\"learning_rate\":[0.01,0.1,0.5],\n",
    "             \"n_esstimators\":[100,200,500],\n",
    "             \"max_depth\":[1,3,5,7,9]}"
   ]
  },
  {
   "cell_type": "code",
   "execution_count": 179,
   "metadata": {},
   "outputs": [
    {
     "name": "stdout",
     "output_type": "stream",
     "text": [
      "Fitting 10 folds for each of 45 candidates, totalling 450 fits\n"
     ]
    },
    {
     "name": "stderr",
     "output_type": "stream",
     "text": [
      "[Parallel(n_jobs=-1)]: Using backend LokyBackend with 4 concurrent workers.\n",
      "[Parallel(n_jobs=-1)]: Done  34 tasks      | elapsed:    3.2s\n"
     ]
    },
    {
     "name": "stdout",
     "output_type": "stream",
     "text": [
      "[LightGBM] [Warning] Unknown parameter: n_esstimators\n"
     ]
    },
    {
     "name": "stderr",
     "output_type": "stream",
     "text": [
      "[Parallel(n_jobs=-1)]: Done 450 out of 450 | elapsed:    8.4s finished\n"
     ]
    }
   ],
   "source": [
    "lgb_cv_model= GridSearchCV(lgb,lgb_params,cv=10,n_jobs=-1,verbose=2).fit(X_train,y_train)"
   ]
  },
  {
   "cell_type": "code",
   "execution_count": 180,
   "metadata": {},
   "outputs": [
    {
     "data": {
      "text/plain": [
       "{'learning_rate': 0.1, 'max_depth': 3, 'n_esstimators': 100}"
      ]
     },
     "execution_count": 180,
     "metadata": {},
     "output_type": "execute_result"
    }
   ],
   "source": [
    "lgb_cv_model.best_params_"
   ]
  },
  {
   "cell_type": "code",
   "execution_count": 181,
   "metadata": {},
   "outputs": [],
   "source": [
    "lgb_tuned = LGBMRegressor(learning_rate=0.1,max_depth=3,n_esstimators=100).fit(X_train,y_train)"
   ]
  },
  {
   "cell_type": "code",
   "execution_count": 182,
   "metadata": {},
   "outputs": [
    {
     "data": {
      "text/plain": [
       "355.47575940082544"
      ]
     },
     "execution_count": 182,
     "metadata": {},
     "output_type": "execute_result"
    }
   ],
   "source": [
    "y_pred = lgb_tuned.predict(X_test)\n",
    "np.sqrt(mean_squared_error(y_pred,y_test))"
   ]
  },
  {
   "cell_type": "markdown",
   "metadata": {},
   "source": [
    "## CatBoost "
   ]
  },
  {
   "cell_type": "markdown",
   "metadata": {},
   "source": [
    "### CatBoost Model ve Tahmin\n"
   ]
  },
  {
   "cell_type": "code",
   "execution_count": 183,
   "metadata": {},
   "outputs": [
    {
     "name": "stdout",
     "output_type": "stream",
     "text": [
      "Collecting catboost\n",
      "  Downloading catboost-0.24.3-cp37-none-win_amd64.whl (65.4 MB)\n",
      "Requirement already satisfied: matplotlib in c:\\users\\feyza\\anaconda3\\lib\\site-packages (from catboost) (3.1.3)\n",
      "Requirement already satisfied: numpy>=1.16.0 in c:\\users\\feyza\\anaconda3\\lib\\site-packages (from catboost) (1.18.1)\n",
      "Requirement already satisfied: pandas>=0.24.0 in c:\\users\\feyza\\anaconda3\\lib\\site-packages (from catboost) (1.0.1)\n",
      "Requirement already satisfied: six in c:\\users\\feyza\\anaconda3\\lib\\site-packages (from catboost) (1.14.0)\n",
      "Collecting plotly\n",
      "  Downloading plotly-4.13.0-py2.py3-none-any.whl (13.1 MB)\n",
      "Requirement already satisfied: scipy in c:\\users\\feyza\\anaconda3\\lib\\site-packages (from catboost) (1.4.1)\n",
      "Collecting graphviz\n",
      "  Downloading graphviz-0.15-py2.py3-none-any.whl (18 kB)\n",
      "Requirement already satisfied: kiwisolver>=1.0.1 in c:\\users\\feyza\\anaconda3\\lib\\site-packages (from matplotlib->catboost) (1.1.0)\n",
      "Requirement already satisfied: pyparsing!=2.0.4,!=2.1.2,!=2.1.6,>=2.0.1 in c:\\users\\feyza\\anaconda3\\lib\\site-packages (from matplotlib->catboost) (2.4.6)\n",
      "Requirement already satisfied: python-dateutil>=2.1 in c:\\users\\feyza\\anaconda3\\lib\\site-packages (from matplotlib->catboost) (2.8.1)\n",
      "Requirement already satisfied: cycler>=0.10 in c:\\users\\feyza\\anaconda3\\lib\\site-packages (from matplotlib->catboost) (0.10.0)\n",
      "Requirement already satisfied: pytz>=2017.2 in c:\\users\\feyza\\anaconda3\\lib\\site-packages (from pandas>=0.24.0->catboost) (2019.3)\n",
      "Collecting retrying>=1.3.3\n",
      "  Downloading retrying-1.3.3.tar.gz (10 kB)\n",
      "Requirement already satisfied: setuptools in c:\\users\\feyza\\anaconda3\\lib\\site-packages (from kiwisolver>=1.0.1->matplotlib->catboost) (45.2.0.post20200210)\n",
      "Building wheels for collected packages: retrying\n",
      "  Building wheel for retrying (setup.py): started\n",
      "  Building wheel for retrying (setup.py): finished with status 'done'\n",
      "  Created wheel for retrying: filename=retrying-1.3.3-py3-none-any.whl size=11435 sha256=0727f4eddc8bce80add9a0355bdb2ef71c80a9993d2eecf5c05dfa2986bca5b6\n",
      "  Stored in directory: c:\\users\\feyza\\appdata\\local\\pip\\cache\\wheels\\f9\\8d\\8d\\f6af3f7f9eea3553bc2fe6d53e4b287dad18b06a861ac56ddf\n",
      "Successfully built retrying\n",
      "Installing collected packages: retrying, plotly, graphviz, catboost\n",
      "Successfully installed catboost-0.24.3 graphviz-0.15 plotly-4.13.0 retrying-1.3.3\n"
     ]
    }
   ],
   "source": [
    "!pip install catboost"
   ]
  },
  {
   "cell_type": "code",
   "execution_count": 184,
   "metadata": {},
   "outputs": [],
   "source": [
    "from catboost import CatBoostRegressor"
   ]
  },
  {
   "cell_type": "code",
   "execution_count": 185,
   "metadata": {
    "collapsed": true,
    "jupyter": {
     "outputs_hidden": true
    }
   },
   "outputs": [
    {
     "name": "stdout",
     "output_type": "stream",
     "text": [
      "Learning rate set to 0.029229\n",
      "0:\tlearn: 438.1974206\ttotal: 143ms\tremaining: 2m 22s\n",
      "1:\tlearn: 432.4168868\ttotal: 145ms\tremaining: 1m 12s\n",
      "2:\tlearn: 426.3836690\ttotal: 147ms\tremaining: 49s\n",
      "3:\tlearn: 420.2261014\ttotal: 150ms\tremaining: 37.2s\n",
      "4:\tlearn: 414.9976675\ttotal: 152ms\tremaining: 30.2s\n",
      "5:\tlearn: 409.6125323\ttotal: 155ms\tremaining: 25.6s\n",
      "6:\tlearn: 403.9277911\ttotal: 157ms\tremaining: 22.2s\n",
      "7:\tlearn: 398.4395285\ttotal: 159ms\tremaining: 19.7s\n",
      "8:\tlearn: 392.4517081\ttotal: 161ms\tremaining: 17.7s\n",
      "9:\tlearn: 387.4871123\ttotal: 163ms\tremaining: 16.2s\n",
      "10:\tlearn: 382.6230510\ttotal: 166ms\tremaining: 14.9s\n",
      "11:\tlearn: 378.1012454\ttotal: 169ms\tremaining: 13.9s\n",
      "12:\tlearn: 372.6002306\ttotal: 172ms\tremaining: 13.1s\n",
      "13:\tlearn: 368.4682192\ttotal: 175ms\tremaining: 12.3s\n",
      "14:\tlearn: 364.0565766\ttotal: 178ms\tremaining: 11.7s\n",
      "15:\tlearn: 359.5683249\ttotal: 180ms\tremaining: 11.1s\n",
      "16:\tlearn: 355.1782794\ttotal: 183ms\tremaining: 10.6s\n",
      "17:\tlearn: 350.4689946\ttotal: 186ms\tremaining: 10.1s\n",
      "18:\tlearn: 346.2553348\ttotal: 189ms\tremaining: 9.75s\n",
      "19:\tlearn: 341.7051884\ttotal: 192ms\tremaining: 9.39s\n",
      "20:\tlearn: 337.8343606\ttotal: 195ms\tremaining: 9.09s\n",
      "21:\tlearn: 333.7956702\ttotal: 198ms\tremaining: 8.79s\n",
      "22:\tlearn: 329.8867930\ttotal: 200ms\tremaining: 8.51s\n",
      "23:\tlearn: 326.1844372\ttotal: 202ms\tremaining: 8.23s\n",
      "24:\tlearn: 323.1315580\ttotal: 204ms\tremaining: 7.97s\n",
      "25:\tlearn: 319.3322885\ttotal: 207ms\tremaining: 7.74s\n",
      "26:\tlearn: 316.2039164\ttotal: 209ms\tremaining: 7.52s\n",
      "27:\tlearn: 313.2598806\ttotal: 211ms\tremaining: 7.33s\n",
      "28:\tlearn: 310.1086898\ttotal: 213ms\tremaining: 7.14s\n",
      "29:\tlearn: 307.0508553\ttotal: 215ms\tremaining: 6.96s\n",
      "30:\tlearn: 304.5843401\ttotal: 218ms\tremaining: 6.8s\n",
      "31:\tlearn: 301.6708432\ttotal: 220ms\tremaining: 6.66s\n",
      "32:\tlearn: 298.9175443\ttotal: 223ms\tremaining: 6.52s\n",
      "33:\tlearn: 296.1231309\ttotal: 225ms\tremaining: 6.39s\n",
      "34:\tlearn: 293.2359275\ttotal: 227ms\tremaining: 6.26s\n",
      "35:\tlearn: 290.3999850\ttotal: 229ms\tremaining: 6.14s\n",
      "36:\tlearn: 287.8958674\ttotal: 232ms\tremaining: 6.03s\n",
      "37:\tlearn: 285.6692571\ttotal: 234ms\tremaining: 5.93s\n",
      "38:\tlearn: 282.9812904\ttotal: 237ms\tremaining: 5.83s\n",
      "39:\tlearn: 280.6302291\ttotal: 239ms\tremaining: 5.74s\n",
      "40:\tlearn: 278.2767119\ttotal: 241ms\tremaining: 5.63s\n",
      "41:\tlearn: 276.0589541\ttotal: 243ms\tremaining: 5.54s\n",
      "42:\tlearn: 273.6619286\ttotal: 245ms\tremaining: 5.45s\n",
      "43:\tlearn: 271.1128163\ttotal: 247ms\tremaining: 5.36s\n",
      "44:\tlearn: 268.9091716\ttotal: 250ms\tremaining: 5.3s\n",
      "45:\tlearn: 266.3675542\ttotal: 252ms\tremaining: 5.22s\n",
      "46:\tlearn: 263.7815611\ttotal: 254ms\tremaining: 5.15s\n",
      "47:\tlearn: 261.8160223\ttotal: 256ms\tremaining: 5.08s\n",
      "48:\tlearn: 259.7109561\ttotal: 258ms\tremaining: 5.01s\n",
      "49:\tlearn: 257.7200276\ttotal: 260ms\tremaining: 4.94s\n",
      "50:\tlearn: 255.7835524\ttotal: 262ms\tremaining: 4.88s\n",
      "51:\tlearn: 253.8406902\ttotal: 264ms\tremaining: 4.82s\n",
      "52:\tlearn: 251.6896611\ttotal: 267ms\tremaining: 4.76s\n",
      "53:\tlearn: 250.0830915\ttotal: 269ms\tremaining: 4.7s\n",
      "54:\tlearn: 248.3689069\ttotal: 271ms\tremaining: 4.66s\n",
      "55:\tlearn: 246.2718937\ttotal: 274ms\tremaining: 4.62s\n",
      "56:\tlearn: 244.3923224\ttotal: 278ms\tremaining: 4.59s\n",
      "57:\tlearn: 242.3040669\ttotal: 282ms\tremaining: 4.57s\n",
      "58:\tlearn: 240.5357981\ttotal: 285ms\tremaining: 4.55s\n",
      "59:\tlearn: 238.7009594\ttotal: 287ms\tremaining: 4.5s\n",
      "60:\tlearn: 237.2676945\ttotal: 289ms\tremaining: 4.45s\n",
      "61:\tlearn: 235.7252656\ttotal: 291ms\tremaining: 4.4s\n",
      "62:\tlearn: 234.1007596\ttotal: 293ms\tremaining: 4.36s\n",
      "63:\tlearn: 232.4179971\ttotal: 296ms\tremaining: 4.33s\n",
      "64:\tlearn: 231.1643497\ttotal: 298ms\tremaining: 4.29s\n",
      "65:\tlearn: 229.6810852\ttotal: 300ms\tremaining: 4.25s\n",
      "66:\tlearn: 228.1714231\ttotal: 302ms\tremaining: 4.21s\n",
      "67:\tlearn: 226.9338286\ttotal: 304ms\tremaining: 4.17s\n",
      "68:\tlearn: 226.0780127\ttotal: 306ms\tremaining: 4.13s\n",
      "69:\tlearn: 224.6598569\ttotal: 308ms\tremaining: 4.1s\n",
      "70:\tlearn: 223.1110463\ttotal: 311ms\tremaining: 4.07s\n",
      "71:\tlearn: 221.6545694\ttotal: 313ms\tremaining: 4.03s\n",
      "72:\tlearn: 220.2670639\ttotal: 315ms\tremaining: 4s\n",
      "73:\tlearn: 218.9738032\ttotal: 317ms\tremaining: 3.96s\n",
      "74:\tlearn: 217.9247112\ttotal: 318ms\tremaining: 3.93s\n",
      "75:\tlearn: 216.9202490\ttotal: 320ms\tremaining: 3.89s\n",
      "76:\tlearn: 215.5989131\ttotal: 322ms\tremaining: 3.86s\n",
      "77:\tlearn: 214.3540917\ttotal: 324ms\tremaining: 3.83s\n",
      "78:\tlearn: 213.4575339\ttotal: 328ms\tremaining: 3.82s\n",
      "79:\tlearn: 212.1036261\ttotal: 330ms\tremaining: 3.8s\n",
      "80:\tlearn: 210.8030392\ttotal: 333ms\tremaining: 3.78s\n",
      "81:\tlearn: 209.5290460\ttotal: 336ms\tremaining: 3.76s\n",
      "82:\tlearn: 208.0255508\ttotal: 338ms\tremaining: 3.74s\n",
      "83:\tlearn: 206.9124270\ttotal: 341ms\tremaining: 3.72s\n",
      "84:\tlearn: 205.5903017\ttotal: 344ms\tremaining: 3.7s\n",
      "85:\tlearn: 204.6057051\ttotal: 347ms\tremaining: 3.68s\n",
      "86:\tlearn: 203.7128429\ttotal: 349ms\tremaining: 3.67s\n",
      "87:\tlearn: 202.7663836\ttotal: 352ms\tremaining: 3.65s\n",
      "88:\tlearn: 201.9026542\ttotal: 355ms\tremaining: 3.63s\n",
      "89:\tlearn: 200.7729520\ttotal: 357ms\tremaining: 3.6s\n",
      "90:\tlearn: 199.6909954\ttotal: 358ms\tremaining: 3.58s\n",
      "91:\tlearn: 198.6341430\ttotal: 361ms\tremaining: 3.56s\n",
      "92:\tlearn: 197.6117675\ttotal: 363ms\tremaining: 3.54s\n",
      "93:\tlearn: 196.5198483\ttotal: 365ms\tremaining: 3.52s\n",
      "94:\tlearn: 195.5443940\ttotal: 367ms\tremaining: 3.5s\n",
      "95:\tlearn: 194.4203970\ttotal: 369ms\tremaining: 3.47s\n",
      "96:\tlearn: 193.2677508\ttotal: 371ms\tremaining: 3.45s\n",
      "97:\tlearn: 192.1768427\ttotal: 373ms\tremaining: 3.43s\n",
      "98:\tlearn: 191.2356955\ttotal: 375ms\tremaining: 3.41s\n",
      "99:\tlearn: 189.9934546\ttotal: 377ms\tremaining: 3.4s\n",
      "100:\tlearn: 189.2719006\ttotal: 379ms\tremaining: 3.38s\n",
      "101:\tlearn: 188.1079321\ttotal: 382ms\tremaining: 3.36s\n",
      "102:\tlearn: 187.1211517\ttotal: 384ms\tremaining: 3.34s\n",
      "103:\tlearn: 185.9059118\ttotal: 386ms\tremaining: 3.32s\n",
      "104:\tlearn: 185.2620919\ttotal: 388ms\tremaining: 3.3s\n",
      "105:\tlearn: 184.4349037\ttotal: 390ms\tremaining: 3.29s\n",
      "106:\tlearn: 183.1846237\ttotal: 392ms\tremaining: 3.27s\n",
      "107:\tlearn: 182.1448077\ttotal: 394ms\tremaining: 3.25s\n",
      "108:\tlearn: 181.4787170\ttotal: 396ms\tremaining: 3.23s\n",
      "109:\tlearn: 180.6789032\ttotal: 398ms\tremaining: 3.22s\n",
      "110:\tlearn: 179.9122461\ttotal: 400ms\tremaining: 3.2s\n",
      "111:\tlearn: 178.9952892\ttotal: 402ms\tremaining: 3.19s\n",
      "112:\tlearn: 178.6013107\ttotal: 404ms\tremaining: 3.17s\n",
      "113:\tlearn: 177.7090692\ttotal: 406ms\tremaining: 3.16s\n",
      "114:\tlearn: 176.7404828\ttotal: 408ms\tremaining: 3.14s\n",
      "115:\tlearn: 176.0415402\ttotal: 410ms\tremaining: 3.13s\n",
      "116:\tlearn: 175.5315148\ttotal: 412ms\tremaining: 3.11s\n",
      "117:\tlearn: 174.8976738\ttotal: 415ms\tremaining: 3.1s\n",
      "118:\tlearn: 174.0530870\ttotal: 416ms\tremaining: 3.08s\n",
      "119:\tlearn: 173.0700181\ttotal: 419ms\tremaining: 3.07s\n",
      "120:\tlearn: 172.2832739\ttotal: 421ms\tremaining: 3.06s\n",
      "121:\tlearn: 171.4960220\ttotal: 423ms\tremaining: 3.04s\n",
      "122:\tlearn: 171.0402978\ttotal: 425ms\tremaining: 3.03s\n",
      "123:\tlearn: 170.7119169\ttotal: 427ms\tremaining: 3.01s\n",
      "124:\tlearn: 169.6907823\ttotal: 429ms\tremaining: 3s\n",
      "125:\tlearn: 169.2063700\ttotal: 431ms\tremaining: 2.99s\n",
      "126:\tlearn: 168.1597529\ttotal: 433ms\tremaining: 2.98s\n",
      "127:\tlearn: 167.3156403\ttotal: 435ms\tremaining: 2.96s\n",
      "128:\tlearn: 166.3187281\ttotal: 437ms\tremaining: 2.95s\n",
      "129:\tlearn: 166.1101656\ttotal: 439ms\tremaining: 2.94s\n",
      "130:\tlearn: 165.5420012\ttotal: 441ms\tremaining: 2.93s\n",
      "131:\tlearn: 164.6237022\ttotal: 443ms\tremaining: 2.92s\n",
      "132:\tlearn: 163.7646814\ttotal: 446ms\tremaining: 2.9s\n",
      "133:\tlearn: 163.3971858\ttotal: 448ms\tremaining: 2.89s\n",
      "134:\tlearn: 162.8775666\ttotal: 450ms\tremaining: 2.88s\n",
      "135:\tlearn: 162.3591190\ttotal: 452ms\tremaining: 2.87s\n",
      "136:\tlearn: 161.8515150\ttotal: 454ms\tremaining: 2.86s\n",
      "137:\tlearn: 161.2542226\ttotal: 456ms\tremaining: 2.85s\n",
      "138:\tlearn: 160.5899334\ttotal: 459ms\tremaining: 2.85s\n",
      "139:\tlearn: 159.6307999\ttotal: 462ms\tremaining: 2.84s\n",
      "140:\tlearn: 159.0055431\ttotal: 464ms\tremaining: 2.83s\n",
      "141:\tlearn: 158.2566894\ttotal: 466ms\tremaining: 2.82s\n",
      "142:\tlearn: 157.6496356\ttotal: 468ms\tremaining: 2.81s\n",
      "143:\tlearn: 157.1590393\ttotal: 470ms\tremaining: 2.79s\n",
      "144:\tlearn: 156.5730455\ttotal: 472ms\tremaining: 2.79s\n",
      "145:\tlearn: 155.8450985\ttotal: 475ms\tremaining: 2.78s\n",
      "146:\tlearn: 155.2439210\ttotal: 477ms\tremaining: 2.77s\n",
      "147:\tlearn: 154.9417796\ttotal: 485ms\tremaining: 2.79s\n",
      "148:\tlearn: 154.3763613\ttotal: 495ms\tremaining: 2.83s\n",
      "149:\tlearn: 153.9438757\ttotal: 497ms\tremaining: 2.82s\n",
      "150:\tlearn: 153.1854046\ttotal: 499ms\tremaining: 2.81s\n",
      "151:\tlearn: 152.8631442\ttotal: 501ms\tremaining: 2.8s\n",
      "152:\tlearn: 152.3115428\ttotal: 503ms\tremaining: 2.79s\n",
      "153:\tlearn: 151.8957029\ttotal: 506ms\tremaining: 2.78s\n",
      "154:\tlearn: 151.1871329\ttotal: 508ms\tremaining: 2.77s\n",
      "155:\tlearn: 150.6828564\ttotal: 510ms\tremaining: 2.76s\n",
      "156:\tlearn: 150.2509622\ttotal: 512ms\tremaining: 2.75s\n",
      "157:\tlearn: 149.6497659\ttotal: 514ms\tremaining: 2.74s\n",
      "158:\tlearn: 148.9332067\ttotal: 516ms\tremaining: 2.73s\n",
      "159:\tlearn: 148.7156418\ttotal: 519ms\tremaining: 2.72s\n",
      "160:\tlearn: 148.2737189\ttotal: 520ms\tremaining: 2.71s\n",
      "161:\tlearn: 147.9625721\ttotal: 522ms\tremaining: 2.7s\n",
      "162:\tlearn: 147.4564915\ttotal: 524ms\tremaining: 2.69s\n",
      "163:\tlearn: 146.8606991\ttotal: 527ms\tremaining: 2.69s\n",
      "164:\tlearn: 146.2386459\ttotal: 529ms\tremaining: 2.68s\n",
      "165:\tlearn: 145.7642228\ttotal: 531ms\tremaining: 2.67s\n",
      "166:\tlearn: 145.3792204\ttotal: 533ms\tremaining: 2.66s\n",
      "167:\tlearn: 145.0935465\ttotal: 536ms\tremaining: 2.65s\n",
      "168:\tlearn: 144.6976165\ttotal: 537ms\tremaining: 2.64s\n",
      "169:\tlearn: 143.9724403\ttotal: 540ms\tremaining: 2.63s\n",
      "170:\tlearn: 143.6449839\ttotal: 542ms\tremaining: 2.63s\n",
      "171:\tlearn: 143.1999180\ttotal: 544ms\tremaining: 2.62s\n",
      "172:\tlearn: 142.9381183\ttotal: 546ms\tremaining: 2.61s\n",
      "173:\tlearn: 142.3304601\ttotal: 548ms\tremaining: 2.6s\n",
      "174:\tlearn: 141.9229624\ttotal: 550ms\tremaining: 2.59s\n",
      "175:\tlearn: 141.4043903\ttotal: 552ms\tremaining: 2.58s\n",
      "176:\tlearn: 141.0209642\ttotal: 554ms\tremaining: 2.58s\n",
      "177:\tlearn: 140.4510865\ttotal: 557ms\tremaining: 2.57s\n",
      "178:\tlearn: 140.3441522\ttotal: 558ms\tremaining: 2.56s\n",
      "179:\tlearn: 139.8478562\ttotal: 560ms\tremaining: 2.55s\n",
      "180:\tlearn: 139.7464932\ttotal: 560ms\tremaining: 2.54s\n",
      "181:\tlearn: 139.2514614\ttotal: 562ms\tremaining: 2.53s\n",
      "182:\tlearn: 139.0274540\ttotal: 565ms\tremaining: 2.52s\n",
      "183:\tlearn: 138.4584181\ttotal: 567ms\tremaining: 2.51s\n",
      "184:\tlearn: 138.2093063\ttotal: 569ms\tremaining: 2.5s\n",
      "185:\tlearn: 137.8406250\ttotal: 571ms\tremaining: 2.5s\n",
      "186:\tlearn: 137.7280816\ttotal: 573ms\tremaining: 2.49s\n",
      "187:\tlearn: 137.2465993\ttotal: 575ms\tremaining: 2.48s\n",
      "188:\tlearn: 136.7894765\ttotal: 577ms\tremaining: 2.48s\n",
      "189:\tlearn: 136.4857311\ttotal: 579ms\tremaining: 2.47s\n",
      "190:\tlearn: 136.0043713\ttotal: 581ms\tremaining: 2.46s\n",
      "191:\tlearn: 135.7523177\ttotal: 583ms\tremaining: 2.45s\n",
      "192:\tlearn: 135.3372675\ttotal: 585ms\tremaining: 2.45s\n",
      "193:\tlearn: 135.0202084\ttotal: 587ms\tremaining: 2.44s\n",
      "194:\tlearn: 134.7757422\ttotal: 589ms\tremaining: 2.43s\n",
      "195:\tlearn: 134.3546545\ttotal: 591ms\tremaining: 2.42s\n",
      "196:\tlearn: 133.9623627\ttotal: 593ms\tremaining: 2.42s\n",
      "197:\tlearn: 133.2648869\ttotal: 595ms\tremaining: 2.41s\n",
      "198:\tlearn: 132.9318972\ttotal: 597ms\tremaining: 2.4s\n",
      "199:\tlearn: 132.5119098\ttotal: 599ms\tremaining: 2.4s\n",
      "200:\tlearn: 131.8954412\ttotal: 601ms\tremaining: 2.39s\n",
      "201:\tlearn: 131.6115557\ttotal: 603ms\tremaining: 2.38s\n",
      "202:\tlearn: 131.2095441\ttotal: 606ms\tremaining: 2.38s\n",
      "203:\tlearn: 130.6658729\ttotal: 608ms\tremaining: 2.37s\n",
      "204:\tlearn: 130.3457517\ttotal: 610ms\tremaining: 2.37s\n",
      "205:\tlearn: 130.0833818\ttotal: 612ms\tremaining: 2.36s\n",
      "206:\tlearn: 129.7238048\ttotal: 615ms\tremaining: 2.35s\n",
      "207:\tlearn: 129.0671906\ttotal: 617ms\tremaining: 2.35s\n",
      "208:\tlearn: 128.7683402\ttotal: 619ms\tremaining: 2.34s\n",
      "209:\tlearn: 128.5832593\ttotal: 621ms\tremaining: 2.33s\n",
      "210:\tlearn: 128.3749444\ttotal: 623ms\tremaining: 2.33s\n",
      "211:\tlearn: 128.1143221\ttotal: 626ms\tremaining: 2.33s\n",
      "212:\tlearn: 127.9897497\ttotal: 628ms\tremaining: 2.32s\n",
      "213:\tlearn: 127.6815659\ttotal: 630ms\tremaining: 2.31s\n",
      "214:\tlearn: 127.2006697\ttotal: 633ms\tremaining: 2.31s\n",
      "215:\tlearn: 127.0352179\ttotal: 635ms\tremaining: 2.3s\n",
      "216:\tlearn: 126.9617234\ttotal: 636ms\tremaining: 2.3s\n",
      "217:\tlearn: 126.7776328\ttotal: 639ms\tremaining: 2.29s\n",
      "218:\tlearn: 126.3802524\ttotal: 642ms\tremaining: 2.29s\n",
      "219:\tlearn: 126.1995377\ttotal: 645ms\tremaining: 2.29s\n",
      "220:\tlearn: 126.1155383\ttotal: 648ms\tremaining: 2.28s\n",
      "221:\tlearn: 125.9832799\ttotal: 650ms\tremaining: 2.28s\n",
      "222:\tlearn: 125.7495770\ttotal: 653ms\tremaining: 2.27s\n",
      "223:\tlearn: 125.2409845\ttotal: 656ms\tremaining: 2.27s\n",
      "224:\tlearn: 124.9538099\ttotal: 658ms\tremaining: 2.27s\n",
      "225:\tlearn: 124.7089151\ttotal: 660ms\tremaining: 2.26s\n",
      "226:\tlearn: 124.3984858\ttotal: 663ms\tremaining: 2.26s\n",
      "227:\tlearn: 124.0014588\ttotal: 666ms\tremaining: 2.25s\n",
      "228:\tlearn: 123.7139174\ttotal: 669ms\tremaining: 2.25s\n",
      "229:\tlearn: 123.6555034\ttotal: 669ms\tremaining: 2.24s\n",
      "230:\tlearn: 123.3398368\ttotal: 672ms\tremaining: 2.24s\n",
      "231:\tlearn: 122.7561150\ttotal: 674ms\tremaining: 2.23s\n",
      "232:\tlearn: 122.5676806\ttotal: 677ms\tremaining: 2.23s\n",
      "233:\tlearn: 122.1759040\ttotal: 680ms\tremaining: 2.22s\n",
      "234:\tlearn: 121.5761316\ttotal: 683ms\tremaining: 2.22s\n",
      "235:\tlearn: 121.3308579\ttotal: 685ms\tremaining: 2.22s\n",
      "236:\tlearn: 120.6316918\ttotal: 688ms\tremaining: 2.21s\n",
      "237:\tlearn: 120.0241441\ttotal: 690ms\tremaining: 2.21s\n",
      "238:\tlearn: 119.6974692\ttotal: 692ms\tremaining: 2.2s\n",
      "239:\tlearn: 119.5295579\ttotal: 695ms\tremaining: 2.2s\n",
      "240:\tlearn: 118.8105516\ttotal: 697ms\tremaining: 2.19s\n",
      "241:\tlearn: 118.5001438\ttotal: 720ms\tremaining: 2.26s\n",
      "242:\tlearn: 118.1525333\ttotal: 723ms\tremaining: 2.25s\n",
      "243:\tlearn: 117.8294708\ttotal: 726ms\tremaining: 2.25s\n",
      "244:\tlearn: 117.4650856\ttotal: 729ms\tremaining: 2.25s\n",
      "245:\tlearn: 117.2329146\ttotal: 732ms\tremaining: 2.24s\n",
      "246:\tlearn: 116.6281150\ttotal: 734ms\tremaining: 2.24s\n",
      "247:\tlearn: 116.4382173\ttotal: 736ms\tremaining: 2.23s\n",
      "248:\tlearn: 115.7804838\ttotal: 738ms\tremaining: 2.23s\n",
      "249:\tlearn: 115.4468389\ttotal: 740ms\tremaining: 2.22s\n",
      "250:\tlearn: 115.2535858\ttotal: 742ms\tremaining: 2.21s\n",
      "251:\tlearn: 115.0959725\ttotal: 744ms\tremaining: 2.21s\n",
      "252:\tlearn: 114.5054098\ttotal: 746ms\tremaining: 2.2s\n",
      "253:\tlearn: 114.2196805\ttotal: 748ms\tremaining: 2.2s\n",
      "254:\tlearn: 113.9389493\ttotal: 750ms\tremaining: 2.19s\n",
      "255:\tlearn: 113.8318782\ttotal: 752ms\tremaining: 2.19s\n",
      "256:\tlearn: 113.7010766\ttotal: 754ms\tremaining: 2.18s\n",
      "257:\tlearn: 113.5349213\ttotal: 756ms\tremaining: 2.17s\n",
      "258:\tlearn: 113.2939692\ttotal: 758ms\tremaining: 2.17s\n",
      "259:\tlearn: 112.8734855\ttotal: 760ms\tremaining: 2.16s\n",
      "260:\tlearn: 112.2073904\ttotal: 762ms\tremaining: 2.16s\n",
      "261:\tlearn: 111.7098455\ttotal: 765ms\tremaining: 2.15s\n",
      "262:\tlearn: 111.4861643\ttotal: 767ms\tremaining: 2.15s\n",
      "263:\tlearn: 111.4065123\ttotal: 770ms\tremaining: 2.15s\n",
      "264:\tlearn: 110.9193214\ttotal: 772ms\tremaining: 2.14s\n",
      "265:\tlearn: 110.2486713\ttotal: 775ms\tremaining: 2.14s\n",
      "266:\tlearn: 110.1718829\ttotal: 778ms\tremaining: 2.13s\n",
      "267:\tlearn: 109.8233102\ttotal: 780ms\tremaining: 2.13s\n",
      "268:\tlearn: 109.2576068\ttotal: 783ms\tremaining: 2.13s\n",
      "269:\tlearn: 109.1038965\ttotal: 785ms\tremaining: 2.12s\n",
      "270:\tlearn: 108.5183523\ttotal: 787ms\tremaining: 2.12s\n",
      "271:\tlearn: 108.4470954\ttotal: 789ms\tremaining: 2.11s\n",
      "272:\tlearn: 108.0259628\ttotal: 791ms\tremaining: 2.11s\n",
      "273:\tlearn: 107.5793316\ttotal: 794ms\tremaining: 2.1s\n",
      "274:\tlearn: 107.4747562\ttotal: 796ms\tremaining: 2.1s\n",
      "275:\tlearn: 107.4015080\ttotal: 798ms\tremaining: 2.09s\n",
      "276:\tlearn: 106.7954512\ttotal: 800ms\tremaining: 2.09s\n",
      "277:\tlearn: 106.3607188\ttotal: 802ms\tremaining: 2.08s\n",
      "278:\tlearn: 106.2892222\ttotal: 804ms\tremaining: 2.08s\n",
      "279:\tlearn: 106.1701389\ttotal: 806ms\tremaining: 2.07s\n",
      "280:\tlearn: 106.0889424\ttotal: 808ms\tremaining: 2.07s\n",
      "281:\tlearn: 105.8903610\ttotal: 810ms\tremaining: 2.06s\n",
      "282:\tlearn: 105.6531794\ttotal: 812ms\tremaining: 2.06s\n",
      "283:\tlearn: 105.3489666\ttotal: 815ms\tremaining: 2.05s\n",
      "284:\tlearn: 105.2156952\ttotal: 817ms\tremaining: 2.05s\n",
      "285:\tlearn: 104.7489850\ttotal: 819ms\tremaining: 2.04s\n",
      "286:\tlearn: 104.4701409\ttotal: 821ms\tremaining: 2.04s\n",
      "287:\tlearn: 104.3778769\ttotal: 823ms\tremaining: 2.04s\n",
      "288:\tlearn: 103.8224679\ttotal: 825ms\tremaining: 2.03s\n",
      "289:\tlearn: 103.2728523\ttotal: 827ms\tremaining: 2.02s\n",
      "290:\tlearn: 102.7341369\ttotal: 829ms\tremaining: 2.02s\n",
      "291:\tlearn: 102.5732242\ttotal: 831ms\tremaining: 2.02s\n",
      "292:\tlearn: 102.4869595\ttotal: 833ms\tremaining: 2.01s\n",
      "293:\tlearn: 101.9743362\ttotal: 835ms\tremaining: 2s\n",
      "294:\tlearn: 101.8782948\ttotal: 837ms\tremaining: 2s\n",
      "295:\tlearn: 101.3571512\ttotal: 839ms\tremaining: 2s\n",
      "296:\tlearn: 100.8372462\ttotal: 842ms\tremaining: 1.99s\n",
      "297:\tlearn: 100.6707783\ttotal: 843ms\tremaining: 1.99s\n",
      "298:\tlearn: 100.3215940\ttotal: 846ms\tremaining: 1.98s\n",
      "299:\tlearn: 99.8162460\ttotal: 848ms\tremaining: 1.98s\n",
      "300:\tlearn: 99.7024172\ttotal: 850ms\tremaining: 1.97s\n",
      "301:\tlearn: 99.2308832\ttotal: 852ms\tremaining: 1.97s\n",
      "302:\tlearn: 98.7981083\ttotal: 854ms\tremaining: 1.96s\n",
      "303:\tlearn: 98.6418362\ttotal: 856ms\tremaining: 1.96s\n",
      "304:\tlearn: 98.1248564\ttotal: 858ms\tremaining: 1.95s\n",
      "305:\tlearn: 97.9442581\ttotal: 860ms\tremaining: 1.95s\n",
      "306:\tlearn: 97.5091297\ttotal: 862ms\tremaining: 1.94s\n",
      "307:\tlearn: 97.0381695\ttotal: 864ms\tremaining: 1.94s\n",
      "308:\tlearn: 96.5858904\ttotal: 866ms\tremaining: 1.94s\n",
      "309:\tlearn: 96.4466124\ttotal: 868ms\tremaining: 1.93s\n",
      "310:\tlearn: 95.9786304\ttotal: 870ms\tremaining: 1.93s\n",
      "311:\tlearn: 95.5390501\ttotal: 871ms\tremaining: 1.92s\n",
      "312:\tlearn: 95.3241323\ttotal: 874ms\tremaining: 1.92s\n",
      "313:\tlearn: 95.1166839\ttotal: 876ms\tremaining: 1.91s\n",
      "314:\tlearn: 94.6729021\ttotal: 879ms\tremaining: 1.91s\n",
      "315:\tlearn: 94.2571678\ttotal: 882ms\tremaining: 1.91s\n",
      "316:\tlearn: 93.9414786\ttotal: 884ms\tremaining: 1.91s\n",
      "317:\tlearn: 93.7804159\ttotal: 887ms\tremaining: 1.9s\n",
      "318:\tlearn: 93.5413306\ttotal: 891ms\tremaining: 1.9s\n",
      "319:\tlearn: 93.4280107\ttotal: 896ms\tremaining: 1.9s\n",
      "320:\tlearn: 92.9986302\ttotal: 902ms\tremaining: 1.91s\n",
      "321:\tlearn: 92.9421610\ttotal: 904ms\tremaining: 1.9s\n",
      "322:\tlearn: 92.4662692\ttotal: 906ms\tremaining: 1.9s\n",
      "323:\tlearn: 92.0455485\ttotal: 908ms\tremaining: 1.89s\n",
      "324:\tlearn: 91.6664667\ttotal: 910ms\tremaining: 1.89s\n",
      "325:\tlearn: 91.5600717\ttotal: 912ms\tremaining: 1.89s\n",
      "326:\tlearn: 91.5004974\ttotal: 914ms\tremaining: 1.88s\n",
      "327:\tlearn: 91.0716355\ttotal: 916ms\tremaining: 1.88s\n",
      "328:\tlearn: 90.6376777\ttotal: 918ms\tremaining: 1.87s\n",
      "329:\tlearn: 90.2132341\ttotal: 920ms\tremaining: 1.87s\n",
      "330:\tlearn: 90.1525801\ttotal: 923ms\tremaining: 1.86s\n",
      "331:\tlearn: 89.7879501\ttotal: 925ms\tremaining: 1.86s\n",
      "332:\tlearn: 89.3626218\ttotal: 927ms\tremaining: 1.86s\n",
      "333:\tlearn: 89.1274526\ttotal: 929ms\tremaining: 1.85s\n",
      "334:\tlearn: 88.7222011\ttotal: 931ms\tremaining: 1.85s\n",
      "335:\tlearn: 88.5311901\ttotal: 933ms\tremaining: 1.84s\n",
      "336:\tlearn: 88.0699983\ttotal: 935ms\tremaining: 1.84s\n",
      "337:\tlearn: 87.6737037\ttotal: 938ms\tremaining: 1.84s\n",
      "338:\tlearn: 87.3069085\ttotal: 940ms\tremaining: 1.83s\n",
      "339:\tlearn: 86.8639700\ttotal: 942ms\tremaining: 1.83s\n",
      "340:\tlearn: 86.7339532\ttotal: 944ms\tremaining: 1.82s\n",
      "341:\tlearn: 86.5677333\ttotal: 946ms\tremaining: 1.82s\n",
      "342:\tlearn: 86.4361752\ttotal: 948ms\tremaining: 1.82s\n",
      "343:\tlearn: 86.2469458\ttotal: 950ms\tremaining: 1.81s\n",
      "344:\tlearn: 86.1967306\ttotal: 952ms\tremaining: 1.81s\n",
      "345:\tlearn: 86.0709863\ttotal: 954ms\tremaining: 1.8s\n",
      "346:\tlearn: 85.6398833\ttotal: 956ms\tremaining: 1.8s\n",
      "347:\tlearn: 85.5979263\ttotal: 958ms\tremaining: 1.79s\n",
      "348:\tlearn: 85.4437261\ttotal: 961ms\tremaining: 1.79s\n",
      "349:\tlearn: 85.0669752\ttotal: 963ms\tremaining: 1.79s\n",
      "350:\tlearn: 85.0164116\ttotal: 965ms\tremaining: 1.78s\n",
      "351:\tlearn: 84.6350071\ttotal: 967ms\tremaining: 1.78s\n",
      "352:\tlearn: 84.1473245\ttotal: 969ms\tremaining: 1.78s\n",
      "353:\tlearn: 83.8115391\ttotal: 971ms\tremaining: 1.77s\n",
      "354:\tlearn: 83.4823620\ttotal: 974ms\tremaining: 1.77s\n",
      "355:\tlearn: 83.1595406\ttotal: 976ms\tremaining: 1.76s\n",
      "356:\tlearn: 82.7280745\ttotal: 978ms\tremaining: 1.76s\n",
      "357:\tlearn: 82.6210086\ttotal: 980ms\tremaining: 1.76s\n",
      "358:\tlearn: 82.3077194\ttotal: 982ms\tremaining: 1.75s\n",
      "359:\tlearn: 81.9112073\ttotal: 984ms\tremaining: 1.75s\n",
      "360:\tlearn: 81.5518193\ttotal: 987ms\tremaining: 1.75s\n",
      "361:\tlearn: 81.4267033\ttotal: 989ms\tremaining: 1.74s\n",
      "362:\tlearn: 81.0255982\ttotal: 991ms\tremaining: 1.74s\n",
      "363:\tlearn: 80.6891175\ttotal: 993ms\tremaining: 1.73s\n",
      "364:\tlearn: 80.4390711\ttotal: 995ms\tremaining: 1.73s\n",
      "365:\tlearn: 80.1232319\ttotal: 997ms\tremaining: 1.73s\n",
      "366:\tlearn: 80.0808756\ttotal: 999ms\tremaining: 1.72s\n",
      "367:\tlearn: 79.7090424\ttotal: 1s\tremaining: 1.72s\n",
      "368:\tlearn: 79.3969152\ttotal: 1s\tremaining: 1.72s\n",
      "369:\tlearn: 79.0731259\ttotal: 1s\tremaining: 1.71s\n",
      "370:\tlearn: 78.9862934\ttotal: 1.01s\tremaining: 1.71s\n",
      "371:\tlearn: 78.7730476\ttotal: 1.01s\tremaining: 1.7s\n",
      "372:\tlearn: 78.6302158\ttotal: 1.01s\tremaining: 1.7s\n",
      "373:\tlearn: 78.5184111\ttotal: 1.01s\tremaining: 1.7s\n",
      "374:\tlearn: 78.3814955\ttotal: 1.02s\tremaining: 1.69s\n",
      "375:\tlearn: 77.9622261\ttotal: 1.02s\tremaining: 1.69s\n",
      "376:\tlearn: 77.8601787\ttotal: 1.02s\tremaining: 1.69s\n",
      "377:\tlearn: 77.7650898\ttotal: 1.02s\tremaining: 1.68s\n",
      "378:\tlearn: 77.3945927\ttotal: 1.02s\tremaining: 1.68s\n",
      "379:\tlearn: 77.3348237\ttotal: 1.03s\tremaining: 1.68s\n",
      "380:\tlearn: 77.2431856\ttotal: 1.03s\tremaining: 1.67s\n",
      "381:\tlearn: 76.9192891\ttotal: 1.03s\tremaining: 1.67s\n",
      "382:\tlearn: 76.7949544\ttotal: 1.03s\tremaining: 1.67s\n",
      "383:\tlearn: 76.5217530\ttotal: 1.04s\tremaining: 1.66s\n",
      "384:\tlearn: 76.1648512\ttotal: 1.04s\tremaining: 1.66s\n",
      "385:\tlearn: 75.9867656\ttotal: 1.04s\tremaining: 1.65s\n",
      "386:\tlearn: 75.7293435\ttotal: 1.04s\tremaining: 1.65s\n",
      "387:\tlearn: 75.6419805\ttotal: 1.04s\tremaining: 1.65s\n",
      "388:\tlearn: 75.3138222\ttotal: 1.05s\tremaining: 1.64s\n",
      "389:\tlearn: 75.0125736\ttotal: 1.05s\tremaining: 1.64s\n",
      "390:\tlearn: 74.9803725\ttotal: 1.05s\tremaining: 1.64s\n",
      "391:\tlearn: 74.6113970\ttotal: 1.05s\tremaining: 1.63s\n",
      "392:\tlearn: 74.3668766\ttotal: 1.05s\tremaining: 1.63s\n",
      "393:\tlearn: 74.2752147\ttotal: 1.06s\tremaining: 1.63s\n",
      "394:\tlearn: 74.2172412\ttotal: 1.06s\tremaining: 1.62s\n",
      "395:\tlearn: 73.8652110\ttotal: 1.06s\tremaining: 1.62s\n",
      "396:\tlearn: 73.6963645\ttotal: 1.06s\tremaining: 1.61s\n",
      "397:\tlearn: 73.4075086\ttotal: 1.06s\tremaining: 1.61s\n",
      "398:\tlearn: 73.0346771\ttotal: 1.07s\tremaining: 1.61s\n",
      "399:\tlearn: 72.9971586\ttotal: 1.07s\tremaining: 1.6s\n",
      "400:\tlearn: 72.6755493\ttotal: 1.07s\tremaining: 1.6s\n",
      "401:\tlearn: 72.5972282\ttotal: 1.07s\tremaining: 1.6s\n",
      "402:\tlearn: 72.4345974\ttotal: 1.08s\tremaining: 1.59s\n",
      "403:\tlearn: 72.2185716\ttotal: 1.08s\tremaining: 1.59s\n",
      "404:\tlearn: 71.9251032\ttotal: 1.08s\tremaining: 1.59s\n",
      "405:\tlearn: 71.8901544\ttotal: 1.08s\tremaining: 1.58s\n",
      "406:\tlearn: 71.5338422\ttotal: 1.08s\tremaining: 1.58s\n",
      "407:\tlearn: 71.4477827\ttotal: 1.09s\tremaining: 1.58s\n",
      "408:\tlearn: 71.4127550\ttotal: 1.09s\tremaining: 1.57s\n",
      "409:\tlearn: 71.3322454\ttotal: 1.09s\tremaining: 1.57s\n",
      "410:\tlearn: 71.2981804\ttotal: 1.09s\tremaining: 1.57s\n",
      "411:\tlearn: 71.0089173\ttotal: 1.1s\tremaining: 1.56s\n",
      "412:\tlearn: 70.7854493\ttotal: 1.1s\tremaining: 1.56s\n",
      "413:\tlearn: 70.4930103\ttotal: 1.1s\tremaining: 1.56s\n",
      "414:\tlearn: 70.1976578\ttotal: 1.1s\tremaining: 1.56s\n",
      "415:\tlearn: 69.9565552\ttotal: 1.11s\tremaining: 1.55s\n",
      "416:\tlearn: 69.8912103\ttotal: 1.11s\tremaining: 1.55s\n",
      "417:\tlearn: 69.7356706\ttotal: 1.11s\tremaining: 1.55s\n",
      "418:\tlearn: 69.6634412\ttotal: 1.12s\tremaining: 1.55s\n",
      "419:\tlearn: 69.2943609\ttotal: 1.13s\tremaining: 1.55s\n",
      "420:\tlearn: 69.0269983\ttotal: 1.13s\tremaining: 1.55s\n",
      "421:\tlearn: 68.8653561\ttotal: 1.13s\tremaining: 1.55s\n",
      "422:\tlearn: 68.6555281\ttotal: 1.13s\tremaining: 1.55s\n",
      "423:\tlearn: 68.2338294\ttotal: 1.14s\tremaining: 1.54s\n",
      "424:\tlearn: 68.0909898\ttotal: 1.14s\tremaining: 1.54s\n",
      "425:\tlearn: 67.7905722\ttotal: 1.14s\tremaining: 1.54s\n",
      "426:\tlearn: 67.5586853\ttotal: 1.15s\tremaining: 1.54s\n",
      "427:\tlearn: 67.3518839\ttotal: 1.15s\tremaining: 1.54s\n",
      "428:\tlearn: 67.2029794\ttotal: 1.15s\tremaining: 1.53s\n",
      "429:\tlearn: 66.9467892\ttotal: 1.16s\tremaining: 1.53s\n",
      "430:\tlearn: 66.7821891\ttotal: 1.16s\tremaining: 1.53s\n",
      "431:\tlearn: 66.4955741\ttotal: 1.16s\tremaining: 1.52s\n",
      "432:\tlearn: 66.2240359\ttotal: 1.16s\tremaining: 1.52s\n",
      "433:\tlearn: 65.9832136\ttotal: 1.16s\tremaining: 1.52s\n",
      "434:\tlearn: 65.7761577\ttotal: 1.17s\tremaining: 1.51s\n",
      "435:\tlearn: 65.4845025\ttotal: 1.17s\tremaining: 1.51s\n",
      "436:\tlearn: 65.4215937\ttotal: 1.17s\tremaining: 1.51s\n",
      "437:\tlearn: 65.1768197\ttotal: 1.17s\tremaining: 1.5s\n",
      "438:\tlearn: 65.1071642\ttotal: 1.17s\tremaining: 1.5s\n",
      "439:\tlearn: 65.0705857\ttotal: 1.18s\tremaining: 1.5s\n",
      "440:\tlearn: 64.7782864\ttotal: 1.18s\tremaining: 1.49s\n",
      "441:\tlearn: 64.5284944\ttotal: 1.18s\tremaining: 1.49s\n",
      "442:\tlearn: 64.3504433\ttotal: 1.18s\tremaining: 1.49s\n",
      "443:\tlearn: 64.3001112\ttotal: 1.18s\tremaining: 1.48s\n",
      "444:\tlearn: 63.9063758\ttotal: 1.19s\tremaining: 1.48s\n",
      "445:\tlearn: 63.8746707\ttotal: 1.19s\tremaining: 1.48s\n",
      "446:\tlearn: 63.5487944\ttotal: 1.19s\tremaining: 1.47s\n",
      "447:\tlearn: 63.3406893\ttotal: 1.19s\tremaining: 1.47s\n",
      "448:\tlearn: 63.0992921\ttotal: 1.2s\tremaining: 1.47s\n",
      "449:\tlearn: 62.8676535\ttotal: 1.2s\tremaining: 1.46s\n",
      "450:\tlearn: 62.6978975\ttotal: 1.2s\tremaining: 1.46s\n",
      "451:\tlearn: 62.4888356\ttotal: 1.2s\tremaining: 1.46s\n",
      "452:\tlearn: 62.4591033\ttotal: 1.2s\tremaining: 1.45s\n",
      "453:\tlearn: 62.3981355\ttotal: 1.21s\tremaining: 1.45s\n",
      "454:\tlearn: 62.2755114\ttotal: 1.21s\tremaining: 1.45s\n",
      "455:\tlearn: 62.0286915\ttotal: 1.21s\tremaining: 1.44s\n",
      "456:\tlearn: 61.8101493\ttotal: 1.21s\tremaining: 1.44s\n",
      "457:\tlearn: 61.7125436\ttotal: 1.21s\tremaining: 1.44s\n",
      "458:\tlearn: 61.3464743\ttotal: 1.22s\tremaining: 1.43s\n",
      "459:\tlearn: 61.0777407\ttotal: 1.22s\tremaining: 1.43s\n",
      "460:\tlearn: 60.7354015\ttotal: 1.22s\tremaining: 1.43s\n",
      "461:\tlearn: 60.7070785\ttotal: 1.22s\tremaining: 1.42s\n",
      "462:\tlearn: 60.4380726\ttotal: 1.22s\tremaining: 1.42s\n",
      "463:\tlearn: 60.3794644\ttotal: 1.23s\tremaining: 1.42s\n",
      "464:\tlearn: 60.3096146\ttotal: 1.23s\tremaining: 1.41s\n",
      "465:\tlearn: 60.2803998\ttotal: 1.23s\tremaining: 1.41s\n",
      "466:\tlearn: 60.2489158\ttotal: 1.23s\tremaining: 1.41s\n",
      "467:\tlearn: 60.2187601\ttotal: 1.23s\tremaining: 1.4s\n",
      "468:\tlearn: 59.9901529\ttotal: 1.24s\tremaining: 1.4s\n",
      "469:\tlearn: 59.7821357\ttotal: 1.24s\tremaining: 1.4s\n",
      "470:\tlearn: 59.7334527\ttotal: 1.24s\tremaining: 1.39s\n",
      "471:\tlearn: 59.4989600\ttotal: 1.24s\tremaining: 1.39s\n",
      "472:\tlearn: 59.1865219\ttotal: 1.25s\tremaining: 1.39s\n",
      "473:\tlearn: 58.9478658\ttotal: 1.25s\tremaining: 1.38s\n",
      "474:\tlearn: 58.6836425\ttotal: 1.25s\tremaining: 1.38s\n",
      "475:\tlearn: 58.6522637\ttotal: 1.25s\tremaining: 1.38s\n",
      "476:\tlearn: 58.5963542\ttotal: 1.25s\tremaining: 1.37s\n",
      "477:\tlearn: 58.3648296\ttotal: 1.25s\tremaining: 1.37s\n",
      "478:\tlearn: 58.3188915\ttotal: 1.26s\tremaining: 1.37s\n",
      "479:\tlearn: 58.1813689\ttotal: 1.26s\tremaining: 1.36s\n",
      "480:\tlearn: 57.9437076\ttotal: 1.26s\tremaining: 1.36s\n",
      "481:\tlearn: 57.7694232\ttotal: 1.26s\tremaining: 1.36s\n",
      "482:\tlearn: 57.7437082\ttotal: 1.26s\tremaining: 1.35s\n",
      "483:\tlearn: 57.5081532\ttotal: 1.27s\tremaining: 1.35s\n",
      "484:\tlearn: 57.2134650\ttotal: 1.27s\tremaining: 1.35s\n",
      "485:\tlearn: 56.9733344\ttotal: 1.27s\tremaining: 1.34s\n",
      "486:\tlearn: 56.9412760\ttotal: 1.27s\tremaining: 1.34s\n",
      "487:\tlearn: 56.8640335\ttotal: 1.28s\tremaining: 1.34s\n",
      "488:\tlearn: 56.5624625\ttotal: 1.28s\tremaining: 1.34s\n",
      "489:\tlearn: 56.4986179\ttotal: 1.28s\tremaining: 1.33s\n",
      "490:\tlearn: 56.3527490\ttotal: 1.28s\tremaining: 1.33s\n",
      "491:\tlearn: 56.0961642\ttotal: 1.28s\tremaining: 1.33s\n",
      "492:\tlearn: 55.8256120\ttotal: 1.29s\tremaining: 1.32s\n",
      "493:\tlearn: 55.6150160\ttotal: 1.29s\tremaining: 1.32s\n",
      "494:\tlearn: 55.5631279\ttotal: 1.29s\tremaining: 1.32s\n",
      "495:\tlearn: 55.3736400\ttotal: 1.29s\tremaining: 1.31s\n",
      "496:\tlearn: 55.3441677\ttotal: 1.3s\tremaining: 1.31s\n",
      "497:\tlearn: 55.1995384\ttotal: 1.3s\tremaining: 1.31s\n",
      "498:\tlearn: 54.8980322\ttotal: 1.3s\tremaining: 1.3s\n",
      "499:\tlearn: 54.7119603\ttotal: 1.3s\tremaining: 1.3s\n",
      "500:\tlearn: 54.6236591\ttotal: 1.3s\tremaining: 1.3s\n",
      "501:\tlearn: 54.4131558\ttotal: 1.31s\tremaining: 1.3s\n",
      "502:\tlearn: 54.3901230\ttotal: 1.31s\tremaining: 1.29s\n",
      "503:\tlearn: 54.3662021\ttotal: 1.31s\tremaining: 1.29s\n",
      "504:\tlearn: 54.2068745\ttotal: 1.31s\tremaining: 1.29s\n",
      "505:\tlearn: 54.1800600\ttotal: 1.31s\tremaining: 1.28s\n",
      "506:\tlearn: 54.1376632\ttotal: 1.32s\tremaining: 1.28s\n",
      "507:\tlearn: 53.9788342\ttotal: 1.32s\tremaining: 1.28s\n",
      "508:\tlearn: 53.9294324\ttotal: 1.32s\tremaining: 1.27s\n",
      "509:\tlearn: 53.6786369\ttotal: 1.32s\tremaining: 1.27s\n",
      "510:\tlearn: 53.4578789\ttotal: 1.33s\tremaining: 1.27s\n",
      "511:\tlearn: 53.3261204\ttotal: 1.33s\tremaining: 1.27s\n",
      "512:\tlearn: 53.1331329\ttotal: 1.33s\tremaining: 1.26s\n",
      "513:\tlearn: 52.9261288\ttotal: 1.33s\tremaining: 1.26s\n",
      "514:\tlearn: 52.7447311\ttotal: 1.33s\tremaining: 1.26s\n",
      "515:\tlearn: 52.5966869\ttotal: 1.34s\tremaining: 1.25s\n",
      "516:\tlearn: 52.4130565\ttotal: 1.34s\tremaining: 1.25s\n",
      "517:\tlearn: 52.1948654\ttotal: 1.34s\tremaining: 1.25s\n",
      "518:\tlearn: 51.9463802\ttotal: 1.34s\tremaining: 1.24s\n",
      "519:\tlearn: 51.9178306\ttotal: 1.34s\tremaining: 1.24s\n",
      "520:\tlearn: 51.7246141\ttotal: 1.35s\tremaining: 1.24s\n",
      "521:\tlearn: 51.5669648\ttotal: 1.35s\tremaining: 1.24s\n",
      "522:\tlearn: 51.5221972\ttotal: 1.35s\tremaining: 1.23s\n",
      "523:\tlearn: 51.3293697\ttotal: 1.35s\tremaining: 1.23s\n",
      "524:\tlearn: 51.1767477\ttotal: 1.35s\tremaining: 1.23s\n",
      "525:\tlearn: 51.0961343\ttotal: 1.36s\tremaining: 1.22s\n",
      "526:\tlearn: 50.9995340\ttotal: 1.36s\tremaining: 1.22s\n",
      "527:\tlearn: 50.8846082\ttotal: 1.36s\tremaining: 1.22s\n",
      "528:\tlearn: 50.7478794\ttotal: 1.36s\tremaining: 1.21s\n",
      "529:\tlearn: 50.5116322\ttotal: 1.37s\tremaining: 1.21s\n",
      "530:\tlearn: 50.2760468\ttotal: 1.37s\tremaining: 1.21s\n",
      "531:\tlearn: 50.1040144\ttotal: 1.37s\tremaining: 1.21s\n",
      "532:\tlearn: 49.8827812\ttotal: 1.37s\tremaining: 1.2s\n",
      "533:\tlearn: 49.8255711\ttotal: 1.37s\tremaining: 1.2s\n",
      "534:\tlearn: 49.7890438\ttotal: 1.38s\tremaining: 1.2s\n",
      "535:\tlearn: 49.6290340\ttotal: 1.38s\tremaining: 1.19s\n",
      "536:\tlearn: 49.3965889\ttotal: 1.38s\tremaining: 1.19s\n",
      "537:\tlearn: 49.1641285\ttotal: 1.39s\tremaining: 1.19s\n",
      "538:\tlearn: 48.9654180\ttotal: 1.39s\tremaining: 1.19s\n",
      "539:\tlearn: 48.9278341\ttotal: 1.4s\tremaining: 1.19s\n",
      "540:\tlearn: 48.8457405\ttotal: 1.4s\tremaining: 1.19s\n",
      "541:\tlearn: 48.8041804\ttotal: 1.4s\tremaining: 1.19s\n",
      "542:\tlearn: 48.7179291\ttotal: 1.41s\tremaining: 1.18s\n",
      "543:\tlearn: 48.6759771\ttotal: 1.41s\tremaining: 1.18s\n",
      "544:\tlearn: 48.4792967\ttotal: 1.41s\tremaining: 1.18s\n",
      "545:\tlearn: 48.3843114\ttotal: 1.41s\tremaining: 1.17s\n",
      "546:\tlearn: 48.2453957\ttotal: 1.41s\tremaining: 1.17s\n",
      "547:\tlearn: 48.0231685\ttotal: 1.42s\tremaining: 1.17s\n",
      "548:\tlearn: 47.8612203\ttotal: 1.42s\tremaining: 1.17s\n",
      "549:\tlearn: 47.7590091\ttotal: 1.42s\tremaining: 1.16s\n",
      "550:\tlearn: 47.6561968\ttotal: 1.42s\tremaining: 1.16s\n",
      "551:\tlearn: 47.4106594\ttotal: 1.42s\tremaining: 1.16s\n",
      "552:\tlearn: 47.2194456\ttotal: 1.43s\tremaining: 1.15s\n",
      "553:\tlearn: 47.0783850\ttotal: 1.43s\tremaining: 1.15s\n",
      "554:\tlearn: 46.8215038\ttotal: 1.43s\tremaining: 1.15s\n",
      "555:\tlearn: 46.6674572\ttotal: 1.43s\tremaining: 1.14s\n",
      "556:\tlearn: 46.6418726\ttotal: 1.43s\tremaining: 1.14s\n",
      "557:\tlearn: 46.5248666\ttotal: 1.44s\tremaining: 1.14s\n",
      "558:\tlearn: 46.5061320\ttotal: 1.44s\tremaining: 1.14s\n",
      "559:\tlearn: 46.4397708\ttotal: 1.44s\tremaining: 1.13s\n",
      "560:\tlearn: 46.3904442\ttotal: 1.44s\tremaining: 1.13s\n",
      "561:\tlearn: 46.2576989\ttotal: 1.45s\tremaining: 1.13s\n",
      "562:\tlearn: 45.9568721\ttotal: 1.45s\tremaining: 1.12s\n",
      "563:\tlearn: 45.8482033\ttotal: 1.45s\tremaining: 1.12s\n",
      "564:\tlearn: 45.6689466\ttotal: 1.45s\tremaining: 1.12s\n",
      "565:\tlearn: 45.4222796\ttotal: 1.45s\tremaining: 1.11s\n",
      "566:\tlearn: 45.2404146\ttotal: 1.46s\tremaining: 1.11s\n",
      "567:\tlearn: 45.0903054\ttotal: 1.46s\tremaining: 1.11s\n",
      "568:\tlearn: 44.7991969\ttotal: 1.46s\tremaining: 1.1s\n",
      "569:\tlearn: 44.6413756\ttotal: 1.46s\tremaining: 1.1s\n",
      "570:\tlearn: 44.5799550\ttotal: 1.46s\tremaining: 1.1s\n",
      "571:\tlearn: 44.5651506\ttotal: 1.47s\tremaining: 1.1s\n",
      "572:\tlearn: 44.4233165\ttotal: 1.47s\tremaining: 1.09s\n",
      "573:\tlearn: 44.2369747\ttotal: 1.47s\tremaining: 1.09s\n",
      "574:\tlearn: 44.0545664\ttotal: 1.47s\tremaining: 1.09s\n",
      "575:\tlearn: 43.9004385\ttotal: 1.48s\tremaining: 1.08s\n",
      "576:\tlearn: 43.7138119\ttotal: 1.48s\tremaining: 1.08s\n",
      "577:\tlearn: 43.5755556\ttotal: 1.48s\tremaining: 1.08s\n",
      "578:\tlearn: 43.4934072\ttotal: 1.48s\tremaining: 1.08s\n",
      "579:\tlearn: 43.4629843\ttotal: 1.48s\tremaining: 1.07s\n",
      "580:\tlearn: 43.3825129\ttotal: 1.49s\tremaining: 1.07s\n",
      "581:\tlearn: 43.2549166\ttotal: 1.49s\tremaining: 1.07s\n",
      "582:\tlearn: 43.1514800\ttotal: 1.49s\tremaining: 1.06s\n",
      "583:\tlearn: 42.9846414\ttotal: 1.49s\tremaining: 1.06s\n",
      "584:\tlearn: 42.8538804\ttotal: 1.49s\tremaining: 1.06s\n",
      "585:\tlearn: 42.7710806\ttotal: 1.5s\tremaining: 1.06s\n",
      "586:\tlearn: 42.5351412\ttotal: 1.5s\tremaining: 1.05s\n",
      "587:\tlearn: 42.4784055\ttotal: 1.5s\tremaining: 1.05s\n",
      "588:\tlearn: 42.3174788\ttotal: 1.5s\tremaining: 1.05s\n",
      "589:\tlearn: 42.1761529\ttotal: 1.5s\tremaining: 1.04s\n",
      "590:\tlearn: 42.0486059\ttotal: 1.5s\tremaining: 1.04s\n",
      "591:\tlearn: 41.8689529\ttotal: 1.51s\tremaining: 1.04s\n",
      "592:\tlearn: 41.8306286\ttotal: 1.51s\tremaining: 1.04s\n",
      "593:\tlearn: 41.6966124\ttotal: 1.51s\tremaining: 1.03s\n",
      "594:\tlearn: 41.6647082\ttotal: 1.52s\tremaining: 1.03s\n",
      "595:\tlearn: 41.5609917\ttotal: 1.52s\tremaining: 1.03s\n",
      "596:\tlearn: 41.4632566\ttotal: 1.52s\tremaining: 1.03s\n",
      "597:\tlearn: 41.3899602\ttotal: 1.52s\tremaining: 1.02s\n",
      "598:\tlearn: 41.2152047\ttotal: 1.52s\tremaining: 1.02s\n",
      "599:\tlearn: 41.0959753\ttotal: 1.53s\tremaining: 1.02s\n",
      "600:\tlearn: 40.9815009\ttotal: 1.53s\tremaining: 1.02s\n",
      "601:\tlearn: 40.8912971\ttotal: 1.53s\tremaining: 1.01s\n",
      "602:\tlearn: 40.7881395\ttotal: 1.54s\tremaining: 1.01s\n",
      "603:\tlearn: 40.6325570\ttotal: 1.54s\tremaining: 1.01s\n",
      "604:\tlearn: 40.4083902\ttotal: 1.54s\tremaining: 1.01s\n",
      "605:\tlearn: 40.3292737\ttotal: 1.54s\tremaining: 1s\n",
      "606:\tlearn: 40.2629492\ttotal: 1.55s\tremaining: 1s\n",
      "607:\tlearn: 40.2448471\ttotal: 1.55s\tremaining: 999ms\n",
      "608:\tlearn: 40.2293673\ttotal: 1.55s\tremaining: 996ms\n",
      "609:\tlearn: 40.0978829\ttotal: 1.55s\tremaining: 994ms\n",
      "610:\tlearn: 40.0512268\ttotal: 1.56s\tremaining: 991ms\n",
      "611:\tlearn: 39.8920221\ttotal: 1.56s\tremaining: 988ms\n",
      "612:\tlearn: 39.8591122\ttotal: 1.56s\tremaining: 985ms\n",
      "613:\tlearn: 39.7261911\ttotal: 1.56s\tremaining: 983ms\n",
      "614:\tlearn: 39.6986628\ttotal: 1.56s\tremaining: 980ms\n",
      "615:\tlearn: 39.5659851\ttotal: 1.57s\tremaining: 977ms\n",
      "616:\tlearn: 39.4815274\ttotal: 1.57s\tremaining: 974ms\n",
      "617:\tlearn: 39.3682607\ttotal: 1.57s\tremaining: 971ms\n",
      "618:\tlearn: 39.2643803\ttotal: 1.57s\tremaining: 968ms\n",
      "619:\tlearn: 39.1307437\ttotal: 1.57s\tremaining: 965ms\n",
      "620:\tlearn: 38.9596117\ttotal: 1.58s\tremaining: 963ms\n",
      "621:\tlearn: 38.8456302\ttotal: 1.58s\tremaining: 960ms\n",
      "622:\tlearn: 38.7810676\ttotal: 1.58s\tremaining: 957ms\n",
      "623:\tlearn: 38.7450983\ttotal: 1.58s\tremaining: 954ms\n",
      "624:\tlearn: 38.6788090\ttotal: 1.58s\tremaining: 951ms\n",
      "625:\tlearn: 38.5788475\ttotal: 1.59s\tremaining: 948ms\n",
      "626:\tlearn: 38.4675366\ttotal: 1.59s\tremaining: 947ms\n",
      "627:\tlearn: 38.2350724\ttotal: 1.59s\tremaining: 944ms\n",
      "628:\tlearn: 38.2074221\ttotal: 1.6s\tremaining: 943ms\n",
      "629:\tlearn: 38.0622880\ttotal: 1.6s\tremaining: 940ms\n",
      "630:\tlearn: 37.8520281\ttotal: 1.6s\tremaining: 937ms\n",
      "631:\tlearn: 37.6631204\ttotal: 1.6s\tremaining: 935ms\n",
      "632:\tlearn: 37.5153877\ttotal: 1.61s\tremaining: 932ms\n",
      "633:\tlearn: 37.3834892\ttotal: 1.61s\tremaining: 929ms\n",
      "634:\tlearn: 37.2552166\ttotal: 1.61s\tremaining: 926ms\n",
      "635:\tlearn: 37.0779047\ttotal: 1.61s\tremaining: 923ms\n",
      "636:\tlearn: 37.0329263\ttotal: 1.61s\tremaining: 920ms\n",
      "637:\tlearn: 36.8927982\ttotal: 1.62s\tremaining: 918ms\n",
      "638:\tlearn: 36.8105498\ttotal: 1.62s\tremaining: 915ms\n",
      "639:\tlearn: 36.7512624\ttotal: 1.62s\tremaining: 913ms\n",
      "640:\tlearn: 36.5891302\ttotal: 1.63s\tremaining: 911ms\n",
      "641:\tlearn: 36.4551656\ttotal: 1.63s\tremaining: 910ms\n",
      "642:\tlearn: 36.4318588\ttotal: 1.64s\tremaining: 908ms\n",
      "643:\tlearn: 36.4074785\ttotal: 1.64s\tremaining: 905ms\n",
      "644:\tlearn: 36.2579510\ttotal: 1.64s\tremaining: 902ms\n",
      "645:\tlearn: 36.1413504\ttotal: 1.64s\tremaining: 900ms\n",
      "646:\tlearn: 36.0078406\ttotal: 1.64s\tremaining: 897ms\n",
      "647:\tlearn: 35.8909828\ttotal: 1.65s\tremaining: 894ms\n",
      "648:\tlearn: 35.7426906\ttotal: 1.65s\tremaining: 892ms\n",
      "649:\tlearn: 35.5963108\ttotal: 1.65s\tremaining: 889ms\n",
      "650:\tlearn: 35.4623805\ttotal: 1.65s\tremaining: 886ms\n",
      "651:\tlearn: 35.4428004\ttotal: 1.66s\tremaining: 883ms\n",
      "652:\tlearn: 35.3007158\ttotal: 1.66s\tremaining: 881ms\n",
      "653:\tlearn: 35.1510309\ttotal: 1.66s\tremaining: 878ms\n",
      "654:\tlearn: 35.1258328\ttotal: 1.66s\tremaining: 875ms\n",
      "655:\tlearn: 35.0183795\ttotal: 1.66s\tremaining: 872ms\n",
      "656:\tlearn: 34.9003271\ttotal: 1.67s\tremaining: 869ms\n",
      "657:\tlearn: 34.7887445\ttotal: 1.67s\tremaining: 866ms\n",
      "658:\tlearn: 34.6253676\ttotal: 1.67s\tremaining: 864ms\n",
      "659:\tlearn: 34.5506116\ttotal: 1.67s\tremaining: 861ms\n",
      "660:\tlearn: 34.4197699\ttotal: 1.67s\tremaining: 858ms\n",
      "661:\tlearn: 34.3097495\ttotal: 1.68s\tremaining: 855ms\n",
      "662:\tlearn: 34.1572027\ttotal: 1.68s\tremaining: 853ms\n",
      "663:\tlearn: 34.1441284\ttotal: 1.68s\tremaining: 850ms\n",
      "664:\tlearn: 34.0600732\ttotal: 1.68s\tremaining: 848ms\n",
      "665:\tlearn: 34.0500587\ttotal: 1.68s\tremaining: 845ms\n",
      "666:\tlearn: 33.9193340\ttotal: 1.69s\tremaining: 842ms\n",
      "667:\tlearn: 33.7564013\ttotal: 1.69s\tremaining: 840ms\n",
      "668:\tlearn: 33.6528749\ttotal: 1.69s\tremaining: 837ms\n",
      "669:\tlearn: 33.5681199\ttotal: 1.69s\tremaining: 834ms\n",
      "670:\tlearn: 33.4451433\ttotal: 1.7s\tremaining: 831ms\n",
      "671:\tlearn: 33.3468901\ttotal: 1.7s\tremaining: 829ms\n",
      "672:\tlearn: 33.2486282\ttotal: 1.7s\tremaining: 826ms\n",
      "673:\tlearn: 33.2302888\ttotal: 1.7s\tremaining: 823ms\n",
      "674:\tlearn: 33.0558859\ttotal: 1.7s\tremaining: 821ms\n",
      "675:\tlearn: 32.9700344\ttotal: 1.71s\tremaining: 818ms\n",
      "676:\tlearn: 32.8501642\ttotal: 1.71s\tremaining: 815ms\n",
      "677:\tlearn: 32.7340426\ttotal: 1.71s\tremaining: 813ms\n",
      "678:\tlearn: 32.7121017\ttotal: 1.71s\tremaining: 810ms\n",
      "679:\tlearn: 32.6200569\ttotal: 1.72s\tremaining: 807ms\n",
      "680:\tlearn: 32.5052371\ttotal: 1.72s\tremaining: 804ms\n",
      "681:\tlearn: 32.3916969\ttotal: 1.72s\tremaining: 802ms\n",
      "682:\tlearn: 32.2925704\ttotal: 1.72s\tremaining: 799ms\n",
      "683:\tlearn: 32.1901836\ttotal: 1.72s\tremaining: 796ms\n",
      "684:\tlearn: 32.1810795\ttotal: 1.73s\tremaining: 794ms\n",
      "685:\tlearn: 32.0538798\ttotal: 1.73s\tremaining: 791ms\n",
      "686:\tlearn: 31.9695880\ttotal: 1.73s\tremaining: 788ms\n",
      "687:\tlearn: 31.8186240\ttotal: 1.73s\tremaining: 786ms\n",
      "688:\tlearn: 31.7717776\ttotal: 1.73s\tremaining: 783ms\n",
      "689:\tlearn: 31.6271069\ttotal: 1.74s\tremaining: 780ms\n",
      "690:\tlearn: 31.4257754\ttotal: 1.74s\tremaining: 777ms\n",
      "691:\tlearn: 31.3158018\ttotal: 1.74s\tremaining: 775ms\n",
      "692:\tlearn: 31.2062456\ttotal: 1.74s\tremaining: 772ms\n",
      "693:\tlearn: 31.1002943\ttotal: 1.74s\tremaining: 769ms\n",
      "694:\tlearn: 31.0204694\ttotal: 1.75s\tremaining: 766ms\n",
      "695:\tlearn: 30.8638326\ttotal: 1.75s\tremaining: 764ms\n",
      "696:\tlearn: 30.8558418\ttotal: 1.75s\tremaining: 761ms\n",
      "697:\tlearn: 30.7168233\ttotal: 1.75s\tremaining: 758ms\n",
      "698:\tlearn: 30.6741149\ttotal: 1.75s\tremaining: 756ms\n",
      "699:\tlearn: 30.5633505\ttotal: 1.76s\tremaining: 753ms\n",
      "700:\tlearn: 30.3980151\ttotal: 1.76s\tremaining: 750ms\n",
      "701:\tlearn: 30.3868882\ttotal: 1.76s\tremaining: 747ms\n",
      "702:\tlearn: 30.3095110\ttotal: 1.76s\tremaining: 745ms\n",
      "703:\tlearn: 30.2001626\ttotal: 1.76s\tremaining: 742ms\n",
      "704:\tlearn: 30.1086639\ttotal: 1.77s\tremaining: 740ms\n",
      "705:\tlearn: 30.0062050\ttotal: 1.77s\tremaining: 737ms\n",
      "706:\tlearn: 29.9366332\ttotal: 1.77s\tremaining: 734ms\n",
      "707:\tlearn: 29.8514157\ttotal: 1.77s\tremaining: 732ms\n",
      "708:\tlearn: 29.8410197\ttotal: 1.77s\tremaining: 729ms\n",
      "709:\tlearn: 29.7691296\ttotal: 1.78s\tremaining: 726ms\n",
      "710:\tlearn: 29.6347315\ttotal: 1.78s\tremaining: 724ms\n",
      "711:\tlearn: 29.5690771\ttotal: 1.78s\tremaining: 721ms\n",
      "712:\tlearn: 29.4717613\ttotal: 1.78s\tremaining: 718ms\n",
      "713:\tlearn: 29.3453955\ttotal: 1.79s\tremaining: 716ms\n",
      "714:\tlearn: 29.3183996\ttotal: 1.79s\tremaining: 713ms\n",
      "715:\tlearn: 29.2357029\ttotal: 1.79s\tremaining: 710ms\n",
      "716:\tlearn: 29.1493484\ttotal: 1.79s\tremaining: 707ms\n",
      "717:\tlearn: 29.1412750\ttotal: 1.79s\tremaining: 705ms\n",
      "718:\tlearn: 29.0633640\ttotal: 1.79s\tremaining: 702ms\n",
      "719:\tlearn: 29.0063752\ttotal: 1.8s\tremaining: 699ms\n",
      "720:\tlearn: 28.8895697\ttotal: 1.8s\tremaining: 697ms\n",
      "721:\tlearn: 28.8127439\ttotal: 1.8s\tremaining: 694ms\n",
      "722:\tlearn: 28.7979935\ttotal: 1.8s\tremaining: 692ms\n",
      "723:\tlearn: 28.7730564\ttotal: 1.81s\tremaining: 689ms\n",
      "724:\tlearn: 28.6841951\ttotal: 1.81s\tremaining: 686ms\n",
      "725:\tlearn: 28.6192690\ttotal: 1.81s\tremaining: 683ms\n",
      "726:\tlearn: 28.5382100\ttotal: 1.81s\tremaining: 681ms\n",
      "727:\tlearn: 28.4124604\ttotal: 1.81s\tremaining: 678ms\n",
      "728:\tlearn: 28.3992354\ttotal: 1.82s\tremaining: 675ms\n",
      "729:\tlearn: 28.2458739\ttotal: 1.82s\tremaining: 673ms\n",
      "730:\tlearn: 28.1698858\ttotal: 1.82s\tremaining: 670ms\n",
      "731:\tlearn: 28.0857240\ttotal: 1.82s\tremaining: 668ms\n",
      "732:\tlearn: 28.0631865\ttotal: 1.82s\tremaining: 665ms\n",
      "733:\tlearn: 27.9617138\ttotal: 1.83s\tremaining: 662ms\n",
      "734:\tlearn: 27.9296040\ttotal: 1.83s\tremaining: 660ms\n",
      "735:\tlearn: 27.8714544\ttotal: 1.83s\tremaining: 658ms\n",
      "736:\tlearn: 27.8468105\ttotal: 1.83s\tremaining: 655ms\n",
      "737:\tlearn: 27.7605180\ttotal: 1.84s\tremaining: 652ms\n",
      "738:\tlearn: 27.6731250\ttotal: 1.84s\tremaining: 649ms\n",
      "739:\tlearn: 27.6662586\ttotal: 1.84s\tremaining: 646ms\n",
      "740:\tlearn: 27.6319100\ttotal: 1.84s\tremaining: 644ms\n",
      "741:\tlearn: 27.5465757\ttotal: 1.84s\tremaining: 641ms\n",
      "742:\tlearn: 27.4710735\ttotal: 1.84s\tremaining: 639ms\n",
      "743:\tlearn: 27.4510659\ttotal: 1.85s\tremaining: 636ms\n",
      "744:\tlearn: 27.3748617\ttotal: 1.85s\tremaining: 633ms\n",
      "745:\tlearn: 27.3633452\ttotal: 1.85s\tremaining: 631ms\n",
      "746:\tlearn: 27.2959571\ttotal: 1.85s\tremaining: 628ms\n",
      "747:\tlearn: 27.1315947\ttotal: 1.86s\tremaining: 626ms\n",
      "748:\tlearn: 27.0550248\ttotal: 1.86s\tremaining: 623ms\n",
      "749:\tlearn: 27.0373435\ttotal: 1.86s\tremaining: 620ms\n",
      "750:\tlearn: 26.9726665\ttotal: 1.86s\tremaining: 618ms\n",
      "751:\tlearn: 26.9145554\ttotal: 1.86s\tremaining: 615ms\n",
      "752:\tlearn: 26.8976495\ttotal: 1.87s\tremaining: 613ms\n",
      "753:\tlearn: 26.8013163\ttotal: 1.87s\tremaining: 610ms\n",
      "754:\tlearn: 26.7203712\ttotal: 1.87s\tremaining: 607ms\n",
      "755:\tlearn: 26.5829005\ttotal: 1.87s\tremaining: 605ms\n",
      "756:\tlearn: 26.4324310\ttotal: 1.88s\tremaining: 602ms\n",
      "757:\tlearn: 26.2890218\ttotal: 1.88s\tremaining: 599ms\n",
      "758:\tlearn: 26.1965245\ttotal: 1.88s\tremaining: 597ms\n",
      "759:\tlearn: 26.1810870\ttotal: 1.88s\tremaining: 594ms\n",
      "760:\tlearn: 26.1187072\ttotal: 1.88s\tremaining: 592ms\n",
      "761:\tlearn: 26.0637705\ttotal: 1.89s\tremaining: 589ms\n",
      "762:\tlearn: 25.9562461\ttotal: 1.89s\tremaining: 587ms\n",
      "763:\tlearn: 25.8386943\ttotal: 1.89s\tremaining: 584ms\n",
      "764:\tlearn: 25.7790725\ttotal: 1.89s\tremaining: 581ms\n",
      "765:\tlearn: 25.6701106\ttotal: 1.9s\tremaining: 579ms\n",
      "766:\tlearn: 25.6362119\ttotal: 1.9s\tremaining: 577ms\n",
      "767:\tlearn: 25.6252040\ttotal: 1.9s\tremaining: 575ms\n",
      "768:\tlearn: 25.5249470\ttotal: 1.91s\tremaining: 574ms\n",
      "769:\tlearn: 25.4610308\ttotal: 1.91s\tremaining: 571ms\n",
      "770:\tlearn: 25.3338917\ttotal: 1.91s\tremaining: 568ms\n",
      "771:\tlearn: 25.2081591\ttotal: 1.92s\tremaining: 566ms\n",
      "772:\tlearn: 25.1976317\ttotal: 1.92s\tremaining: 563ms\n",
      "773:\tlearn: 25.1309682\ttotal: 1.92s\tremaining: 561ms\n",
      "774:\tlearn: 25.0198547\ttotal: 1.92s\tremaining: 558ms\n",
      "775:\tlearn: 24.9490229\ttotal: 1.92s\tremaining: 555ms\n",
      "776:\tlearn: 24.9028200\ttotal: 1.93s\tremaining: 553ms\n",
      "777:\tlearn: 24.8337886\ttotal: 1.93s\tremaining: 550ms\n",
      "778:\tlearn: 24.7433955\ttotal: 1.93s\tremaining: 548ms\n",
      "779:\tlearn: 24.6167855\ttotal: 1.93s\tremaining: 545ms\n",
      "780:\tlearn: 24.5516424\ttotal: 1.93s\tremaining: 543ms\n",
      "781:\tlearn: 24.3925316\ttotal: 1.94s\tremaining: 540ms\n",
      "782:\tlearn: 24.3473598\ttotal: 1.94s\tremaining: 537ms\n",
      "783:\tlearn: 24.2382596\ttotal: 1.94s\tremaining: 535ms\n",
      "784:\tlearn: 24.1741117\ttotal: 1.94s\tremaining: 532ms\n",
      "785:\tlearn: 24.1282632\ttotal: 1.95s\tremaining: 530ms\n",
      "786:\tlearn: 24.1150038\ttotal: 1.95s\tremaining: 527ms\n",
      "787:\tlearn: 24.0552315\ttotal: 1.95s\tremaining: 524ms\n",
      "788:\tlearn: 24.0020307\ttotal: 1.95s\tremaining: 522ms\n",
      "789:\tlearn: 23.9582172\ttotal: 1.95s\tremaining: 519ms\n",
      "790:\tlearn: 23.9466945\ttotal: 1.96s\tremaining: 517ms\n",
      "791:\tlearn: 23.9012494\ttotal: 1.96s\tremaining: 514ms\n",
      "792:\tlearn: 23.8902062\ttotal: 1.96s\tremaining: 512ms\n",
      "793:\tlearn: 23.8375677\ttotal: 1.96s\tremaining: 510ms\n",
      "794:\tlearn: 23.8275049\ttotal: 1.97s\tremaining: 507ms\n",
      "795:\tlearn: 23.7639978\ttotal: 1.97s\tremaining: 505ms\n",
      "796:\tlearn: 23.7210385\ttotal: 1.97s\tremaining: 502ms\n",
      "797:\tlearn: 23.7118867\ttotal: 1.97s\tremaining: 500ms\n",
      "798:\tlearn: 23.6210770\ttotal: 1.98s\tremaining: 497ms\n",
      "799:\tlearn: 23.5667973\ttotal: 1.98s\tremaining: 495ms\n",
      "800:\tlearn: 23.5093551\ttotal: 1.98s\tremaining: 492ms\n",
      "801:\tlearn: 23.4248240\ttotal: 1.98s\tremaining: 490ms\n",
      "802:\tlearn: 23.3851975\ttotal: 1.99s\tremaining: 487ms\n",
      "803:\tlearn: 23.2576151\ttotal: 1.99s\tremaining: 485ms\n",
      "804:\tlearn: 23.1403284\ttotal: 1.99s\tremaining: 482ms\n",
      "805:\tlearn: 23.0861220\ttotal: 1.99s\tremaining: 479ms\n",
      "806:\tlearn: 23.0179965\ttotal: 1.99s\tremaining: 477ms\n",
      "807:\tlearn: 22.9499510\ttotal: 2s\tremaining: 474ms\n",
      "808:\tlearn: 22.9093322\ttotal: 2s\tremaining: 472ms\n",
      "809:\tlearn: 22.8749288\ttotal: 2s\tremaining: 469ms\n",
      "810:\tlearn: 22.8082947\ttotal: 2s\tremaining: 466ms\n",
      "811:\tlearn: 22.7734708\ttotal: 2s\tremaining: 464ms\n",
      "812:\tlearn: 22.6526692\ttotal: 2.01s\tremaining: 462ms\n",
      "813:\tlearn: 22.5530242\ttotal: 2.01s\tremaining: 459ms\n",
      "814:\tlearn: 22.4717488\ttotal: 2.01s\tremaining: 456ms\n",
      "815:\tlearn: 22.4620780\ttotal: 2.01s\tremaining: 454ms\n",
      "816:\tlearn: 22.4023061\ttotal: 2.01s\tremaining: 451ms\n",
      "817:\tlearn: 22.3578971\ttotal: 2.02s\tremaining: 449ms\n",
      "818:\tlearn: 22.3087689\ttotal: 2.02s\tremaining: 447ms\n",
      "819:\tlearn: 22.3046658\ttotal: 2.02s\tremaining: 444ms\n",
      "820:\tlearn: 22.2330663\ttotal: 2.02s\tremaining: 441ms\n",
      "821:\tlearn: 22.1591095\ttotal: 2.02s\tremaining: 439ms\n",
      "822:\tlearn: 22.1550239\ttotal: 2.03s\tremaining: 436ms\n",
      "823:\tlearn: 22.1463899\ttotal: 2.03s\tremaining: 433ms\n",
      "824:\tlearn: 22.1315815\ttotal: 2.03s\tremaining: 431ms\n",
      "825:\tlearn: 22.0652590\ttotal: 2.03s\tremaining: 428ms\n",
      "826:\tlearn: 22.0221121\ttotal: 2.04s\tremaining: 426ms\n",
      "827:\tlearn: 21.9774501\ttotal: 2.04s\tremaining: 423ms\n",
      "828:\tlearn: 21.9395292\ttotal: 2.04s\tremaining: 421ms\n",
      "829:\tlearn: 21.8508549\ttotal: 2.04s\tremaining: 418ms\n",
      "830:\tlearn: 21.8190935\ttotal: 2.04s\tremaining: 416ms\n",
      "831:\tlearn: 21.8109670\ttotal: 2.04s\tremaining: 413ms\n",
      "832:\tlearn: 21.7578310\ttotal: 2.05s\tremaining: 410ms\n",
      "833:\tlearn: 21.6862934\ttotal: 2.05s\tremaining: 408ms\n",
      "834:\tlearn: 21.6036840\ttotal: 2.05s\tremaining: 405ms\n",
      "835:\tlearn: 21.5099448\ttotal: 2.05s\tremaining: 403ms\n",
      "836:\tlearn: 21.4677400\ttotal: 2.06s\tremaining: 400ms\n",
      "837:\tlearn: 21.4091690\ttotal: 2.06s\tremaining: 398ms\n",
      "838:\tlearn: 21.3466938\ttotal: 2.06s\tremaining: 395ms\n",
      "839:\tlearn: 21.2298144\ttotal: 2.06s\tremaining: 393ms\n",
      "840:\tlearn: 21.1270373\ttotal: 2.06s\tremaining: 390ms\n",
      "841:\tlearn: 21.0373314\ttotal: 2.06s\tremaining: 388ms\n",
      "842:\tlearn: 20.9835159\ttotal: 2.07s\tremaining: 385ms\n",
      "843:\tlearn: 20.8484600\ttotal: 2.07s\tremaining: 383ms\n",
      "844:\tlearn: 20.7891557\ttotal: 2.07s\tremaining: 380ms\n",
      "845:\tlearn: 20.7291399\ttotal: 2.07s\tremaining: 378ms\n",
      "846:\tlearn: 20.6849494\ttotal: 2.08s\tremaining: 375ms\n",
      "847:\tlearn: 20.6154963\ttotal: 2.08s\tremaining: 373ms\n",
      "848:\tlearn: 20.5405276\ttotal: 2.08s\tremaining: 370ms\n",
      "849:\tlearn: 20.5016669\ttotal: 2.08s\tremaining: 368ms\n",
      "850:\tlearn: 20.4700003\ttotal: 2.08s\tremaining: 365ms\n",
      "851:\tlearn: 20.4163286\ttotal: 2.09s\tremaining: 362ms\n",
      "852:\tlearn: 20.3832418\ttotal: 2.09s\tremaining: 360ms\n",
      "853:\tlearn: 20.3012184\ttotal: 2.09s\tremaining: 357ms\n",
      "854:\tlearn: 20.2920333\ttotal: 2.09s\tremaining: 355ms\n",
      "855:\tlearn: 20.2053869\ttotal: 2.09s\tremaining: 352ms\n",
      "856:\tlearn: 20.1658977\ttotal: 2.1s\tremaining: 350ms\n",
      "857:\tlearn: 20.1100216\ttotal: 2.1s\tremaining: 347ms\n",
      "858:\tlearn: 20.0083729\ttotal: 2.1s\tremaining: 345ms\n",
      "859:\tlearn: 19.9455311\ttotal: 2.1s\tremaining: 343ms\n",
      "860:\tlearn: 19.8796059\ttotal: 2.11s\tremaining: 340ms\n",
      "861:\tlearn: 19.8565398\ttotal: 2.11s\tremaining: 338ms\n",
      "862:\tlearn: 19.7320152\ttotal: 2.11s\tremaining: 335ms\n",
      "863:\tlearn: 19.6553629\ttotal: 2.11s\tremaining: 333ms\n",
      "864:\tlearn: 19.5653904\ttotal: 2.12s\tremaining: 330ms\n",
      "865:\tlearn: 19.5044019\ttotal: 2.12s\tremaining: 328ms\n",
      "866:\tlearn: 19.4952821\ttotal: 2.12s\tremaining: 325ms\n",
      "867:\tlearn: 19.4417196\ttotal: 2.12s\tremaining: 323ms\n",
      "868:\tlearn: 19.3928280\ttotal: 2.12s\tremaining: 320ms\n",
      "869:\tlearn: 19.3310543\ttotal: 2.13s\tremaining: 318ms\n",
      "870:\tlearn: 19.2860856\ttotal: 2.13s\tremaining: 315ms\n",
      "871:\tlearn: 19.1689820\ttotal: 2.13s\tremaining: 313ms\n",
      "872:\tlearn: 19.0656586\ttotal: 2.13s\tremaining: 310ms\n",
      "873:\tlearn: 19.0585347\ttotal: 2.13s\tremaining: 308ms\n",
      "874:\tlearn: 19.0124418\ttotal: 2.14s\tremaining: 305ms\n",
      "875:\tlearn: 18.9798186\ttotal: 2.14s\tremaining: 303ms\n",
      "876:\tlearn: 18.8896499\ttotal: 2.14s\tremaining: 300ms\n",
      "877:\tlearn: 18.8379639\ttotal: 2.14s\tremaining: 298ms\n",
      "878:\tlearn: 18.8312106\ttotal: 2.15s\tremaining: 295ms\n",
      "879:\tlearn: 18.7718969\ttotal: 2.15s\tremaining: 293ms\n",
      "880:\tlearn: 18.7453473\ttotal: 2.15s\tremaining: 290ms\n",
      "881:\tlearn: 18.6851317\ttotal: 2.15s\tremaining: 288ms\n",
      "882:\tlearn: 18.5988650\ttotal: 2.16s\tremaining: 286ms\n",
      "883:\tlearn: 18.5525116\ttotal: 2.16s\tremaining: 283ms\n",
      "884:\tlearn: 18.4964362\ttotal: 2.16s\tremaining: 281ms\n",
      "885:\tlearn: 18.4542378\ttotal: 2.16s\tremaining: 279ms\n",
      "886:\tlearn: 18.4053368\ttotal: 2.17s\tremaining: 276ms\n",
      "887:\tlearn: 18.3676513\ttotal: 2.17s\tremaining: 274ms\n",
      "888:\tlearn: 18.3048839\ttotal: 2.17s\tremaining: 271ms\n",
      "889:\tlearn: 18.2501678\ttotal: 2.17s\tremaining: 269ms\n",
      "890:\tlearn: 18.2421410\ttotal: 2.18s\tremaining: 267ms\n",
      "891:\tlearn: 18.1820355\ttotal: 2.18s\tremaining: 264ms\n",
      "892:\tlearn: 18.1045997\ttotal: 2.18s\tremaining: 262ms\n",
      "893:\tlearn: 18.0516539\ttotal: 2.19s\tremaining: 259ms\n",
      "894:\tlearn: 17.9507407\ttotal: 2.19s\tremaining: 257ms\n",
      "895:\tlearn: 17.8656394\ttotal: 2.19s\tremaining: 255ms\n",
      "896:\tlearn: 17.8130004\ttotal: 2.19s\tremaining: 252ms\n",
      "897:\tlearn: 17.8056685\ttotal: 2.2s\tremaining: 250ms\n",
      "898:\tlearn: 17.7479301\ttotal: 2.2s\tremaining: 247ms\n",
      "899:\tlearn: 17.6628775\ttotal: 2.2s\tremaining: 245ms\n",
      "900:\tlearn: 17.6036263\ttotal: 2.2s\tremaining: 242ms\n",
      "901:\tlearn: 17.5548725\ttotal: 2.21s\tremaining: 240ms\n",
      "902:\tlearn: 17.5112982\ttotal: 2.21s\tremaining: 237ms\n",
      "903:\tlearn: 17.4337097\ttotal: 2.21s\tremaining: 235ms\n",
      "904:\tlearn: 17.3438812\ttotal: 2.21s\tremaining: 232ms\n",
      "905:\tlearn: 17.2978952\ttotal: 2.21s\tremaining: 230ms\n",
      "906:\tlearn: 17.2705120\ttotal: 2.22s\tremaining: 227ms\n",
      "907:\tlearn: 17.2197843\ttotal: 2.22s\tremaining: 225ms\n",
      "908:\tlearn: 17.1672918\ttotal: 2.22s\tremaining: 222ms\n",
      "909:\tlearn: 17.0962813\ttotal: 2.22s\tremaining: 220ms\n",
      "910:\tlearn: 17.0367884\ttotal: 2.23s\tremaining: 217ms\n",
      "911:\tlearn: 16.9995434\ttotal: 2.23s\tremaining: 215ms\n",
      "912:\tlearn: 16.9503108\ttotal: 2.23s\tremaining: 212ms\n",
      "913:\tlearn: 16.8634821\ttotal: 2.23s\tremaining: 210ms\n",
      "914:\tlearn: 16.8562342\ttotal: 2.23s\tremaining: 207ms\n",
      "915:\tlearn: 16.8266675\ttotal: 2.23s\tremaining: 205ms\n",
      "916:\tlearn: 16.8202756\ttotal: 2.24s\tremaining: 203ms\n",
      "917:\tlearn: 16.8140117\ttotal: 2.24s\tremaining: 200ms\n",
      "918:\tlearn: 16.7657793\ttotal: 2.24s\tremaining: 198ms\n",
      "919:\tlearn: 16.7455489\ttotal: 2.24s\tremaining: 195ms\n",
      "920:\tlearn: 16.7350234\ttotal: 2.25s\tremaining: 193ms\n",
      "921:\tlearn: 16.6764784\ttotal: 2.25s\tremaining: 190ms\n",
      "922:\tlearn: 16.6413683\ttotal: 2.25s\tremaining: 188ms\n",
      "923:\tlearn: 16.6313216\ttotal: 2.25s\tremaining: 185ms\n",
      "924:\tlearn: 16.5737890\ttotal: 2.25s\tremaining: 183ms\n",
      "925:\tlearn: 16.5612564\ttotal: 2.25s\tremaining: 180ms\n",
      "926:\tlearn: 16.5194103\ttotal: 2.26s\tremaining: 178ms\n",
      "927:\tlearn: 16.4774875\ttotal: 2.26s\tremaining: 175ms\n",
      "928:\tlearn: 16.4716862\ttotal: 2.26s\tremaining: 173ms\n",
      "929:\tlearn: 16.4373752\ttotal: 2.26s\tremaining: 170ms\n",
      "930:\tlearn: 16.4285377\ttotal: 2.27s\tremaining: 168ms\n",
      "931:\tlearn: 16.3673869\ttotal: 2.27s\tremaining: 165ms\n",
      "932:\tlearn: 16.3185470\ttotal: 2.27s\tremaining: 163ms\n",
      "933:\tlearn: 16.2631467\ttotal: 2.27s\tremaining: 161ms\n",
      "934:\tlearn: 16.1934975\ttotal: 2.27s\tremaining: 158ms\n",
      "935:\tlearn: 16.1884481\ttotal: 2.28s\tremaining: 156ms\n",
      "936:\tlearn: 16.1500024\ttotal: 2.28s\tremaining: 153ms\n",
      "937:\tlearn: 16.1409804\ttotal: 2.28s\tremaining: 151ms\n",
      "938:\tlearn: 16.0683587\ttotal: 2.28s\tremaining: 148ms\n",
      "939:\tlearn: 15.9809030\ttotal: 2.29s\tremaining: 146ms\n",
      "940:\tlearn: 15.8978202\ttotal: 2.29s\tremaining: 143ms\n",
      "941:\tlearn: 15.8709900\ttotal: 2.29s\tremaining: 141ms\n",
      "942:\tlearn: 15.8344018\ttotal: 2.29s\tremaining: 139ms\n",
      "943:\tlearn: 15.8295482\ttotal: 2.29s\tremaining: 136ms\n",
      "944:\tlearn: 15.7744973\ttotal: 2.29s\tremaining: 134ms\n",
      "945:\tlearn: 15.7305450\ttotal: 2.3s\tremaining: 131ms\n",
      "946:\tlearn: 15.6857434\ttotal: 2.3s\tremaining: 129ms\n",
      "947:\tlearn: 15.6591016\ttotal: 2.3s\tremaining: 126ms\n",
      "948:\tlearn: 15.6314256\ttotal: 2.3s\tremaining: 124ms\n",
      "949:\tlearn: 15.5788777\ttotal: 2.31s\tremaining: 121ms\n",
      "950:\tlearn: 15.5325554\ttotal: 2.31s\tremaining: 119ms\n",
      "951:\tlearn: 15.4890930\ttotal: 2.31s\tremaining: 117ms\n",
      "952:\tlearn: 15.4263779\ttotal: 2.31s\tremaining: 114ms\n",
      "953:\tlearn: 15.3892307\ttotal: 2.32s\tremaining: 112ms\n",
      "954:\tlearn: 15.3531641\ttotal: 2.32s\tremaining: 109ms\n",
      "955:\tlearn: 15.3172544\ttotal: 2.32s\tremaining: 107ms\n",
      "956:\tlearn: 15.2722481\ttotal: 2.32s\tremaining: 104ms\n",
      "957:\tlearn: 15.2509946\ttotal: 2.33s\tremaining: 102ms\n",
      "958:\tlearn: 15.2106080\ttotal: 2.33s\tremaining: 99.5ms\n",
      "959:\tlearn: 15.1550705\ttotal: 2.33s\tremaining: 97.1ms\n",
      "960:\tlearn: 15.1198927\ttotal: 2.33s\tremaining: 94.7ms\n",
      "961:\tlearn: 15.0521121\ttotal: 2.33s\tremaining: 92.2ms\n",
      "962:\tlearn: 15.0138282\ttotal: 2.34s\tremaining: 89.8ms\n",
      "963:\tlearn: 14.9511473\ttotal: 2.34s\tremaining: 87.4ms\n",
      "964:\tlearn: 14.9013556\ttotal: 2.34s\tremaining: 84.9ms\n",
      "965:\tlearn: 14.8491591\ttotal: 2.34s\tremaining: 82.5ms\n",
      "966:\tlearn: 14.7846364\ttotal: 2.35s\tremaining: 80ms\n",
      "967:\tlearn: 14.7378076\ttotal: 2.35s\tremaining: 77.6ms\n",
      "968:\tlearn: 14.6963646\ttotal: 2.35s\tremaining: 75.2ms\n",
      "969:\tlearn: 14.6368320\ttotal: 2.35s\tremaining: 72.7ms\n",
      "970:\tlearn: 14.5641432\ttotal: 2.35s\tremaining: 70.3ms\n",
      "971:\tlearn: 14.5009366\ttotal: 2.35s\tremaining: 67.9ms\n",
      "972:\tlearn: 14.4934257\ttotal: 2.36s\tremaining: 65.4ms\n",
      "973:\tlearn: 14.4521224\ttotal: 2.36s\tremaining: 63ms\n",
      "974:\tlearn: 14.4111253\ttotal: 2.36s\tremaining: 60.6ms\n",
      "975:\tlearn: 14.3698632\ttotal: 2.36s\tremaining: 58.1ms\n",
      "976:\tlearn: 14.3591191\ttotal: 2.37s\tremaining: 55.7ms\n",
      "977:\tlearn: 14.3269189\ttotal: 2.37s\tremaining: 53.3ms\n",
      "978:\tlearn: 14.2789397\ttotal: 2.37s\tremaining: 50.8ms\n",
      "979:\tlearn: 14.2216384\ttotal: 2.37s\tremaining: 48.4ms\n",
      "980:\tlearn: 14.1751644\ttotal: 2.37s\tremaining: 46ms\n",
      "981:\tlearn: 14.1256092\ttotal: 2.38s\tremaining: 43.6ms\n",
      "982:\tlearn: 14.0731502\ttotal: 2.38s\tremaining: 41.1ms\n",
      "983:\tlearn: 14.0117995\ttotal: 2.38s\tremaining: 38.7ms\n",
      "984:\tlearn: 13.9841830\ttotal: 2.38s\tremaining: 36.3ms\n",
      "985:\tlearn: 13.9230955\ttotal: 2.38s\tremaining: 33.9ms\n",
      "986:\tlearn: 13.8746811\ttotal: 2.39s\tremaining: 31.4ms\n",
      "987:\tlearn: 13.8092980\ttotal: 2.39s\tremaining: 29ms\n",
      "988:\tlearn: 13.7921958\ttotal: 2.39s\tremaining: 26.6ms\n",
      "989:\tlearn: 13.7424480\ttotal: 2.39s\tremaining: 24.2ms\n",
      "990:\tlearn: 13.6967360\ttotal: 2.4s\tremaining: 21.8ms\n",
      "991:\tlearn: 13.6709582\ttotal: 2.4s\tremaining: 19.3ms\n",
      "992:\tlearn: 13.6094706\ttotal: 2.4s\tremaining: 16.9ms\n",
      "993:\tlearn: 13.5641205\ttotal: 2.4s\tremaining: 14.5ms\n",
      "994:\tlearn: 13.5192775\ttotal: 2.4s\tremaining: 12.1ms\n",
      "995:\tlearn: 13.4902451\ttotal: 2.41s\tremaining: 9.67ms\n",
      "996:\tlearn: 13.4806052\ttotal: 2.41s\tremaining: 7.25ms\n",
      "997:\tlearn: 13.4282445\ttotal: 2.41s\tremaining: 4.83ms\n",
      "998:\tlearn: 13.4020177\ttotal: 2.41s\tremaining: 2.42ms\n",
      "999:\tlearn: 13.3781902\ttotal: 2.42s\tremaining: 0us\n"
     ]
    }
   ],
   "source": [
    "catb_model = CatBoostRegressor().fit(X_train,y_train)"
   ]
  },
  {
   "cell_type": "code",
   "execution_count": 186,
   "metadata": {},
   "outputs": [
    {
     "data": {
      "text/plain": [
       "350.2683163098795"
      ]
     },
     "execution_count": 186,
     "metadata": {},
     "output_type": "execute_result"
    }
   ],
   "source": [
    "y_pred = catb_model.predict(X_test)\n",
    "np.sqrt(mean_squared_error(y_pred,y_test))"
   ]
  },
  {
   "cell_type": "markdown",
   "metadata": {},
   "source": [
    "### CatBoost Model Tuning\n"
   ]
  },
  {
   "cell_type": "code",
   "execution_count": 187,
   "metadata": {},
   "outputs": [],
   "source": [
    "catb_params ={\"iterations\":[200,500],\n",
    "             \"learning_rate\":[0.01,0.1],\n",
    "             \"depth\":[3,5]}"
   ]
  },
  {
   "cell_type": "code",
   "execution_count": 188,
   "metadata": {
    "collapsed": true,
    "jupyter": {
     "outputs_hidden": true
    }
   },
   "outputs": [
    {
     "name": "stdout",
     "output_type": "stream",
     "text": [
      "Fitting 5 folds for each of 8 candidates, totalling 40 fits\n"
     ]
    },
    {
     "name": "stderr",
     "output_type": "stream",
     "text": [
      "[Parallel(n_jobs=-1)]: Using backend LokyBackend with 4 concurrent workers.\n",
      "[Parallel(n_jobs=-1)]: Done  33 tasks      | elapsed:   30.8s\n",
      "[Parallel(n_jobs=-1)]: Done  40 out of  40 | elapsed:   37.1s finished\n"
     ]
    },
    {
     "name": "stdout",
     "output_type": "stream",
     "text": [
      "0:\tlearn: 422.4143448\ttotal: 2.24ms\tremaining: 1.12s\n",
      "1:\tlearn: 404.1864276\ttotal: 5.35ms\tremaining: 1.33s\n",
      "2:\tlearn: 386.3231718\ttotal: 7.31ms\tremaining: 1.21s\n",
      "3:\tlearn: 370.5548032\ttotal: 9.24ms\tremaining: 1.15s\n",
      "4:\tlearn: 354.9242038\ttotal: 11.6ms\tremaining: 1.15s\n",
      "5:\tlearn: 342.3403984\ttotal: 13.8ms\tremaining: 1.14s\n",
      "6:\tlearn: 328.2370070\ttotal: 16.1ms\tremaining: 1.13s\n",
      "7:\tlearn: 317.5056526\ttotal: 18.4ms\tremaining: 1.13s\n",
      "8:\tlearn: 306.6243511\ttotal: 20.6ms\tremaining: 1.12s\n",
      "9:\tlearn: 297.3147023\ttotal: 22.6ms\tremaining: 1.11s\n",
      "10:\tlearn: 288.3685892\ttotal: 24.7ms\tremaining: 1.1s\n",
      "11:\tlearn: 281.0996220\ttotal: 26.9ms\tremaining: 1.09s\n",
      "12:\tlearn: 273.2254898\ttotal: 28.5ms\tremaining: 1.07s\n",
      "13:\tlearn: 266.9003385\ttotal: 29.9ms\tremaining: 1.04s\n",
      "14:\tlearn: 261.9092500\ttotal: 31.4ms\tremaining: 1.02s\n",
      "15:\tlearn: 256.2637350\ttotal: 33ms\tremaining: 999ms\n",
      "16:\tlearn: 250.3667935\ttotal: 34.6ms\tremaining: 984ms\n",
      "17:\tlearn: 244.8631098\ttotal: 36.8ms\tremaining: 986ms\n",
      "18:\tlearn: 240.1540669\ttotal: 38.8ms\tremaining: 982ms\n",
      "19:\tlearn: 235.6057263\ttotal: 40.6ms\tremaining: 975ms\n",
      "20:\tlearn: 231.2431102\ttotal: 42.7ms\tremaining: 974ms\n",
      "21:\tlearn: 226.4912464\ttotal: 44.5ms\tremaining: 966ms\n",
      "22:\tlearn: 223.5591707\ttotal: 45.2ms\tremaining: 937ms\n",
      "23:\tlearn: 219.6098928\ttotal: 46.6ms\tremaining: 925ms\n",
      "24:\tlearn: 215.3653069\ttotal: 48.4ms\tremaining: 920ms\n",
      "25:\tlearn: 212.0589058\ttotal: 50.4ms\tremaining: 918ms\n",
      "26:\tlearn: 209.7717728\ttotal: 51.7ms\tremaining: 906ms\n",
      "27:\tlearn: 206.4800180\ttotal: 53.4ms\tremaining: 899ms\n",
      "28:\tlearn: 204.4998286\ttotal: 54.8ms\tremaining: 890ms\n",
      "29:\tlearn: 202.5999376\ttotal: 56.7ms\tremaining: 888ms\n",
      "30:\tlearn: 199.5099986\ttotal: 58ms\tremaining: 878ms\n",
      "31:\tlearn: 196.9435690\ttotal: 59.7ms\tremaining: 873ms\n",
      "32:\tlearn: 194.9855023\ttotal: 61.4ms\tremaining: 869ms\n",
      "33:\tlearn: 193.0037094\ttotal: 62.7ms\tremaining: 860ms\n",
      "34:\tlearn: 191.6771224\ttotal: 64.3ms\tremaining: 854ms\n",
      "35:\tlearn: 188.6440989\ttotal: 66.2ms\tremaining: 853ms\n",
      "36:\tlearn: 186.7575822\ttotal: 67.7ms\tremaining: 848ms\n",
      "37:\tlearn: 183.5070965\ttotal: 69.4ms\tremaining: 843ms\n",
      "38:\tlearn: 181.9932704\ttotal: 70.8ms\tremaining: 837ms\n",
      "39:\tlearn: 180.4612043\ttotal: 72.7ms\tremaining: 836ms\n",
      "40:\tlearn: 178.9727236\ttotal: 74.4ms\tremaining: 833ms\n",
      "41:\tlearn: 176.9704782\ttotal: 75.8ms\tremaining: 826ms\n",
      "42:\tlearn: 172.9583917\ttotal: 77.1ms\tremaining: 819ms\n",
      "43:\tlearn: 172.0259404\ttotal: 78.6ms\tremaining: 815ms\n",
      "44:\tlearn: 169.6703908\ttotal: 80.2ms\tremaining: 811ms\n",
      "45:\tlearn: 167.0349788\ttotal: 82ms\tremaining: 810ms\n",
      "46:\tlearn: 166.0151540\ttotal: 83.4ms\tremaining: 804ms\n",
      "47:\tlearn: 164.3432866\ttotal: 84.9ms\tremaining: 800ms\n",
      "48:\tlearn: 163.7139546\ttotal: 86.6ms\tremaining: 797ms\n",
      "49:\tlearn: 162.0231882\ttotal: 88.1ms\tremaining: 793ms\n",
      "50:\tlearn: 159.4806540\ttotal: 89.5ms\tremaining: 788ms\n",
      "51:\tlearn: 156.5835618\ttotal: 91ms\tremaining: 784ms\n",
      "52:\tlearn: 155.1124833\ttotal: 92.5ms\tremaining: 781ms\n",
      "53:\tlearn: 154.3849650\ttotal: 94.1ms\tremaining: 777ms\n",
      "54:\tlearn: 153.2243534\ttotal: 95.6ms\tremaining: 774ms\n",
      "55:\tlearn: 152.3205510\ttotal: 96.9ms\tremaining: 768ms\n",
      "56:\tlearn: 151.0666069\ttotal: 98.4ms\tremaining: 765ms\n",
      "57:\tlearn: 150.0992693\ttotal: 99.9ms\tremaining: 761ms\n",
      "58:\tlearn: 149.7214223\ttotal: 101ms\tremaining: 757ms\n",
      "59:\tlearn: 149.3420563\ttotal: 103ms\tremaining: 758ms\n",
      "60:\tlearn: 147.1527638\ttotal: 105ms\tremaining: 756ms\n",
      "61:\tlearn: 146.0849045\ttotal: 107ms\tremaining: 754ms\n",
      "62:\tlearn: 145.2592821\ttotal: 111ms\tremaining: 769ms\n",
      "63:\tlearn: 143.9723823\ttotal: 113ms\tremaining: 770ms\n",
      "64:\tlearn: 142.9337890\ttotal: 115ms\tremaining: 773ms\n",
      "65:\tlearn: 141.2456060\ttotal: 117ms\tremaining: 770ms\n",
      "66:\tlearn: 140.0933886\ttotal: 119ms\tremaining: 767ms\n",
      "67:\tlearn: 139.0122411\ttotal: 120ms\tremaining: 762ms\n",
      "68:\tlearn: 137.0658535\ttotal: 121ms\tremaining: 758ms\n",
      "69:\tlearn: 136.5187600\ttotal: 123ms\tremaining: 753ms\n",
      "70:\tlearn: 135.3177866\ttotal: 124ms\tremaining: 751ms\n",
      "71:\tlearn: 134.4397288\ttotal: 127ms\tremaining: 755ms\n",
      "72:\tlearn: 133.9689054\ttotal: 128ms\tremaining: 751ms\n",
      "73:\tlearn: 132.9503812\ttotal: 130ms\tremaining: 748ms\n",
      "74:\tlearn: 132.4790284\ttotal: 131ms\tremaining: 744ms\n",
      "75:\tlearn: 130.0079846\ttotal: 133ms\tremaining: 740ms\n",
      "76:\tlearn: 128.6536311\ttotal: 134ms\tremaining: 735ms\n",
      "77:\tlearn: 126.4149435\ttotal: 135ms\tremaining: 732ms\n",
      "78:\tlearn: 124.7339610\ttotal: 137ms\tremaining: 729ms\n",
      "79:\tlearn: 123.6799098\ttotal: 141ms\tremaining: 740ms\n",
      "80:\tlearn: 122.0132818\ttotal: 144ms\tremaining: 744ms\n",
      "81:\tlearn: 121.7718402\ttotal: 146ms\tremaining: 742ms\n",
      "82:\tlearn: 121.0226763\ttotal: 147ms\tremaining: 740ms\n",
      "83:\tlearn: 119.0352412\ttotal: 149ms\tremaining: 738ms\n",
      "84:\tlearn: 118.1578472\ttotal: 153ms\tremaining: 745ms\n",
      "85:\tlearn: 117.3963152\ttotal: 156ms\tremaining: 749ms\n",
      "86:\tlearn: 116.8601830\ttotal: 158ms\tremaining: 749ms\n",
      "87:\tlearn: 115.1485488\ttotal: 160ms\tremaining: 750ms\n",
      "88:\tlearn: 113.3802066\ttotal: 163ms\tremaining: 755ms\n",
      "89:\tlearn: 111.8047507\ttotal: 166ms\tremaining: 755ms\n",
      "90:\tlearn: 111.2173889\ttotal: 168ms\tremaining: 757ms\n",
      "91:\tlearn: 109.7797673\ttotal: 170ms\tremaining: 755ms\n",
      "92:\tlearn: 108.5968886\ttotal: 173ms\tremaining: 757ms\n",
      "93:\tlearn: 107.3902106\ttotal: 175ms\tremaining: 756ms\n",
      "94:\tlearn: 106.5920119\ttotal: 177ms\tremaining: 755ms\n",
      "95:\tlearn: 105.9400132\ttotal: 179ms\tremaining: 754ms\n",
      "96:\tlearn: 104.5018068\ttotal: 181ms\tremaining: 750ms\n",
      "97:\tlearn: 104.2449785\ttotal: 182ms\tremaining: 748ms\n",
      "98:\tlearn: 102.4745810\ttotal: 184ms\tremaining: 744ms\n",
      "99:\tlearn: 101.5007722\ttotal: 185ms\tremaining: 740ms\n",
      "100:\tlearn: 101.0929742\ttotal: 186ms\tremaining: 736ms\n",
      "101:\tlearn: 100.8864538\ttotal: 188ms\tremaining: 733ms\n",
      "102:\tlearn: 99.5007076\ttotal: 190ms\tremaining: 730ms\n",
      "103:\tlearn: 98.1646778\ttotal: 191ms\tremaining: 729ms\n",
      "104:\tlearn: 97.1950961\ttotal: 193ms\tremaining: 727ms\n",
      "105:\tlearn: 96.0991462\ttotal: 195ms\tremaining: 724ms\n",
      "106:\tlearn: 95.4337941\ttotal: 196ms\tremaining: 720ms\n",
      "107:\tlearn: 94.9099345\ttotal: 198ms\tremaining: 718ms\n",
      "108:\tlearn: 94.3889362\ttotal: 199ms\tremaining: 714ms\n",
      "109:\tlearn: 94.2091744\ttotal: 202ms\tremaining: 715ms\n",
      "110:\tlearn: 92.8508793\ttotal: 203ms\tremaining: 712ms\n",
      "111:\tlearn: 92.1784338\ttotal: 205ms\tremaining: 710ms\n",
      "112:\tlearn: 91.6689944\ttotal: 207ms\tremaining: 708ms\n",
      "113:\tlearn: 90.6644520\ttotal: 208ms\tremaining: 705ms\n",
      "114:\tlearn: 90.5375287\ttotal: 210ms\tremaining: 702ms\n",
      "115:\tlearn: 90.3442623\ttotal: 211ms\tremaining: 698ms\n",
      "116:\tlearn: 89.3637881\ttotal: 213ms\tremaining: 698ms\n",
      "117:\tlearn: 88.5340073\ttotal: 215ms\tremaining: 695ms\n",
      "118:\tlearn: 88.3598014\ttotal: 217ms\tremaining: 694ms\n",
      "119:\tlearn: 87.1290719\ttotal: 218ms\tremaining: 691ms\n",
      "120:\tlearn: 87.0034893\ttotal: 220ms\tremaining: 689ms\n",
      "121:\tlearn: 85.9581724\ttotal: 221ms\tremaining: 686ms\n",
      "122:\tlearn: 84.7062226\ttotal: 223ms\tremaining: 683ms\n",
      "123:\tlearn: 84.6114296\ttotal: 224ms\tremaining: 680ms\n",
      "124:\tlearn: 83.3769126\ttotal: 226ms\tremaining: 677ms\n",
      "125:\tlearn: 82.2866094\ttotal: 228ms\tremaining: 675ms\n",
      "126:\tlearn: 81.7817112\ttotal: 230ms\tremaining: 676ms\n",
      "127:\tlearn: 80.3710545\ttotal: 231ms\tremaining: 673ms\n",
      "128:\tlearn: 79.3458239\ttotal: 233ms\tremaining: 670ms\n",
      "129:\tlearn: 78.8966509\ttotal: 235ms\tremaining: 668ms\n",
      "130:\tlearn: 78.7683699\ttotal: 236ms\tremaining: 666ms\n",
      "131:\tlearn: 78.0116712\ttotal: 238ms\tremaining: 663ms\n",
      "132:\tlearn: 77.5728582\ttotal: 240ms\tremaining: 663ms\n",
      "133:\tlearn: 76.4635356\ttotal: 242ms\tremaining: 661ms\n",
      "134:\tlearn: 75.6109482\ttotal: 244ms\tremaining: 659ms\n",
      "135:\tlearn: 74.8287886\ttotal: 245ms\tremaining: 656ms\n",
      "136:\tlearn: 74.2493825\ttotal: 247ms\tremaining: 653ms\n",
      "137:\tlearn: 73.3192822\ttotal: 248ms\tremaining: 651ms\n",
      "138:\tlearn: 72.9755066\ttotal: 250ms\tremaining: 648ms\n",
      "139:\tlearn: 72.8423874\ttotal: 251ms\tremaining: 646ms\n",
      "140:\tlearn: 71.5949506\ttotal: 254ms\tremaining: 647ms\n",
      "141:\tlearn: 70.9408732\ttotal: 255ms\tremaining: 644ms\n",
      "142:\tlearn: 70.1699642\ttotal: 258ms\tremaining: 644ms\n",
      "143:\tlearn: 69.8737644\ttotal: 259ms\tremaining: 641ms\n",
      "144:\tlearn: 69.0963759\ttotal: 261ms\tremaining: 638ms\n",
      "145:\tlearn: 68.9702397\ttotal: 262ms\tremaining: 635ms\n",
      "146:\tlearn: 67.8950397\ttotal: 264ms\tremaining: 633ms\n",
      "147:\tlearn: 67.1501269\ttotal: 266ms\tremaining: 632ms\n",
      "148:\tlearn: 66.4028868\ttotal: 267ms\tremaining: 630ms\n",
      "149:\tlearn: 65.3349813\ttotal: 270ms\tremaining: 629ms\n",
      "150:\tlearn: 64.6766190\ttotal: 272ms\tremaining: 628ms\n",
      "151:\tlearn: 63.7390417\ttotal: 274ms\tremaining: 627ms\n",
      "152:\tlearn: 62.9043101\ttotal: 279ms\tremaining: 633ms\n",
      "153:\tlearn: 62.5922794\ttotal: 282ms\tremaining: 635ms\n",
      "154:\tlearn: 62.1160450\ttotal: 286ms\tremaining: 636ms\n",
      "155:\tlearn: 61.7702532\ttotal: 289ms\tremaining: 637ms\n",
      "156:\tlearn: 61.2433354\ttotal: 290ms\tremaining: 634ms\n",
      "157:\tlearn: 60.8455422\ttotal: 294ms\tremaining: 636ms\n",
      "158:\tlearn: 60.6755303\ttotal: 296ms\tremaining: 635ms\n",
      "159:\tlearn: 59.9631043\ttotal: 298ms\tremaining: 633ms\n",
      "160:\tlearn: 59.2211911\ttotal: 299ms\tremaining: 630ms\n",
      "161:\tlearn: 59.1400932\ttotal: 301ms\tremaining: 627ms\n",
      "162:\tlearn: 58.9164262\ttotal: 302ms\tremaining: 625ms\n",
      "163:\tlearn: 58.2084420\ttotal: 304ms\tremaining: 623ms\n",
      "164:\tlearn: 57.9934649\ttotal: 306ms\tremaining: 621ms\n",
      "165:\tlearn: 57.3736694\ttotal: 307ms\tremaining: 618ms\n",
      "166:\tlearn: 56.8338370\ttotal: 309ms\tremaining: 616ms\n",
      "167:\tlearn: 56.5518049\ttotal: 311ms\tremaining: 614ms\n",
      "168:\tlearn: 55.9777349\ttotal: 312ms\tremaining: 611ms\n",
      "169:\tlearn: 55.4485860\ttotal: 314ms\tremaining: 609ms\n",
      "170:\tlearn: 55.0892542\ttotal: 317ms\tremaining: 609ms\n",
      "171:\tlearn: 54.9915464\ttotal: 319ms\tremaining: 609ms\n",
      "172:\tlearn: 54.3968112\ttotal: 321ms\tremaining: 607ms\n",
      "173:\tlearn: 53.7708163\ttotal: 323ms\tremaining: 605ms\n",
      "174:\tlearn: 53.1993023\ttotal: 324ms\tremaining: 602ms\n",
      "175:\tlearn: 52.7773821\ttotal: 328ms\tremaining: 603ms\n",
      "176:\tlearn: 52.5186612\ttotal: 329ms\tremaining: 601ms\n",
      "177:\tlearn: 52.0038075\ttotal: 332ms\tremaining: 600ms\n",
      "178:\tlearn: 51.7971195\ttotal: 334ms\tremaining: 599ms\n",
      "179:\tlearn: 51.4334863\ttotal: 337ms\tremaining: 598ms\n",
      "180:\tlearn: 50.9151359\ttotal: 338ms\tremaining: 596ms\n",
      "181:\tlearn: 50.8252320\ttotal: 340ms\tremaining: 594ms\n",
      "182:\tlearn: 50.4143487\ttotal: 342ms\tremaining: 592ms\n",
      "183:\tlearn: 50.0253432\ttotal: 343ms\tremaining: 589ms\n",
      "184:\tlearn: 49.6769233\ttotal: 345ms\tremaining: 587ms\n",
      "185:\tlearn: 49.5689505\ttotal: 347ms\tremaining: 586ms\n",
      "186:\tlearn: 49.0813531\ttotal: 349ms\tremaining: 583ms\n",
      "187:\tlearn: 48.9396335\ttotal: 350ms\tremaining: 581ms\n",
      "188:\tlearn: 48.5040716\ttotal: 352ms\tremaining: 579ms\n",
      "189:\tlearn: 47.9644995\ttotal: 353ms\tremaining: 576ms\n",
      "190:\tlearn: 47.8292554\ttotal: 356ms\tremaining: 575ms\n",
      "191:\tlearn: 47.4433025\ttotal: 357ms\tremaining: 573ms\n",
      "192:\tlearn: 46.9286959\ttotal: 358ms\tremaining: 570ms\n",
      "193:\tlearn: 46.3092347\ttotal: 360ms\tremaining: 568ms\n",
      "194:\tlearn: 45.7431428\ttotal: 362ms\tremaining: 566ms\n",
      "195:\tlearn: 45.6714261\ttotal: 364ms\tremaining: 564ms\n",
      "196:\tlearn: 45.5088158\ttotal: 365ms\tremaining: 562ms\n",
      "197:\tlearn: 45.4713460\ttotal: 367ms\tremaining: 560ms\n",
      "198:\tlearn: 45.0942536\ttotal: 368ms\tremaining: 557ms\n",
      "199:\tlearn: 44.7625600\ttotal: 370ms\tremaining: 555ms\n",
      "200:\tlearn: 44.3247006\ttotal: 372ms\tremaining: 553ms\n",
      "201:\tlearn: 43.8054974\ttotal: 373ms\tremaining: 551ms\n",
      "202:\tlearn: 43.3359785\ttotal: 376ms\tremaining: 550ms\n",
      "203:\tlearn: 42.8698272\ttotal: 377ms\tremaining: 547ms\n",
      "204:\tlearn: 42.4275364\ttotal: 379ms\tremaining: 545ms\n",
      "205:\tlearn: 41.9463597\ttotal: 381ms\tremaining: 543ms\n",
      "206:\tlearn: 41.7547985\ttotal: 382ms\tremaining: 541ms\n",
      "207:\tlearn: 41.6019714\ttotal: 383ms\tremaining: 538ms\n",
      "208:\tlearn: 41.4342896\ttotal: 385ms\tremaining: 536ms\n",
      "209:\tlearn: 41.0764993\ttotal: 387ms\tremaining: 534ms\n",
      "210:\tlearn: 40.7895715\ttotal: 388ms\tremaining: 531ms\n",
      "211:\tlearn: 40.4428042\ttotal: 389ms\tremaining: 529ms\n",
      "212:\tlearn: 39.9370849\ttotal: 392ms\tremaining: 528ms\n",
      "213:\tlearn: 39.4885257\ttotal: 393ms\tremaining: 525ms\n",
      "214:\tlearn: 39.1268375\ttotal: 395ms\tremaining: 523ms\n",
      "215:\tlearn: 38.9591271\ttotal: 397ms\tremaining: 521ms\n",
      "216:\tlearn: 38.8008893\ttotal: 398ms\tremaining: 519ms\n",
      "217:\tlearn: 38.4956003\ttotal: 399ms\tremaining: 517ms\n",
      "218:\tlearn: 38.3528545\ttotal: 401ms\tremaining: 515ms\n",
      "219:\tlearn: 38.1794276\ttotal: 404ms\tremaining: 514ms\n",
      "220:\tlearn: 38.1135196\ttotal: 405ms\tremaining: 512ms\n",
      "221:\tlearn: 37.9126665\ttotal: 407ms\tremaining: 510ms\n",
      "222:\tlearn: 37.5375523\ttotal: 409ms\tremaining: 508ms\n",
      "223:\tlearn: 37.3774479\ttotal: 410ms\tremaining: 505ms\n",
      "224:\tlearn: 36.8965396\ttotal: 412ms\tremaining: 503ms\n",
      "225:\tlearn: 36.4012999\ttotal: 414ms\tremaining: 502ms\n",
      "226:\tlearn: 35.9300616\ttotal: 416ms\tremaining: 500ms\n",
      "227:\tlearn: 35.6148029\ttotal: 418ms\tremaining: 498ms\n",
      "228:\tlearn: 35.2741594\ttotal: 419ms\tremaining: 496ms\n",
      "229:\tlearn: 35.0196015\ttotal: 421ms\tremaining: 494ms\n",
      "230:\tlearn: 34.5877862\ttotal: 423ms\tremaining: 492ms\n",
      "231:\tlearn: 34.4128370\ttotal: 425ms\tremaining: 491ms\n",
      "232:\tlearn: 34.2685016\ttotal: 427ms\tremaining: 489ms\n",
      "233:\tlearn: 34.2021290\ttotal: 428ms\tremaining: 487ms\n",
      "234:\tlearn: 34.1117548\ttotal: 430ms\tremaining: 485ms\n",
      "235:\tlearn: 33.7038307\ttotal: 433ms\tremaining: 484ms\n",
      "236:\tlearn: 33.6591145\ttotal: 434ms\tremaining: 482ms\n",
      "237:\tlearn: 33.6134076\ttotal: 436ms\tremaining: 479ms\n",
      "238:\tlearn: 33.3091022\ttotal: 438ms\tremaining: 478ms\n",
      "239:\tlearn: 33.2050988\ttotal: 439ms\tremaining: 476ms\n",
      "240:\tlearn: 32.7984087\ttotal: 441ms\tremaining: 474ms\n",
      "241:\tlearn: 32.4886567\ttotal: 443ms\tremaining: 472ms\n",
      "242:\tlearn: 32.3354906\ttotal: 445ms\tremaining: 470ms\n",
      "243:\tlearn: 32.1610609\ttotal: 446ms\tremaining: 468ms\n",
      "244:\tlearn: 31.9242693\ttotal: 449ms\tremaining: 467ms\n",
      "245:\tlearn: 31.4693550\ttotal: 451ms\tremaining: 466ms\n",
      "246:\tlearn: 31.1071532\ttotal: 453ms\tremaining: 464ms\n",
      "247:\tlearn: 30.7311162\ttotal: 455ms\tremaining: 462ms\n",
      "248:\tlearn: 30.4892550\ttotal: 457ms\tremaining: 461ms\n",
      "249:\tlearn: 30.3680212\ttotal: 459ms\tremaining: 459ms\n",
      "250:\tlearn: 30.1346007\ttotal: 461ms\tremaining: 457ms\n",
      "251:\tlearn: 29.8046285\ttotal: 463ms\tremaining: 456ms\n",
      "252:\tlearn: 29.6637514\ttotal: 465ms\tremaining: 454ms\n",
      "253:\tlearn: 29.5176095\ttotal: 466ms\tremaining: 452ms\n",
      "254:\tlearn: 29.3723319\ttotal: 468ms\tremaining: 449ms\n",
      "255:\tlearn: 29.1301438\ttotal: 471ms\tremaining: 449ms\n",
      "256:\tlearn: 29.1025017\ttotal: 472ms\tremaining: 446ms\n",
      "257:\tlearn: 28.8276340\ttotal: 474ms\tremaining: 444ms\n",
      "258:\tlearn: 28.6313979\ttotal: 475ms\tremaining: 442ms\n",
      "259:\tlearn: 28.3904787\ttotal: 476ms\tremaining: 440ms\n",
      "260:\tlearn: 27.9496011\ttotal: 478ms\tremaining: 438ms\n",
      "261:\tlearn: 27.6744647\ttotal: 480ms\tremaining: 436ms\n",
      "262:\tlearn: 27.5631687\ttotal: 482ms\tremaining: 434ms\n",
      "263:\tlearn: 27.2940171\ttotal: 483ms\tremaining: 432ms\n",
      "264:\tlearn: 27.0524989\ttotal: 485ms\tremaining: 430ms\n",
      "265:\tlearn: 26.9019408\ttotal: 486ms\tremaining: 428ms\n",
      "266:\tlearn: 26.7539234\ttotal: 488ms\tremaining: 426ms\n",
      "267:\tlearn: 26.5906135\ttotal: 489ms\tremaining: 424ms\n",
      "268:\tlearn: 26.3413069\ttotal: 491ms\tremaining: 421ms\n",
      "269:\tlearn: 26.2300985\ttotal: 492ms\tremaining: 419ms\n",
      "270:\tlearn: 25.7633750\ttotal: 495ms\tremaining: 418ms\n",
      "271:\tlearn: 25.5999298\ttotal: 497ms\tremaining: 416ms\n",
      "272:\tlearn: 25.4034221\ttotal: 499ms\tremaining: 415ms\n",
      "273:\tlearn: 25.3449361\ttotal: 501ms\tremaining: 413ms\n",
      "274:\tlearn: 25.1308675\ttotal: 502ms\tremaining: 411ms\n",
      "275:\tlearn: 24.8170605\ttotal: 505ms\tremaining: 410ms\n",
      "276:\tlearn: 24.5265387\ttotal: 507ms\tremaining: 408ms\n",
      "277:\tlearn: 24.3891773\ttotal: 508ms\tremaining: 406ms\n",
      "278:\tlearn: 24.1691955\ttotal: 510ms\tremaining: 404ms\n",
      "279:\tlearn: 23.9780841\ttotal: 511ms\tremaining: 402ms\n",
      "280:\tlearn: 23.7459991\ttotal: 513ms\tremaining: 400ms\n",
      "281:\tlearn: 23.5762098\ttotal: 515ms\tremaining: 398ms\n",
      "282:\tlearn: 23.4130148\ttotal: 517ms\tremaining: 396ms\n",
      "283:\tlearn: 23.1365659\ttotal: 518ms\tremaining: 394ms\n",
      "284:\tlearn: 22.9605139\ttotal: 520ms\tremaining: 393ms\n",
      "285:\tlearn: 22.8198952\ttotal: 522ms\tremaining: 390ms\n",
      "286:\tlearn: 22.7220776\ttotal: 523ms\tremaining: 388ms\n",
      "287:\tlearn: 22.6349162\ttotal: 526ms\tremaining: 387ms\n",
      "288:\tlearn: 22.5037731\ttotal: 527ms\tremaining: 385ms\n",
      "289:\tlearn: 22.4280658\ttotal: 529ms\tremaining: 383ms\n",
      "290:\tlearn: 22.4111078\ttotal: 531ms\tremaining: 381ms\n",
      "291:\tlearn: 22.2582825\ttotal: 532ms\tremaining: 379ms\n",
      "292:\tlearn: 22.0361847\ttotal: 534ms\tremaining: 377ms\n",
      "293:\tlearn: 21.9197616\ttotal: 535ms\tremaining: 375ms\n",
      "294:\tlearn: 21.8934931\ttotal: 537ms\tremaining: 373ms\n",
      "295:\tlearn: 21.8385467\ttotal: 538ms\tremaining: 371ms\n",
      "296:\tlearn: 21.6056469\ttotal: 540ms\tremaining: 369ms\n",
      "297:\tlearn: 21.3638471\ttotal: 542ms\tremaining: 367ms\n",
      "298:\tlearn: 21.2403020\ttotal: 543ms\tremaining: 365ms\n",
      "299:\tlearn: 20.9940588\ttotal: 546ms\tremaining: 364ms\n",
      "300:\tlearn: 20.8606002\ttotal: 547ms\tremaining: 362ms\n",
      "301:\tlearn: 20.7521062\ttotal: 549ms\tremaining: 360ms\n",
      "302:\tlearn: 20.4914061\ttotal: 551ms\tremaining: 358ms\n",
      "303:\tlearn: 20.4390781\ttotal: 552ms\tremaining: 356ms\n",
      "304:\tlearn: 20.4261039\ttotal: 554ms\tremaining: 354ms\n",
      "305:\tlearn: 20.3429361\ttotal: 556ms\tremaining: 352ms\n",
      "306:\tlearn: 20.3186699\ttotal: 558ms\tremaining: 351ms\n",
      "307:\tlearn: 20.2200547\ttotal: 559ms\tremaining: 349ms\n",
      "308:\tlearn: 20.0363798\ttotal: 561ms\tremaining: 347ms\n",
      "309:\tlearn: 19.9375964\ttotal: 563ms\tremaining: 345ms\n",
      "310:\tlearn: 19.8562475\ttotal: 564ms\tremaining: 343ms\n",
      "311:\tlearn: 19.7207383\ttotal: 567ms\tremaining: 342ms\n",
      "312:\tlearn: 19.5840205\ttotal: 569ms\tremaining: 340ms\n",
      "313:\tlearn: 19.4498604\ttotal: 572ms\tremaining: 339ms\n",
      "314:\tlearn: 19.3106313\ttotal: 575ms\tremaining: 338ms\n",
      "315:\tlearn: 19.1555646\ttotal: 579ms\tremaining: 337ms\n",
      "316:\tlearn: 19.1426558\ttotal: 582ms\tremaining: 336ms\n",
      "317:\tlearn: 19.0179770\ttotal: 587ms\tremaining: 336ms\n",
      "318:\tlearn: 18.9331646\ttotal: 588ms\tremaining: 334ms\n",
      "319:\tlearn: 18.7759664\ttotal: 590ms\tremaining: 332ms\n",
      "320:\tlearn: 18.7302473\ttotal: 592ms\tremaining: 330ms\n",
      "321:\tlearn: 18.6822773\ttotal: 593ms\tremaining: 328ms\n",
      "322:\tlearn: 18.6212081\ttotal: 595ms\tremaining: 326ms\n",
      "323:\tlearn: 18.3825932\ttotal: 597ms\tremaining: 324ms\n",
      "324:\tlearn: 18.0840511\ttotal: 599ms\tremaining: 322ms\n",
      "325:\tlearn: 17.9626242\ttotal: 601ms\tremaining: 321ms\n",
      "326:\tlearn: 17.8194649\ttotal: 603ms\tremaining: 319ms\n",
      "327:\tlearn: 17.6897852\ttotal: 604ms\tremaining: 317ms\n",
      "328:\tlearn: 17.6729587\ttotal: 606ms\tremaining: 315ms\n",
      "329:\tlearn: 17.5730192\ttotal: 608ms\tremaining: 313ms\n",
      "330:\tlearn: 17.3061709\ttotal: 610ms\tremaining: 311ms\n",
      "331:\tlearn: 17.2732138\ttotal: 612ms\tremaining: 309ms\n",
      "332:\tlearn: 17.1284244\ttotal: 613ms\tremaining: 308ms\n",
      "333:\tlearn: 17.0578788\ttotal: 615ms\tremaining: 305ms\n",
      "334:\tlearn: 16.9109643\ttotal: 617ms\tremaining: 304ms\n",
      "335:\tlearn: 16.6595095\ttotal: 618ms\tremaining: 302ms\n",
      "336:\tlearn: 16.5240861\ttotal: 620ms\tremaining: 300ms\n",
      "337:\tlearn: 16.3631551\ttotal: 622ms\tremaining: 298ms\n",
      "338:\tlearn: 16.2364521\ttotal: 624ms\tremaining: 296ms\n",
      "339:\tlearn: 16.1259236\ttotal: 625ms\tremaining: 294ms\n",
      "340:\tlearn: 16.1070160\ttotal: 627ms\tremaining: 292ms\n",
      "341:\tlearn: 15.9446333\ttotal: 628ms\tremaining: 290ms\n",
      "342:\tlearn: 15.8404109\ttotal: 630ms\tremaining: 288ms\n",
      "343:\tlearn: 15.7616719\ttotal: 632ms\tremaining: 286ms\n",
      "344:\tlearn: 15.7046860\ttotal: 633ms\tremaining: 284ms\n",
      "345:\tlearn: 15.5565531\ttotal: 635ms\tremaining: 282ms\n",
      "346:\tlearn: 15.4739767\ttotal: 636ms\tremaining: 281ms\n",
      "347:\tlearn: 15.4214691\ttotal: 638ms\tremaining: 279ms\n",
      "348:\tlearn: 15.3830392\ttotal: 639ms\tremaining: 277ms\n",
      "349:\tlearn: 15.2925503\ttotal: 641ms\tremaining: 275ms\n",
      "350:\tlearn: 15.2685305\ttotal: 643ms\tremaining: 273ms\n",
      "351:\tlearn: 15.0959980\ttotal: 646ms\tremaining: 271ms\n",
      "352:\tlearn: 15.0185539\ttotal: 649ms\tremaining: 270ms\n",
      "353:\tlearn: 14.9344909\ttotal: 651ms\tremaining: 269ms\n",
      "354:\tlearn: 14.8185511\ttotal: 659ms\tremaining: 269ms\n",
      "355:\tlearn: 14.7621205\ttotal: 661ms\tremaining: 267ms\n",
      "356:\tlearn: 14.6824384\ttotal: 663ms\tremaining: 266ms\n",
      "357:\tlearn: 14.5918871\ttotal: 665ms\tremaining: 264ms\n",
      "358:\tlearn: 14.4898356\ttotal: 667ms\tremaining: 262ms\n",
      "359:\tlearn: 14.4773981\ttotal: 669ms\tremaining: 260ms\n",
      "360:\tlearn: 14.3256006\ttotal: 671ms\tremaining: 258ms\n",
      "361:\tlearn: 14.1704867\ttotal: 673ms\tremaining: 257ms\n",
      "362:\tlearn: 14.0453382\ttotal: 675ms\tremaining: 255ms\n",
      "363:\tlearn: 13.9488312\ttotal: 677ms\tremaining: 253ms\n",
      "364:\tlearn: 13.8932251\ttotal: 678ms\tremaining: 251ms\n",
      "365:\tlearn: 13.7368549\ttotal: 680ms\tremaining: 249ms\n",
      "366:\tlearn: 13.6533268\ttotal: 682ms\tremaining: 247ms\n",
      "367:\tlearn: 13.5191569\ttotal: 705ms\tremaining: 253ms\n",
      "368:\tlearn: 13.4712080\ttotal: 709ms\tremaining: 252ms\n",
      "369:\tlearn: 13.3454926\ttotal: 712ms\tremaining: 250ms\n",
      "370:\tlearn: 13.2804919\ttotal: 714ms\tremaining: 248ms\n",
      "371:\tlearn: 13.2609934\ttotal: 718ms\tremaining: 247ms\n",
      "372:\tlearn: 13.1804458\ttotal: 722ms\tremaining: 246ms\n",
      "373:\tlearn: 13.0381162\ttotal: 724ms\tremaining: 244ms\n",
      "374:\tlearn: 13.0250736\ttotal: 726ms\tremaining: 242ms\n",
      "375:\tlearn: 13.0006609\ttotal: 728ms\tremaining: 240ms\n",
      "376:\tlearn: 12.8507663\ttotal: 730ms\tremaining: 238ms\n",
      "377:\tlearn: 12.6986039\ttotal: 732ms\tremaining: 236ms\n",
      "378:\tlearn: 12.5574544\ttotal: 733ms\tremaining: 234ms\n",
      "379:\tlearn: 12.4864386\ttotal: 735ms\tremaining: 232ms\n",
      "380:\tlearn: 12.3739036\ttotal: 737ms\tremaining: 230ms\n",
      "381:\tlearn: 12.3110117\ttotal: 738ms\tremaining: 228ms\n",
      "382:\tlearn: 12.2077088\ttotal: 740ms\tremaining: 226ms\n",
      "383:\tlearn: 12.1065885\ttotal: 744ms\tremaining: 225ms\n",
      "384:\tlearn: 12.0323948\ttotal: 745ms\tremaining: 223ms\n",
      "385:\tlearn: 12.0014896\ttotal: 747ms\tremaining: 221ms\n",
      "386:\tlearn: 11.8568080\ttotal: 749ms\tremaining: 219ms\n",
      "387:\tlearn: 11.7867144\ttotal: 751ms\tremaining: 217ms\n",
      "388:\tlearn: 11.7500836\ttotal: 753ms\tremaining: 215ms\n",
      "389:\tlearn: 11.7348877\ttotal: 755ms\tremaining: 213ms\n",
      "390:\tlearn: 11.7286653\ttotal: 756ms\tremaining: 211ms\n",
      "391:\tlearn: 11.6241305\ttotal: 758ms\tremaining: 209ms\n",
      "392:\tlearn: 11.5960420\ttotal: 759ms\tremaining: 207ms\n",
      "393:\tlearn: 11.5729987\ttotal: 761ms\tremaining: 205ms\n",
      "394:\tlearn: 11.5635235\ttotal: 762ms\tremaining: 203ms\n",
      "395:\tlearn: 11.4873129\ttotal: 765ms\tremaining: 201ms\n",
      "396:\tlearn: 11.3564378\ttotal: 767ms\tremaining: 199ms\n",
      "397:\tlearn: 11.2078876\ttotal: 769ms\tremaining: 197ms\n",
      "398:\tlearn: 11.1598904\ttotal: 771ms\tremaining: 195ms\n",
      "399:\tlearn: 11.0885074\ttotal: 774ms\tremaining: 194ms\n",
      "400:\tlearn: 11.0278575\ttotal: 776ms\tremaining: 191ms\n",
      "401:\tlearn: 10.9865756\ttotal: 777ms\tremaining: 189ms\n",
      "402:\tlearn: 10.8794931\ttotal: 779ms\tremaining: 187ms\n",
      "403:\tlearn: 10.8382558\ttotal: 781ms\tremaining: 185ms\n",
      "404:\tlearn: 10.7596014\ttotal: 782ms\tremaining: 184ms\n",
      "405:\tlearn: 10.7064165\ttotal: 784ms\tremaining: 181ms\n",
      "406:\tlearn: 10.6372130\ttotal: 785ms\tremaining: 179ms\n",
      "407:\tlearn: 10.5505037\ttotal: 787ms\tremaining: 177ms\n",
      "408:\tlearn: 10.4676489\ttotal: 788ms\tremaining: 175ms\n",
      "409:\tlearn: 10.3632792\ttotal: 790ms\tremaining: 173ms\n",
      "410:\tlearn: 10.3399756\ttotal: 792ms\tremaining: 171ms\n",
      "411:\tlearn: 10.2905778\ttotal: 795ms\tremaining: 170ms\n",
      "412:\tlearn: 10.2175164\ttotal: 801ms\tremaining: 169ms\n",
      "413:\tlearn: 10.1482923\ttotal: 803ms\tremaining: 167ms\n",
      "414:\tlearn: 10.0590953\ttotal: 806ms\tremaining: 165ms\n",
      "415:\tlearn: 9.9982795\ttotal: 807ms\tremaining: 163ms\n",
      "416:\tlearn: 9.9099074\ttotal: 809ms\tremaining: 161ms\n",
      "417:\tlearn: 9.8641812\ttotal: 810ms\tremaining: 159ms\n",
      "418:\tlearn: 9.8207799\ttotal: 812ms\tremaining: 157ms\n",
      "419:\tlearn: 9.7000976\ttotal: 813ms\tremaining: 155ms\n",
      "420:\tlearn: 9.6211675\ttotal: 815ms\tremaining: 153ms\n",
      "421:\tlearn: 9.5821946\ttotal: 816ms\tremaining: 151ms\n",
      "422:\tlearn: 9.5314530\ttotal: 818ms\tremaining: 149ms\n",
      "423:\tlearn: 9.5231706\ttotal: 820ms\tremaining: 147ms\n",
      "424:\tlearn: 9.4897613\ttotal: 827ms\tremaining: 146ms\n",
      "425:\tlearn: 9.4178254\ttotal: 828ms\tremaining: 144ms\n",
      "426:\tlearn: 9.3468512\ttotal: 830ms\tremaining: 142ms\n",
      "427:\tlearn: 9.2916542\ttotal: 832ms\tremaining: 140ms\n",
      "428:\tlearn: 9.2671046\ttotal: 833ms\tremaining: 138ms\n",
      "429:\tlearn: 9.1507425\ttotal: 835ms\tremaining: 136ms\n",
      "430:\tlearn: 9.0905964\ttotal: 837ms\tremaining: 134ms\n",
      "431:\tlearn: 9.0599172\ttotal: 839ms\tremaining: 132ms\n",
      "432:\tlearn: 8.9911670\ttotal: 840ms\tremaining: 130ms\n",
      "433:\tlearn: 8.9769178\ttotal: 842ms\tremaining: 128ms\n",
      "434:\tlearn: 8.9011639\ttotal: 843ms\tremaining: 126ms\n",
      "435:\tlearn: 8.8578447\ttotal: 845ms\tremaining: 124ms\n",
      "436:\tlearn: 8.7766216\ttotal: 846ms\tremaining: 122ms\n",
      "437:\tlearn: 8.7600187\ttotal: 848ms\tremaining: 120ms\n",
      "438:\tlearn: 8.7039464\ttotal: 850ms\tremaining: 118ms\n",
      "439:\tlearn: 8.6701908\ttotal: 852ms\tremaining: 116ms\n",
      "440:\tlearn: 8.6561906\ttotal: 855ms\tremaining: 114ms\n",
      "441:\tlearn: 8.6030579\ttotal: 857ms\tremaining: 112ms\n",
      "442:\tlearn: 8.5192884\ttotal: 859ms\tremaining: 111ms\n",
      "443:\tlearn: 8.4605490\ttotal: 861ms\tremaining: 109ms\n",
      "444:\tlearn: 8.3846572\ttotal: 863ms\tremaining: 107ms\n",
      "445:\tlearn: 8.3429264\ttotal: 865ms\tremaining: 105ms\n",
      "446:\tlearn: 8.3068488\ttotal: 867ms\tremaining: 103ms\n",
      "447:\tlearn: 8.2662142\ttotal: 870ms\tremaining: 101ms\n",
      "448:\tlearn: 8.1806196\ttotal: 872ms\tremaining: 99ms\n",
      "449:\tlearn: 8.1475696\ttotal: 874ms\tremaining: 97.1ms\n",
      "450:\tlearn: 8.1145904\ttotal: 875ms\tremaining: 95.1ms\n",
      "451:\tlearn: 8.0740309\ttotal: 877ms\tremaining: 93.1ms\n",
      "452:\tlearn: 8.0095799\ttotal: 878ms\tremaining: 91.1ms\n",
      "453:\tlearn: 7.9857193\ttotal: 880ms\tremaining: 89.2ms\n",
      "454:\tlearn: 7.9300069\ttotal: 882ms\tremaining: 87.2ms\n",
      "455:\tlearn: 7.9088282\ttotal: 883ms\tremaining: 85.2ms\n",
      "456:\tlearn: 7.8726359\ttotal: 885ms\tremaining: 83.3ms\n",
      "457:\tlearn: 7.8453260\ttotal: 887ms\tremaining: 81.3ms\n",
      "458:\tlearn: 7.8015145\ttotal: 888ms\tremaining: 79.4ms\n",
      "459:\tlearn: 7.7552434\ttotal: 890ms\tremaining: 77.4ms\n",
      "460:\tlearn: 7.7033074\ttotal: 891ms\tremaining: 75.4ms\n",
      "461:\tlearn: 7.6732816\ttotal: 893ms\tremaining: 73.4ms\n",
      "462:\tlearn: 7.6387343\ttotal: 894ms\tremaining: 71.5ms\n",
      "463:\tlearn: 7.5939225\ttotal: 897ms\tremaining: 69.6ms\n",
      "464:\tlearn: 7.5495985\ttotal: 898ms\tremaining: 67.6ms\n",
      "465:\tlearn: 7.5164784\ttotal: 900ms\tremaining: 65.7ms\n",
      "466:\tlearn: 7.4692120\ttotal: 902ms\tremaining: 63.7ms\n",
      "467:\tlearn: 7.4602739\ttotal: 903ms\tremaining: 61.8ms\n",
      "468:\tlearn: 7.4245927\ttotal: 905ms\tremaining: 59.8ms\n",
      "469:\tlearn: 7.3402299\ttotal: 909ms\tremaining: 58ms\n",
      "470:\tlearn: 7.2998185\ttotal: 914ms\tremaining: 56.3ms\n",
      "471:\tlearn: 7.2014577\ttotal: 916ms\tremaining: 54.3ms\n",
      "472:\tlearn: 7.1904207\ttotal: 917ms\tremaining: 52.4ms\n",
      "473:\tlearn: 7.1527862\ttotal: 919ms\tremaining: 50.4ms\n",
      "474:\tlearn: 7.0771473\ttotal: 921ms\tremaining: 48.5ms\n",
      "475:\tlearn: 7.0539525\ttotal: 923ms\tremaining: 46.5ms\n",
      "476:\tlearn: 6.9846025\ttotal: 925ms\tremaining: 44.6ms\n",
      "477:\tlearn: 6.9534313\ttotal: 928ms\tremaining: 42.7ms\n",
      "478:\tlearn: 6.8975880\ttotal: 929ms\tremaining: 40.7ms\n",
      "479:\tlearn: 6.8254191\ttotal: 938ms\tremaining: 39.1ms\n",
      "480:\tlearn: 6.8112478\ttotal: 940ms\tremaining: 37.1ms\n",
      "481:\tlearn: 6.7648902\ttotal: 943ms\tremaining: 35.2ms\n",
      "482:\tlearn: 6.6860735\ttotal: 946ms\tremaining: 33.3ms\n",
      "483:\tlearn: 6.6633461\ttotal: 948ms\tremaining: 31.4ms\n",
      "484:\tlearn: 6.6475279\ttotal: 951ms\tremaining: 29.4ms\n",
      "485:\tlearn: 6.5921608\ttotal: 952ms\tremaining: 27.4ms\n",
      "486:\tlearn: 6.5602794\ttotal: 955ms\tremaining: 25.5ms\n",
      "487:\tlearn: 6.5499659\ttotal: 957ms\tremaining: 23.5ms\n",
      "488:\tlearn: 6.4940006\ttotal: 959ms\tremaining: 21.6ms\n",
      "489:\tlearn: 6.4247752\ttotal: 962ms\tremaining: 19.6ms\n",
      "490:\tlearn: 6.3877601\ttotal: 964ms\tremaining: 17.7ms\n",
      "491:\tlearn: 6.3314191\ttotal: 966ms\tremaining: 15.7ms\n",
      "492:\tlearn: 6.2812751\ttotal: 967ms\tremaining: 13.7ms\n",
      "493:\tlearn: 6.2685065\ttotal: 969ms\tremaining: 11.8ms\n",
      "494:\tlearn: 6.2241138\ttotal: 971ms\tremaining: 9.81ms\n",
      "495:\tlearn: 6.1695214\ttotal: 973ms\tremaining: 7.85ms\n",
      "496:\tlearn: 6.1421906\ttotal: 975ms\tremaining: 5.88ms\n",
      "497:\tlearn: 6.1331850\ttotal: 977ms\tremaining: 3.92ms\n",
      "498:\tlearn: 6.1166327\ttotal: 979ms\tremaining: 1.96ms\n",
      "499:\tlearn: 6.0829602\ttotal: 981ms\tremaining: 0us\n"
     ]
    }
   ],
   "source": [
    "catb_cv_model = GridSearchCV(catb_model,catb_params,cv=5,n_jobs=-1,verbose=2).fit(X_train,y_train)"
   ]
  },
  {
   "cell_type": "code",
   "execution_count": 189,
   "metadata": {},
   "outputs": [
    {
     "data": {
      "text/plain": [
       "{'depth': 5, 'iterations': 500, 'learning_rate': 0.1}"
      ]
     },
     "execution_count": 189,
     "metadata": {},
     "output_type": "execute_result"
    }
   ],
   "source": [
    "catb_cv_model.best_params_"
   ]
  },
  {
   "cell_type": "code",
   "execution_count": 192,
   "metadata": {
    "collapsed": true,
    "jupyter": {
     "outputs_hidden": true
    }
   },
   "outputs": [
    {
     "name": "stdout",
     "output_type": "stream",
     "text": [
      "0:\tlearn: 425.7900818\ttotal: 1.12ms\tremaining: 559ms\n",
      "1:\tlearn: 404.8723520\ttotal: 2.16ms\tremaining: 538ms\n",
      "2:\tlearn: 387.4057666\ttotal: 2.84ms\tremaining: 470ms\n",
      "3:\tlearn: 372.2801584\ttotal: 3.82ms\tremaining: 474ms\n",
      "4:\tlearn: 358.9204229\ttotal: 4.58ms\tremaining: 453ms\n",
      "5:\tlearn: 347.0083933\ttotal: 5.5ms\tremaining: 453ms\n",
      "6:\tlearn: 336.0130818\ttotal: 6.37ms\tremaining: 449ms\n",
      "7:\tlearn: 324.3923300\ttotal: 7.29ms\tremaining: 449ms\n",
      "8:\tlearn: 314.8690957\ttotal: 8.03ms\tremaining: 438ms\n",
      "9:\tlearn: 308.5075563\ttotal: 8.75ms\tremaining: 429ms\n",
      "10:\tlearn: 298.8587285\ttotal: 9.63ms\tremaining: 428ms\n",
      "11:\tlearn: 294.7655438\ttotal: 10.6ms\tremaining: 429ms\n",
      "12:\tlearn: 288.0697862\ttotal: 11.4ms\tremaining: 429ms\n",
      "13:\tlearn: 282.6697154\ttotal: 12.3ms\tremaining: 427ms\n",
      "14:\tlearn: 277.6121667\ttotal: 13ms\tremaining: 421ms\n",
      "15:\tlearn: 273.4383979\ttotal: 13.9ms\tremaining: 421ms\n",
      "16:\tlearn: 269.1556201\ttotal: 14.8ms\tremaining: 421ms\n",
      "17:\tlearn: 264.8098704\ttotal: 15.7ms\tremaining: 421ms\n",
      "18:\tlearn: 261.6700768\ttotal: 16.6ms\tremaining: 420ms\n",
      "19:\tlearn: 257.3961290\ttotal: 17.3ms\tremaining: 416ms\n",
      "20:\tlearn: 252.2691509\ttotal: 18.6ms\tremaining: 425ms\n",
      "21:\tlearn: 249.0686482\ttotal: 19.4ms\tremaining: 421ms\n",
      "22:\tlearn: 244.1881041\ttotal: 20.3ms\tremaining: 421ms\n",
      "23:\tlearn: 242.1696687\ttotal: 21.1ms\tremaining: 418ms\n",
      "24:\tlearn: 239.2131476\ttotal: 21.8ms\tremaining: 414ms\n",
      "25:\tlearn: 236.6883901\ttotal: 22.5ms\tremaining: 410ms\n",
      "26:\tlearn: 234.5295613\ttotal: 23.3ms\tremaining: 408ms\n",
      "27:\tlearn: 231.7788834\ttotal: 24ms\tremaining: 405ms\n",
      "28:\tlearn: 228.8020330\ttotal: 24.9ms\tremaining: 405ms\n",
      "29:\tlearn: 226.8420565\ttotal: 25.6ms\tremaining: 401ms\n",
      "30:\tlearn: 224.0686558\ttotal: 26.4ms\tremaining: 400ms\n",
      "31:\tlearn: 222.6644699\ttotal: 27.3ms\tremaining: 400ms\n",
      "32:\tlearn: 221.6889573\ttotal: 28ms\tremaining: 397ms\n",
      "33:\tlearn: 220.5171653\ttotal: 28.9ms\tremaining: 396ms\n",
      "34:\tlearn: 217.7686033\ttotal: 29.8ms\tremaining: 396ms\n",
      "35:\tlearn: 214.8462789\ttotal: 30.7ms\tremaining: 395ms\n",
      "36:\tlearn: 214.4799251\ttotal: 31.7ms\tremaining: 396ms\n",
      "37:\tlearn: 212.3480429\ttotal: 32.4ms\tremaining: 393ms\n",
      "38:\tlearn: 210.0040644\ttotal: 33.1ms\tremaining: 391ms\n",
      "39:\tlearn: 208.3086913\ttotal: 33.9ms\tremaining: 389ms\n",
      "40:\tlearn: 207.5469119\ttotal: 34.6ms\tremaining: 387ms\n",
      "41:\tlearn: 205.9351113\ttotal: 35.8ms\tremaining: 390ms\n",
      "42:\tlearn: 205.3580824\ttotal: 37ms\tremaining: 393ms\n",
      "43:\tlearn: 204.6204266\ttotal: 38.5ms\tremaining: 399ms\n",
      "44:\tlearn: 202.5023220\ttotal: 39.6ms\tremaining: 400ms\n",
      "45:\tlearn: 201.4347853\ttotal: 40.8ms\tremaining: 402ms\n",
      "46:\tlearn: 200.8752553\ttotal: 41.9ms\tremaining: 404ms\n",
      "47:\tlearn: 200.4047344\ttotal: 43ms\tremaining: 405ms\n",
      "48:\tlearn: 197.5433004\ttotal: 44.5ms\tremaining: 409ms\n",
      "49:\tlearn: 194.6943292\ttotal: 47.1ms\tremaining: 424ms\n",
      "50:\tlearn: 194.3011982\ttotal: 47.9ms\tremaining: 422ms\n",
      "51:\tlearn: 193.4011843\ttotal: 48.6ms\tremaining: 419ms\n",
      "52:\tlearn: 193.0109753\ttotal: 49.3ms\tremaining: 416ms\n",
      "53:\tlearn: 192.6071142\ttotal: 50.1ms\tremaining: 414ms\n",
      "54:\tlearn: 191.9666153\ttotal: 50.8ms\tremaining: 411ms\n",
      "55:\tlearn: 191.5789727\ttotal: 51.7ms\tremaining: 410ms\n",
      "56:\tlearn: 190.7186284\ttotal: 52.6ms\tremaining: 409ms\n",
      "57:\tlearn: 190.4543087\ttotal: 53.5ms\tremaining: 407ms\n",
      "58:\tlearn: 190.1336317\ttotal: 54.3ms\tremaining: 406ms\n",
      "59:\tlearn: 188.2286484\ttotal: 55ms\tremaining: 403ms\n",
      "60:\tlearn: 187.7652417\ttotal: 55.9ms\tremaining: 403ms\n",
      "61:\tlearn: 187.4227950\ttotal: 56.7ms\tremaining: 401ms\n",
      "62:\tlearn: 186.9289182\ttotal: 57.5ms\tremaining: 399ms\n",
      "63:\tlearn: 185.2993487\ttotal: 58.3ms\tremaining: 397ms\n",
      "64:\tlearn: 185.0349598\ttotal: 59.3ms\tremaining: 397ms\n",
      "65:\tlearn: 183.9773430\ttotal: 60.2ms\tremaining: 396ms\n",
      "66:\tlearn: 183.4463166\ttotal: 60.9ms\tremaining: 393ms\n",
      "67:\tlearn: 181.6627740\ttotal: 61.7ms\tremaining: 392ms\n",
      "68:\tlearn: 179.8785055\ttotal: 62.6ms\tremaining: 391ms\n",
      "69:\tlearn: 179.6737527\ttotal: 63.3ms\tremaining: 389ms\n",
      "70:\tlearn: 177.0830981\ttotal: 63.9ms\tremaining: 386ms\n",
      "71:\tlearn: 176.5917790\ttotal: 64.6ms\tremaining: 384ms\n",
      "72:\tlearn: 176.1240502\ttotal: 65.6ms\tremaining: 384ms\n",
      "73:\tlearn: 174.4828953\ttotal: 66.4ms\tremaining: 382ms\n",
      "74:\tlearn: 173.4220482\ttotal: 67.5ms\tremaining: 383ms\n",
      "75:\tlearn: 171.9903405\ttotal: 68.2ms\tremaining: 381ms\n",
      "76:\tlearn: 171.5803116\ttotal: 69.1ms\tremaining: 380ms\n",
      "77:\tlearn: 170.1411594\ttotal: 70ms\tremaining: 379ms\n",
      "78:\tlearn: 167.9868133\ttotal: 70.8ms\tremaining: 378ms\n",
      "79:\tlearn: 166.5304475\ttotal: 71.6ms\tremaining: 376ms\n",
      "80:\tlearn: 166.1741622\ttotal: 72.2ms\tremaining: 374ms\n",
      "81:\tlearn: 165.8411762\ttotal: 73.1ms\tremaining: 372ms\n",
      "82:\tlearn: 165.1041583\ttotal: 74ms\tremaining: 372ms\n",
      "83:\tlearn: 163.5641543\ttotal: 74.7ms\tremaining: 370ms\n",
      "84:\tlearn: 163.2003311\ttotal: 75.4ms\tremaining: 368ms\n",
      "85:\tlearn: 161.1781702\ttotal: 76.5ms\tremaining: 368ms\n",
      "86:\tlearn: 160.8727658\ttotal: 77.2ms\tremaining: 366ms\n",
      "87:\tlearn: 159.7954077\ttotal: 78.1ms\tremaining: 366ms\n",
      "88:\tlearn: 158.8759132\ttotal: 79.2ms\tremaining: 366ms\n",
      "89:\tlearn: 158.4831323\ttotal: 80.8ms\tremaining: 368ms\n",
      "90:\tlearn: 157.4808127\ttotal: 81.8ms\tremaining: 368ms\n",
      "91:\tlearn: 157.1703230\ttotal: 82.7ms\tremaining: 367ms\n",
      "92:\tlearn: 155.3184755\ttotal: 83.7ms\tremaining: 366ms\n",
      "93:\tlearn: 154.3988879\ttotal: 84.8ms\tremaining: 366ms\n",
      "94:\tlearn: 153.4591935\ttotal: 85.7ms\tremaining: 365ms\n",
      "95:\tlearn: 153.1206893\ttotal: 86.8ms\tremaining: 365ms\n",
      "96:\tlearn: 152.7897351\ttotal: 87.7ms\tremaining: 364ms\n",
      "97:\tlearn: 150.9293164\ttotal: 88.7ms\tremaining: 364ms\n",
      "98:\tlearn: 149.7127171\ttotal: 91.9ms\tremaining: 372ms\n",
      "99:\tlearn: 149.5089324\ttotal: 93ms\tremaining: 372ms\n",
      "100:\tlearn: 149.3156312\ttotal: 93.9ms\tremaining: 371ms\n",
      "101:\tlearn: 147.7226718\ttotal: 94.7ms\tremaining: 369ms\n",
      "102:\tlearn: 146.7692282\ttotal: 95.3ms\tremaining: 367ms\n",
      "103:\tlearn: 145.9084983\ttotal: 96ms\tremaining: 365ms\n",
      "104:\tlearn: 144.8780979\ttotal: 96.6ms\tremaining: 363ms\n",
      "105:\tlearn: 143.8090268\ttotal: 97.5ms\tremaining: 363ms\n",
      "106:\tlearn: 143.1272551\ttotal: 98.2ms\tremaining: 361ms\n",
      "107:\tlearn: 142.4863018\ttotal: 98.9ms\tremaining: 359ms\n",
      "108:\tlearn: 141.4861279\ttotal: 99.6ms\tremaining: 357ms\n",
      "109:\tlearn: 140.8689530\ttotal: 100ms\tremaining: 356ms\n",
      "110:\tlearn: 140.4009570\ttotal: 102ms\tremaining: 357ms\n",
      "111:\tlearn: 140.0344439\ttotal: 103ms\tremaining: 358ms\n",
      "112:\tlearn: 139.4290096\ttotal: 104ms\tremaining: 356ms\n",
      "113:\tlearn: 139.2008874\ttotal: 105ms\tremaining: 354ms\n",
      "114:\tlearn: 138.6000188\ttotal: 105ms\tremaining: 352ms\n",
      "115:\tlearn: 138.3962706\ttotal: 106ms\tremaining: 351ms\n",
      "116:\tlearn: 138.1737256\ttotal: 107ms\tremaining: 350ms\n",
      "117:\tlearn: 137.6342361\ttotal: 108ms\tremaining: 349ms\n",
      "118:\tlearn: 136.7119826\ttotal: 109ms\tremaining: 348ms\n",
      "119:\tlearn: 135.3057402\ttotal: 109ms\tremaining: 346ms\n",
      "120:\tlearn: 134.4797815\ttotal: 110ms\tremaining: 345ms\n",
      "121:\tlearn: 133.0774331\ttotal: 111ms\tremaining: 343ms\n",
      "122:\tlearn: 131.8739238\ttotal: 112ms\tremaining: 343ms\n",
      "123:\tlearn: 131.3203837\ttotal: 113ms\tremaining: 341ms\n",
      "124:\tlearn: 130.8294604\ttotal: 113ms\tremaining: 340ms\n",
      "125:\tlearn: 130.6107905\ttotal: 114ms\tremaining: 338ms\n",
      "126:\tlearn: 130.1614924\ttotal: 115ms\tremaining: 337ms\n",
      "127:\tlearn: 129.3166972\ttotal: 115ms\tremaining: 335ms\n",
      "128:\tlearn: 129.1038672\ttotal: 116ms\tremaining: 334ms\n",
      "129:\tlearn: 128.9594874\ttotal: 117ms\tremaining: 333ms\n",
      "130:\tlearn: 128.1849638\ttotal: 118ms\tremaining: 332ms\n",
      "131:\tlearn: 128.0307033\ttotal: 119ms\tremaining: 331ms\n",
      "132:\tlearn: 127.3373882\ttotal: 119ms\tremaining: 329ms\n",
      "133:\tlearn: 126.2856989\ttotal: 120ms\tremaining: 328ms\n",
      "134:\tlearn: 126.1379832\ttotal: 121ms\tremaining: 327ms\n",
      "135:\tlearn: 126.0180019\ttotal: 121ms\tremaining: 325ms\n",
      "136:\tlearn: 125.8843963\ttotal: 122ms\tremaining: 324ms\n",
      "137:\tlearn: 125.7576333\ttotal: 123ms\tremaining: 322ms\n",
      "138:\tlearn: 125.4794581\ttotal: 124ms\tremaining: 321ms\n",
      "139:\tlearn: 124.7920270\ttotal: 124ms\tremaining: 320ms\n",
      "140:\tlearn: 124.6530278\ttotal: 125ms\tremaining: 318ms\n",
      "141:\tlearn: 123.4539010\ttotal: 126ms\tremaining: 319ms\n",
      "142:\tlearn: 122.8980001\ttotal: 127ms\tremaining: 318ms\n",
      "143:\tlearn: 122.0911177\ttotal: 128ms\tremaining: 317ms\n",
      "144:\tlearn: 121.1209154\ttotal: 129ms\tremaining: 316ms\n",
      "145:\tlearn: 120.1613553\ttotal: 130ms\tremaining: 314ms\n",
      "146:\tlearn: 119.1894727\ttotal: 130ms\tremaining: 313ms\n",
      "147:\tlearn: 118.0325732\ttotal: 131ms\tremaining: 312ms\n",
      "148:\tlearn: 117.9138240\ttotal: 132ms\tremaining: 311ms\n",
      "149:\tlearn: 117.3831462\ttotal: 133ms\tremaining: 310ms\n",
      "150:\tlearn: 116.8475244\ttotal: 134ms\tremaining: 309ms\n",
      "151:\tlearn: 116.3821954\ttotal: 134ms\tremaining: 308ms\n",
      "152:\tlearn: 115.5293176\ttotal: 135ms\tremaining: 306ms\n",
      "153:\tlearn: 115.0975175\ttotal: 136ms\tremaining: 306ms\n",
      "154:\tlearn: 114.0649594\ttotal: 137ms\tremaining: 306ms\n",
      "155:\tlearn: 113.2562326\ttotal: 139ms\tremaining: 306ms\n",
      "156:\tlearn: 112.7557871\ttotal: 140ms\tremaining: 305ms\n",
      "157:\tlearn: 112.5657565\ttotal: 141ms\tremaining: 304ms\n",
      "158:\tlearn: 112.3541525\ttotal: 142ms\tremaining: 304ms\n",
      "159:\tlearn: 111.8527982\ttotal: 143ms\tremaining: 304ms\n",
      "160:\tlearn: 111.1619644\ttotal: 144ms\tremaining: 303ms\n",
      "161:\tlearn: 110.3588257\ttotal: 146ms\tremaining: 304ms\n",
      "162:\tlearn: 109.6664293\ttotal: 148ms\tremaining: 305ms\n",
      "163:\tlearn: 109.5577303\ttotal: 148ms\tremaining: 304ms\n",
      "164:\tlearn: 109.0570285\ttotal: 149ms\tremaining: 303ms\n",
      "165:\tlearn: 108.7601467\ttotal: 150ms\tremaining: 302ms\n",
      "166:\tlearn: 108.0448620\ttotal: 151ms\tremaining: 301ms\n",
      "167:\tlearn: 107.5593372\ttotal: 152ms\tremaining: 300ms\n",
      "168:\tlearn: 106.3862999\ttotal: 153ms\tremaining: 299ms\n",
      "169:\tlearn: 106.2180807\ttotal: 153ms\tremaining: 298ms\n",
      "170:\tlearn: 106.0695603\ttotal: 154ms\tremaining: 296ms\n",
      "171:\tlearn: 105.6940213\ttotal: 155ms\tremaining: 295ms\n",
      "172:\tlearn: 104.7598987\ttotal: 156ms\tremaining: 294ms\n",
      "173:\tlearn: 104.6589992\ttotal: 157ms\tremaining: 294ms\n",
      "174:\tlearn: 103.7203657\ttotal: 158ms\tremaining: 293ms\n",
      "175:\tlearn: 103.2660987\ttotal: 158ms\tremaining: 292ms\n",
      "176:\tlearn: 103.0926213\ttotal: 159ms\tremaining: 290ms\n",
      "177:\tlearn: 102.6925209\ttotal: 160ms\tremaining: 289ms\n",
      "178:\tlearn: 102.1655154\ttotal: 160ms\tremaining: 288ms\n",
      "179:\tlearn: 101.8273108\ttotal: 161ms\tremaining: 286ms\n",
      "180:\tlearn: 101.7264515\ttotal: 162ms\tremaining: 285ms\n",
      "181:\tlearn: 101.1102333\ttotal: 163ms\tremaining: 284ms\n",
      "182:\tlearn: 100.7880364\ttotal: 163ms\tremaining: 283ms\n",
      "183:\tlearn: 100.6673014\ttotal: 164ms\tremaining: 282ms\n",
      "184:\tlearn: 100.0153055\ttotal: 165ms\tremaining: 281ms\n",
      "185:\tlearn: 99.7667281\ttotal: 166ms\tremaining: 280ms\n",
      "186:\tlearn: 99.1860593\ttotal: 167ms\tremaining: 279ms\n",
      "187:\tlearn: 99.0408133\ttotal: 167ms\tremaining: 277ms\n",
      "188:\tlearn: 98.9030718\ttotal: 168ms\tremaining: 276ms\n",
      "189:\tlearn: 97.4513860\ttotal: 169ms\tremaining: 275ms\n",
      "190:\tlearn: 97.3322959\ttotal: 170ms\tremaining: 276ms\n",
      "191:\tlearn: 97.1950848\ttotal: 171ms\tremaining: 274ms\n",
      "192:\tlearn: 96.6789532\ttotal: 172ms\tremaining: 273ms\n",
      "193:\tlearn: 96.5506179\ttotal: 172ms\tremaining: 272ms\n",
      "194:\tlearn: 95.6635039\ttotal: 173ms\tremaining: 271ms\n",
      "195:\tlearn: 94.8850777\ttotal: 174ms\tremaining: 270ms\n",
      "196:\tlearn: 94.1624589\ttotal: 175ms\tremaining: 269ms\n",
      "197:\tlearn: 93.8220662\ttotal: 176ms\tremaining: 268ms\n",
      "198:\tlearn: 93.7300351\ttotal: 177ms\tremaining: 267ms\n",
      "199:\tlearn: 93.3339522\ttotal: 177ms\tremaining: 266ms\n",
      "200:\tlearn: 93.2187899\ttotal: 178ms\tremaining: 265ms\n",
      "201:\tlearn: 93.1229893\ttotal: 179ms\tremaining: 263ms\n",
      "202:\tlearn: 92.3652609\ttotal: 179ms\tremaining: 262ms\n",
      "203:\tlearn: 91.9783646\ttotal: 180ms\tremaining: 261ms\n",
      "204:\tlearn: 91.9001315\ttotal: 181ms\tremaining: 260ms\n",
      "205:\tlearn: 91.3853485\ttotal: 181ms\tremaining: 259ms\n",
      "206:\tlearn: 91.0739799\ttotal: 182ms\tremaining: 258ms\n",
      "207:\tlearn: 90.7397769\ttotal: 183ms\tremaining: 257ms\n",
      "208:\tlearn: 90.6559298\ttotal: 184ms\tremaining: 256ms\n",
      "209:\tlearn: 90.1743419\ttotal: 185ms\tremaining: 255ms\n",
      "210:\tlearn: 89.5990722\ttotal: 185ms\tremaining: 254ms\n",
      "211:\tlearn: 89.2669888\ttotal: 186ms\tremaining: 253ms\n",
      "212:\tlearn: 88.7659276\ttotal: 187ms\tremaining: 252ms\n",
      "213:\tlearn: 88.4770095\ttotal: 188ms\tremaining: 251ms\n",
      "214:\tlearn: 88.3764741\ttotal: 188ms\tremaining: 250ms\n",
      "215:\tlearn: 88.0525649\ttotal: 189ms\tremaining: 249ms\n",
      "216:\tlearn: 87.9761846\ttotal: 190ms\tremaining: 248ms\n",
      "217:\tlearn: 87.6042730\ttotal: 191ms\tremaining: 247ms\n",
      "218:\tlearn: 86.9514620\ttotal: 191ms\tremaining: 246ms\n",
      "219:\tlearn: 86.8967405\ttotal: 192ms\tremaining: 245ms\n",
      "220:\tlearn: 86.2438941\ttotal: 193ms\tremaining: 243ms\n",
      "221:\tlearn: 85.5834415\ttotal: 194ms\tremaining: 242ms\n",
      "222:\tlearn: 85.0300334\ttotal: 194ms\tremaining: 241ms\n",
      "223:\tlearn: 84.4518944\ttotal: 195ms\tremaining: 241ms\n",
      "224:\tlearn: 84.1336997\ttotal: 196ms\tremaining: 240ms\n",
      "225:\tlearn: 83.3363884\ttotal: 197ms\tremaining: 239ms\n",
      "226:\tlearn: 83.0804458\ttotal: 198ms\tremaining: 238ms\n",
      "227:\tlearn: 82.8233471\ttotal: 198ms\tremaining: 237ms\n",
      "228:\tlearn: 82.5337644\ttotal: 199ms\tremaining: 236ms\n",
      "229:\tlearn: 81.8142344\ttotal: 200ms\tremaining: 235ms\n",
      "230:\tlearn: 81.5004564\ttotal: 201ms\tremaining: 234ms\n",
      "231:\tlearn: 81.2798023\ttotal: 202ms\tremaining: 233ms\n",
      "232:\tlearn: 80.7611552\ttotal: 202ms\tremaining: 232ms\n",
      "233:\tlearn: 80.3886115\ttotal: 203ms\tremaining: 231ms\n",
      "234:\tlearn: 80.1299339\ttotal: 204ms\tremaining: 230ms\n",
      "235:\tlearn: 79.8491967\ttotal: 204ms\tremaining: 229ms\n",
      "236:\tlearn: 79.5615744\ttotal: 205ms\tremaining: 228ms\n",
      "237:\tlearn: 79.3117577\ttotal: 206ms\tremaining: 227ms\n",
      "238:\tlearn: 79.1086712\ttotal: 207ms\tremaining: 226ms\n",
      "239:\tlearn: 78.8298680\ttotal: 208ms\tremaining: 225ms\n",
      "240:\tlearn: 78.4353578\ttotal: 209ms\tremaining: 224ms\n",
      "241:\tlearn: 77.8564527\ttotal: 209ms\tremaining: 223ms\n",
      "242:\tlearn: 77.3853191\ttotal: 210ms\tremaining: 222ms\n",
      "243:\tlearn: 76.9503413\ttotal: 211ms\tremaining: 221ms\n",
      "244:\tlearn: 76.8791584\ttotal: 212ms\tremaining: 220ms\n",
      "245:\tlearn: 76.8091242\ttotal: 212ms\tremaining: 219ms\n",
      "246:\tlearn: 76.3259755\ttotal: 213ms\tremaining: 219ms\n",
      "247:\tlearn: 76.2576074\ttotal: 214ms\tremaining: 218ms\n",
      "248:\tlearn: 75.6197714\ttotal: 215ms\tremaining: 217ms\n",
      "249:\tlearn: 75.1108267\ttotal: 216ms\tremaining: 216ms\n",
      "250:\tlearn: 74.8951285\ttotal: 217ms\tremaining: 215ms\n",
      "251:\tlearn: 74.1881361\ttotal: 218ms\tremaining: 214ms\n",
      "252:\tlearn: 73.7075979\ttotal: 219ms\tremaining: 213ms\n",
      "253:\tlearn: 73.6579077\ttotal: 219ms\tremaining: 212ms\n",
      "254:\tlearn: 73.1865737\ttotal: 220ms\tremaining: 211ms\n",
      "255:\tlearn: 72.9702795\ttotal: 221ms\tremaining: 210ms\n",
      "256:\tlearn: 72.9155046\ttotal: 222ms\tremaining: 210ms\n",
      "257:\tlearn: 72.6118600\ttotal: 222ms\tremaining: 209ms\n",
      "258:\tlearn: 72.5577657\ttotal: 223ms\tremaining: 208ms\n",
      "259:\tlearn: 72.1525257\ttotal: 224ms\tremaining: 207ms\n",
      "260:\tlearn: 71.7943854\ttotal: 225ms\tremaining: 206ms\n",
      "261:\tlearn: 71.1090815\ttotal: 225ms\tremaining: 205ms\n",
      "262:\tlearn: 70.6948771\ttotal: 227ms\tremaining: 204ms\n",
      "263:\tlearn: 70.3614682\ttotal: 228ms\tremaining: 204ms\n",
      "264:\tlearn: 70.0417470\ttotal: 230ms\tremaining: 204ms\n",
      "265:\tlearn: 69.7026420\ttotal: 231ms\tremaining: 204ms\n",
      "266:\tlearn: 69.5040036\ttotal: 232ms\tremaining: 203ms\n",
      "267:\tlearn: 69.1426951\ttotal: 233ms\tremaining: 202ms\n",
      "268:\tlearn: 68.7942828\ttotal: 234ms\tremaining: 201ms\n",
      "269:\tlearn: 68.4519486\ttotal: 235ms\tremaining: 200ms\n",
      "270:\tlearn: 68.2501241\ttotal: 235ms\tremaining: 199ms\n",
      "271:\tlearn: 67.7950677\ttotal: 236ms\tremaining: 198ms\n",
      "272:\tlearn: 67.6253379\ttotal: 237ms\tremaining: 197ms\n",
      "273:\tlearn: 67.0299652\ttotal: 238ms\tremaining: 196ms\n",
      "274:\tlearn: 66.8269749\ttotal: 239ms\tremaining: 195ms\n",
      "275:\tlearn: 66.6473738\ttotal: 239ms\tremaining: 194ms\n",
      "276:\tlearn: 66.5896053\ttotal: 240ms\tremaining: 193ms\n",
      "277:\tlearn: 66.3475217\ttotal: 242ms\tremaining: 193ms\n",
      "278:\tlearn: 66.2949248\ttotal: 243ms\tremaining: 192ms\n",
      "279:\tlearn: 65.8505003\ttotal: 244ms\tremaining: 191ms\n",
      "280:\tlearn: 65.7054325\ttotal: 244ms\tremaining: 190ms\n",
      "281:\tlearn: 65.6563114\ttotal: 245ms\tremaining: 189ms\n",
      "282:\tlearn: 65.1152051\ttotal: 246ms\tremaining: 188ms\n",
      "283:\tlearn: 65.0016484\ttotal: 246ms\tremaining: 187ms\n",
      "284:\tlearn: 64.8592135\ttotal: 248ms\tremaining: 187ms\n",
      "285:\tlearn: 64.2616048\ttotal: 248ms\tremaining: 186ms\n",
      "286:\tlearn: 64.2091713\ttotal: 251ms\tremaining: 186ms\n",
      "287:\tlearn: 63.8230195\ttotal: 253ms\tremaining: 186ms\n",
      "288:\tlearn: 63.3548107\ttotal: 254ms\tremaining: 185ms\n",
      "289:\tlearn: 63.0655464\ttotal: 255ms\tremaining: 185ms\n",
      "290:\tlearn: 62.9430786\ttotal: 257ms\tremaining: 185ms\n",
      "291:\tlearn: 62.7630773\ttotal: 259ms\tremaining: 185ms\n",
      "292:\tlearn: 62.7062866\ttotal: 260ms\tremaining: 184ms\n",
      "293:\tlearn: 62.2544559\ttotal: 261ms\tremaining: 183ms\n",
      "294:\tlearn: 61.7409243\ttotal: 263ms\tremaining: 183ms\n",
      "295:\tlearn: 61.2323802\ttotal: 265ms\tremaining: 182ms\n",
      "296:\tlearn: 60.8444601\ttotal: 266ms\tremaining: 182ms\n",
      "297:\tlearn: 60.6799729\ttotal: 267ms\tremaining: 181ms\n",
      "298:\tlearn: 60.2743546\ttotal: 268ms\tremaining: 180ms\n",
      "299:\tlearn: 60.1192569\ttotal: 269ms\tremaining: 179ms\n",
      "300:\tlearn: 59.8115193\ttotal: 269ms\tremaining: 178ms\n",
      "301:\tlearn: 59.7738185\ttotal: 270ms\tremaining: 177ms\n",
      "302:\tlearn: 59.7275400\ttotal: 271ms\tremaining: 176ms\n",
      "303:\tlearn: 59.4185605\ttotal: 272ms\tremaining: 175ms\n",
      "304:\tlearn: 59.3739449\ttotal: 273ms\tremaining: 174ms\n",
      "305:\tlearn: 59.1037010\ttotal: 273ms\tremaining: 173ms\n",
      "306:\tlearn: 59.0623401\ttotal: 274ms\tremaining: 172ms\n",
      "307:\tlearn: 58.8334515\ttotal: 275ms\tremaining: 171ms\n",
      "308:\tlearn: 58.7008075\ttotal: 275ms\tremaining: 170ms\n",
      "309:\tlearn: 58.4241697\ttotal: 277ms\tremaining: 169ms\n",
      "310:\tlearn: 58.3909058\ttotal: 277ms\tremaining: 169ms\n",
      "311:\tlearn: 58.3560202\ttotal: 278ms\tremaining: 168ms\n",
      "312:\tlearn: 58.2244185\ttotal: 279ms\tremaining: 167ms\n",
      "313:\tlearn: 58.1989980\ttotal: 280ms\tremaining: 166ms\n",
      "314:\tlearn: 57.7480707\ttotal: 281ms\tremaining: 165ms\n",
      "315:\tlearn: 57.6045885\ttotal: 282ms\tremaining: 164ms\n",
      "316:\tlearn: 57.3661913\ttotal: 282ms\tremaining: 163ms\n",
      "317:\tlearn: 57.0509648\ttotal: 283ms\tremaining: 162ms\n",
      "318:\tlearn: 57.0192439\ttotal: 284ms\tremaining: 161ms\n",
      "319:\tlearn: 56.9939523\ttotal: 284ms\tremaining: 160ms\n",
      "320:\tlearn: 56.8405228\ttotal: 285ms\tremaining: 159ms\n",
      "321:\tlearn: 56.7420280\ttotal: 286ms\tremaining: 158ms\n",
      "322:\tlearn: 56.4477010\ttotal: 287ms\tremaining: 157ms\n",
      "323:\tlearn: 56.0826853\ttotal: 288ms\tremaining: 156ms\n",
      "324:\tlearn: 56.0624323\ttotal: 289ms\tremaining: 155ms\n",
      "325:\tlearn: 55.8598134\ttotal: 289ms\tremaining: 155ms\n",
      "326:\tlearn: 55.6077885\ttotal: 290ms\tremaining: 154ms\n",
      "327:\tlearn: 55.5141385\ttotal: 291ms\tremaining: 153ms\n",
      "328:\tlearn: 55.1578748\ttotal: 292ms\tremaining: 152ms\n",
      "329:\tlearn: 54.8687586\ttotal: 293ms\tremaining: 151ms\n",
      "330:\tlearn: 54.6149903\ttotal: 293ms\tremaining: 150ms\n",
      "331:\tlearn: 54.3373137\ttotal: 294ms\tremaining: 149ms\n",
      "332:\tlearn: 54.3010723\ttotal: 295ms\tremaining: 148ms\n",
      "333:\tlearn: 54.0034968\ttotal: 296ms\tremaining: 147ms\n",
      "334:\tlearn: 53.4838324\ttotal: 297ms\tremaining: 146ms\n",
      "335:\tlearn: 53.2427876\ttotal: 298ms\tremaining: 145ms\n",
      "336:\tlearn: 52.9841644\ttotal: 298ms\tremaining: 144ms\n",
      "337:\tlearn: 52.7883900\ttotal: 299ms\tremaining: 143ms\n",
      "338:\tlearn: 52.4044440\ttotal: 300ms\tremaining: 143ms\n",
      "339:\tlearn: 52.1002255\ttotal: 301ms\tremaining: 142ms\n",
      "340:\tlearn: 52.0565385\ttotal: 302ms\tremaining: 141ms\n",
      "341:\tlearn: 51.8333144\ttotal: 302ms\tremaining: 140ms\n",
      "342:\tlearn: 51.6373574\ttotal: 303ms\tremaining: 139ms\n",
      "343:\tlearn: 51.5215560\ttotal: 304ms\tremaining: 138ms\n",
      "344:\tlearn: 51.4715068\ttotal: 305ms\tremaining: 137ms\n",
      "345:\tlearn: 51.3708693\ttotal: 306ms\tremaining: 136ms\n",
      "346:\tlearn: 51.3487490\ttotal: 307ms\tremaining: 135ms\n",
      "347:\tlearn: 51.1293205\ttotal: 307ms\tremaining: 134ms\n",
      "348:\tlearn: 50.7968307\ttotal: 308ms\tremaining: 133ms\n",
      "349:\tlearn: 50.4247981\ttotal: 309ms\tremaining: 132ms\n",
      "350:\tlearn: 50.1184662\ttotal: 310ms\tremaining: 132ms\n",
      "351:\tlearn: 50.0158233\ttotal: 311ms\tremaining: 131ms\n",
      "352:\tlearn: 49.8167355\ttotal: 312ms\tremaining: 130ms\n",
      "353:\tlearn: 49.7231504\ttotal: 313ms\tremaining: 129ms\n",
      "354:\tlearn: 49.5735896\ttotal: 313ms\tremaining: 128ms\n",
      "355:\tlearn: 49.3370822\ttotal: 314ms\tremaining: 127ms\n",
      "356:\tlearn: 49.1271597\ttotal: 315ms\tremaining: 126ms\n",
      "357:\tlearn: 48.6671601\ttotal: 316ms\tremaining: 125ms\n",
      "358:\tlearn: 48.5820922\ttotal: 317ms\tremaining: 124ms\n",
      "359:\tlearn: 48.2968035\ttotal: 317ms\tremaining: 123ms\n",
      "360:\tlearn: 48.2725179\ttotal: 318ms\tremaining: 123ms\n",
      "361:\tlearn: 48.2491857\ttotal: 319ms\tremaining: 122ms\n",
      "362:\tlearn: 47.9937707\ttotal: 320ms\tremaining: 121ms\n",
      "363:\tlearn: 47.7546913\ttotal: 321ms\tremaining: 120ms\n",
      "364:\tlearn: 47.6351159\ttotal: 322ms\tremaining: 119ms\n",
      "365:\tlearn: 47.4573219\ttotal: 323ms\tremaining: 118ms\n",
      "366:\tlearn: 47.2461884\ttotal: 323ms\tremaining: 117ms\n",
      "367:\tlearn: 47.0831336\ttotal: 324ms\tremaining: 116ms\n",
      "368:\tlearn: 47.0616046\ttotal: 325ms\tremaining: 115ms\n",
      "369:\tlearn: 46.8167805\ttotal: 326ms\tremaining: 114ms\n",
      "370:\tlearn: 46.7105749\ttotal: 326ms\tremaining: 114ms\n",
      "371:\tlearn: 46.5238776\ttotal: 327ms\tremaining: 113ms\n",
      "372:\tlearn: 46.2028434\ttotal: 328ms\tremaining: 112ms\n",
      "373:\tlearn: 45.9839526\ttotal: 329ms\tremaining: 111ms\n",
      "374:\tlearn: 45.9116724\ttotal: 330ms\tremaining: 110ms\n",
      "375:\tlearn: 45.7320516\ttotal: 330ms\tremaining: 109ms\n",
      "376:\tlearn: 45.4374263\ttotal: 331ms\tremaining: 108ms\n",
      "377:\tlearn: 45.4057546\ttotal: 332ms\tremaining: 107ms\n",
      "378:\tlearn: 45.1327165\ttotal: 333ms\tremaining: 106ms\n",
      "379:\tlearn: 45.0209604\ttotal: 334ms\tremaining: 105ms\n",
      "380:\tlearn: 44.8196593\ttotal: 335ms\tremaining: 105ms\n",
      "381:\tlearn: 44.5039384\ttotal: 335ms\tremaining: 104ms\n",
      "382:\tlearn: 44.2600323\ttotal: 336ms\tremaining: 103ms\n",
      "383:\tlearn: 44.0151561\ttotal: 337ms\tremaining: 102ms\n",
      "384:\tlearn: 43.9556570\ttotal: 338ms\tremaining: 101ms\n",
      "385:\tlearn: 43.9359597\ttotal: 339ms\tremaining: 100ms\n",
      "386:\tlearn: 43.7555080\ttotal: 340ms\tremaining: 99.1ms\n",
      "387:\tlearn: 43.7373019\ttotal: 340ms\tremaining: 98.2ms\n",
      "388:\tlearn: 43.5293640\ttotal: 341ms\tremaining: 97.3ms\n",
      "389:\tlearn: 43.3730365\ttotal: 342ms\tremaining: 96.4ms\n",
      "390:\tlearn: 43.1909656\ttotal: 343ms\tremaining: 95.5ms\n",
      "391:\tlearn: 42.8856830\ttotal: 343ms\tremaining: 94.6ms\n",
      "392:\tlearn: 42.6992411\ttotal: 344ms\tremaining: 93.7ms\n",
      "393:\tlearn: 42.5465749\ttotal: 345ms\tremaining: 92.9ms\n",
      "394:\tlearn: 42.4807979\ttotal: 346ms\tremaining: 92ms\n",
      "395:\tlearn: 42.2916183\ttotal: 347ms\tremaining: 91.1ms\n",
      "396:\tlearn: 42.1037568\ttotal: 347ms\tremaining: 90.1ms\n",
      "397:\tlearn: 41.8981932\ttotal: 348ms\tremaining: 89.3ms\n",
      "398:\tlearn: 41.7248917\ttotal: 349ms\tremaining: 88.4ms\n",
      "399:\tlearn: 41.6301069\ttotal: 350ms\tremaining: 87.5ms\n",
      "400:\tlearn: 41.4400764\ttotal: 351ms\tremaining: 86.6ms\n",
      "401:\tlearn: 41.3090865\ttotal: 352ms\tremaining: 85.7ms\n",
      "402:\tlearn: 41.1301442\ttotal: 352ms\tremaining: 84.8ms\n",
      "403:\tlearn: 41.0443482\ttotal: 353ms\tremaining: 84ms\n",
      "404:\tlearn: 40.8259644\ttotal: 354ms\tremaining: 83.1ms\n",
      "405:\tlearn: 40.7839263\ttotal: 355ms\tremaining: 82.2ms\n",
      "406:\tlearn: 40.5480337\ttotal: 356ms\tremaining: 81.3ms\n",
      "407:\tlearn: 40.3715893\ttotal: 357ms\tremaining: 80.5ms\n",
      "408:\tlearn: 40.0394045\ttotal: 358ms\tremaining: 79.6ms\n",
      "409:\tlearn: 40.0086630\ttotal: 359ms\tremaining: 78.7ms\n",
      "410:\tlearn: 39.8104476\ttotal: 359ms\tremaining: 77.8ms\n",
      "411:\tlearn: 39.7843849\ttotal: 360ms\tremaining: 76.9ms\n",
      "412:\tlearn: 39.5300372\ttotal: 361ms\tremaining: 76ms\n",
      "413:\tlearn: 39.4430130\ttotal: 362ms\tremaining: 75.1ms\n",
      "414:\tlearn: 39.3629631\ttotal: 363ms\tremaining: 74.3ms\n",
      "415:\tlearn: 39.1293840\ttotal: 364ms\tremaining: 73.4ms\n",
      "416:\tlearn: 38.9691684\ttotal: 365ms\tremaining: 72.6ms\n",
      "417:\tlearn: 38.8190384\ttotal: 366ms\tremaining: 71.7ms\n",
      "418:\tlearn: 38.7077834\ttotal: 367ms\tremaining: 70.9ms\n",
      "419:\tlearn: 38.4779254\ttotal: 368ms\tremaining: 70.1ms\n",
      "420:\tlearn: 38.2678683\ttotal: 369ms\tremaining: 69.1ms\n",
      "421:\tlearn: 38.0994389\ttotal: 370ms\tremaining: 68.3ms\n",
      "422:\tlearn: 38.0005916\ttotal: 371ms\tremaining: 67.5ms\n",
      "423:\tlearn: 37.8385180\ttotal: 372ms\tremaining: 66.6ms\n",
      "424:\tlearn: 37.8083452\ttotal: 373ms\tremaining: 65.8ms\n",
      "425:\tlearn: 37.5174336\ttotal: 374ms\tremaining: 64.9ms\n",
      "426:\tlearn: 37.3208834\ttotal: 375ms\tremaining: 64.1ms\n",
      "427:\tlearn: 37.1185556\ttotal: 376ms\tremaining: 63.3ms\n",
      "428:\tlearn: 36.9282531\ttotal: 377ms\tremaining: 62.5ms\n",
      "429:\tlearn: 36.8200949\ttotal: 378ms\tremaining: 61.6ms\n",
      "430:\tlearn: 36.5845945\ttotal: 380ms\tremaining: 60.8ms\n",
      "431:\tlearn: 36.4529306\ttotal: 382ms\tremaining: 60.1ms\n",
      "432:\tlearn: 36.3720600\ttotal: 383ms\tremaining: 59.2ms\n",
      "433:\tlearn: 36.2143120\ttotal: 384ms\tremaining: 58.4ms\n",
      "434:\tlearn: 36.1631312\ttotal: 385ms\tremaining: 57.5ms\n",
      "435:\tlearn: 36.0260171\ttotal: 386ms\tremaining: 56.6ms\n",
      "436:\tlearn: 35.9587903\ttotal: 387ms\tremaining: 55.8ms\n",
      "437:\tlearn: 35.7467530\ttotal: 388ms\tremaining: 54.9ms\n",
      "438:\tlearn: 35.6636162\ttotal: 389ms\tremaining: 54ms\n",
      "439:\tlearn: 35.3997824\ttotal: 390ms\tremaining: 53.1ms\n",
      "440:\tlearn: 35.3553789\ttotal: 391ms\tremaining: 52.2ms\n",
      "441:\tlearn: 35.2699314\ttotal: 391ms\tremaining: 51.4ms\n",
      "442:\tlearn: 35.1306846\ttotal: 393ms\tremaining: 50.5ms\n",
      "443:\tlearn: 34.9610274\ttotal: 393ms\tremaining: 49.6ms\n",
      "444:\tlearn: 34.7856232\ttotal: 394ms\tremaining: 48.7ms\n",
      "445:\tlearn: 34.7614923\ttotal: 395ms\tremaining: 47.8ms\n",
      "446:\tlearn: 34.6543743\ttotal: 396ms\tremaining: 46.9ms\n",
      "447:\tlearn: 34.5959377\ttotal: 397ms\tremaining: 46ms\n",
      "448:\tlearn: 34.5691317\ttotal: 398ms\tremaining: 45.2ms\n",
      "449:\tlearn: 34.4629374\ttotal: 398ms\tremaining: 44.3ms\n",
      "450:\tlearn: 34.3200339\ttotal: 399ms\tremaining: 43.4ms\n",
      "451:\tlearn: 34.1540496\ttotal: 400ms\tremaining: 42.5ms\n",
      "452:\tlearn: 34.0985391\ttotal: 401ms\tremaining: 41.6ms\n",
      "453:\tlearn: 33.9918761\ttotal: 401ms\tremaining: 40.7ms\n",
      "454:\tlearn: 33.8657847\ttotal: 402ms\tremaining: 39.8ms\n",
      "455:\tlearn: 33.8438159\ttotal: 403ms\tremaining: 38.9ms\n",
      "456:\tlearn: 33.7117534\ttotal: 404ms\tremaining: 38ms\n",
      "457:\tlearn: 33.6771055\ttotal: 405ms\tremaining: 37.1ms\n",
      "458:\tlearn: 33.6340909\ttotal: 406ms\tremaining: 36.2ms\n",
      "459:\tlearn: 33.4471051\ttotal: 406ms\tremaining: 35.3ms\n",
      "460:\tlearn: 33.3443100\ttotal: 407ms\tremaining: 34.4ms\n",
      "461:\tlearn: 33.3006352\ttotal: 408ms\tremaining: 33.5ms\n",
      "462:\tlearn: 33.1630995\ttotal: 409ms\tremaining: 32.6ms\n",
      "463:\tlearn: 33.0996695\ttotal: 409ms\tremaining: 31.8ms\n",
      "464:\tlearn: 32.9952267\ttotal: 410ms\tremaining: 30.9ms\n",
      "465:\tlearn: 32.8806709\ttotal: 411ms\tremaining: 30ms\n",
      "466:\tlearn: 32.8402030\ttotal: 412ms\tremaining: 29.1ms\n",
      "467:\tlearn: 32.7515554\ttotal: 413ms\tremaining: 28.2ms\n",
      "468:\tlearn: 32.5705783\ttotal: 413ms\tremaining: 27.3ms\n",
      "469:\tlearn: 32.4509155\ttotal: 414ms\tremaining: 26.4ms\n",
      "470:\tlearn: 32.3653375\ttotal: 415ms\tremaining: 25.6ms\n",
      "471:\tlearn: 32.3354708\ttotal: 416ms\tremaining: 24.7ms\n",
      "472:\tlearn: 32.2452625\ttotal: 417ms\tremaining: 23.8ms\n",
      "473:\tlearn: 32.2128326\ttotal: 418ms\tremaining: 22.9ms\n",
      "474:\tlearn: 32.1039579\ttotal: 419ms\tremaining: 22ms\n",
      "475:\tlearn: 31.9549739\ttotal: 419ms\tremaining: 21.1ms\n",
      "476:\tlearn: 31.7831113\ttotal: 420ms\tremaining: 20.3ms\n",
      "477:\tlearn: 31.6923157\ttotal: 421ms\tremaining: 19.4ms\n",
      "478:\tlearn: 31.5483905\ttotal: 422ms\tremaining: 18.5ms\n",
      "479:\tlearn: 31.5175537\ttotal: 423ms\tremaining: 17.6ms\n",
      "480:\tlearn: 31.4981942\ttotal: 424ms\tremaining: 16.7ms\n",
      "481:\tlearn: 31.4399583\ttotal: 424ms\tremaining: 15.8ms\n",
      "482:\tlearn: 31.3121387\ttotal: 425ms\tremaining: 15ms\n",
      "483:\tlearn: 31.2522235\ttotal: 426ms\tremaining: 14.1ms\n",
      "484:\tlearn: 31.2267889\ttotal: 427ms\tremaining: 13.2ms\n",
      "485:\tlearn: 31.1412081\ttotal: 428ms\tremaining: 12.3ms\n",
      "486:\tlearn: 30.8518019\ttotal: 429ms\tremaining: 11.4ms\n",
      "487:\tlearn: 30.7746221\ttotal: 429ms\tremaining: 10.6ms\n",
      "488:\tlearn: 30.6671436\ttotal: 430ms\tremaining: 9.68ms\n",
      "489:\tlearn: 30.6538437\ttotal: 431ms\tremaining: 8.8ms\n",
      "490:\tlearn: 30.4773758\ttotal: 432ms\tremaining: 7.92ms\n",
      "491:\tlearn: 30.3351390\ttotal: 433ms\tremaining: 7.04ms\n",
      "492:\tlearn: 30.0672228\ttotal: 434ms\tremaining: 6.16ms\n",
      "493:\tlearn: 30.0359966\ttotal: 435ms\tremaining: 5.28ms\n",
      "494:\tlearn: 29.8504506\ttotal: 436ms\tremaining: 4.4ms\n",
      "495:\tlearn: 29.6461509\ttotal: 436ms\tremaining: 3.52ms\n",
      "496:\tlearn: 29.4447781\ttotal: 437ms\tremaining: 2.64ms\n",
      "497:\tlearn: 29.3848746\ttotal: 438ms\tremaining: 1.76ms\n",
      "498:\tlearn: 29.2432694\ttotal: 439ms\tremaining: 879us\n",
      "499:\tlearn: 29.1284294\ttotal: 440ms\tremaining: 0us\n"
     ]
    }
   ],
   "source": [
    "catb_tuned = CatBoostRegressor(depth=3,iterations=500,learning_rate=0.1).fit(X_train,y_train)"
   ]
  },
  {
   "cell_type": "code",
   "execution_count": 193,
   "metadata": {},
   "outputs": [
    {
     "data": {
      "text/plain": [
       "336.40041748521486"
      ]
     },
     "execution_count": 193,
     "metadata": {},
     "output_type": "execute_result"
    }
   ],
   "source": [
    "y_pred = catb_tuned.predict(X_test)\n",
    "np.sqrt(mean_squared_error(y_pred,y_test))"
   ]
  },
  {
   "cell_type": "markdown",
   "metadata": {},
   "source": [
    "## Makine Öğrenmesi Görevlerinin Otomatikleştirilmesi\n"
   ]
  },
  {
   "cell_type": "code",
   "execution_count": 195,
   "metadata": {},
   "outputs": [],
   "source": [
    "df=pd.read_csv(\"reading_data/Hitters.csv\")\n",
    "df=df.dropna()\n",
    "dms=pd.get_dummies(df[[\"League\",\"Division\",\"NewLeague\"]])"
   ]
  },
  {
   "cell_type": "code",
   "execution_count": 204,
   "metadata": {},
   "outputs": [],
   "source": [
    "def compML(df,y,alg):\n",
    "    #train-test split\n",
    "    y=df[y]\n",
    "    X_=df.drop([\"Salary\",\"League\",\"Division\",\"NewLeague\"],axis=1).astype(\"float64\")\n",
    "    X=pd.concat([X_,dms[[\"League_N\",\"Division_W\",\"NewLeague_N\"]]],axis=1)\n",
    "    X_train,X_test,y_train,y_test=train_test_split(X,y,test_size=0.25,random_state=42)\n",
    "    #modelleme\n",
    "    model = alg().fit(X_train,y_train)\n",
    "    y_pred = model.predict(X_test)\n",
    "    RMSE=np.sqrt(mean_squared_error(y_pred,y_test))\n",
    "    model_ismi =alg.__name__\n",
    "    print(model_ismi,\":\",RMSE)"
   ]
  },
  {
   "cell_type": "code",
   "execution_count": 205,
   "metadata": {},
   "outputs": [
    {
     "name": "stdout",
     "output_type": "stream",
     "text": [
      "LGBMRegressor : 363.8712087611089\n"
     ]
    }
   ],
   "source": [
    "compML(df,\"Salary\",LGBMRegressor)"
   ]
  },
  {
   "cell_type": "code",
   "execution_count": 200,
   "metadata": {},
   "outputs": [
    {
     "data": {
      "text/plain": [
       "460.0032657244849"
      ]
     },
     "execution_count": 200,
     "metadata": {},
     "output_type": "execute_result"
    }
   ],
   "source": [
    "compML(df,\"Salary\",SVR)"
   ]
  },
  {
   "cell_type": "code",
   "execution_count": 201,
   "metadata": {},
   "outputs": [],
   "source": [
    "models = [LGBMRegressor,\n",
    "         XGBRegressor,\n",
    "         GradientBoostingRegressor,\n",
    "         RandomForestRegressor,\n",
    "         DecisionTreeRegressor,\n",
    "         MLPRegressor,\n",
    "         KNeighborsRegressor,\n",
    "         SVR]"
   ]
  },
  {
   "cell_type": "code",
   "execution_count": 207,
   "metadata": {},
   "outputs": [
    {
     "name": "stdout",
     "output_type": "stream",
     "text": [
      "LGBMRegressor : 363.8712087611089\n",
      "XGBRegressor : 355.4651481224188\n",
      "GradientBoostingRegressor : 347.09288361507424\n",
      "RandomForestRegressor : 339.8332183580334\n",
      "DecisionTreeRegressor : 519.6253139099073\n",
      "MLPRegressor : 345.5028498185792\n",
      "KNeighborsRegressor : 426.6570764525201\n",
      "SVR : 460.0032657244849\n"
     ]
    }
   ],
   "source": [
    "for i in models:\n",
    "    compML(df,\"Salary\",i)"
   ]
  },
  {
   "cell_type": "code",
   "execution_count": null,
   "metadata": {},
   "outputs": [],
   "source": []
  }
 ],
 "metadata": {
  "kernelspec": {
   "display_name": "Python 3",
   "language": "python",
   "name": "python3"
  },
  "language_info": {
   "codemirror_mode": {
    "name": "ipython",
    "version": 3
   },
   "file_extension": ".py",
   "mimetype": "text/x-python",
   "name": "python",
   "nbconvert_exporter": "python",
   "pygments_lexer": "ipython3",
   "version": "3.7.6"
  }
 },
 "nbformat": 4,
 "nbformat_minor": 4
}
